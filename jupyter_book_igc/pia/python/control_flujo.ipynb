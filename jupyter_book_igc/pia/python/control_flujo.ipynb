{
 "cells": [
  {
   "cell_type": "markdown",
   "metadata": {},
   "source": [
    "# Control de flujo, estructuras condicionales, iterativas, operaciones min-max, random...\n",
    "\n"
   ]
  },
  {
   "cell_type": "markdown",
   "metadata": {},
   "source": [
    "## Operadores de comparación"
   ]
  },
  {
   "cell_type": "code",
   "execution_count": 16,
   "metadata": {},
   "outputs": [
    {
     "name": "stdout",
     "output_type": "stream",
     "text": [
      "False <class 'bool'>\n",
      "True <class 'bool'>\n",
      "False\n",
      "True\n",
      "False\n",
      "True\n",
      "True\n",
      "False\n",
      "True\n"
     ]
    }
   ],
   "source": [
    "mi_bool = 10 == 25\n",
    "print(mi_bool, type(mi_bool))\n",
    "mi_bool = 5+5 == 18-8\n",
    "print(mi_bool, type(mi_bool))\n",
    "\n",
    "mi_bool = 'blanco' == 'negro'\n",
    "print(mi_bool)\n",
    "\n",
    "mi_bool = 'blanco' == 'Blanco'.lower()\n",
    "print(mi_bool)\n",
    "\n",
    "mi_bool = '100' == 100\n",
    "print(mi_bool)\n",
    "\n",
    "mi_bool = 100 == 100.0\n",
    "print(mi_bool)\n",
    "\n",
    "mi_bool = 100 != 99\n",
    "print(mi_bool)\n",
    "\n",
    "mi_bool = 5 > 5\n",
    "print(mi_bool)\n",
    "\n",
    "mi_bool = 5 >= 5\n",
    "print(mi_bool)"
   ]
  },
  {
   "cell_type": "markdown",
   "metadata": {},
   "source": [
    "## Operadores lógicos"
   ]
  },
  {
   "cell_type": "code",
   "execution_count": 17,
   "metadata": {},
   "outputs": [
    {
     "name": "stdout",
     "output_type": "stream",
     "text": [
      "True\n",
      "True\n",
      "True\n",
      "True\n",
      "False\n"
     ]
    }
   ],
   "source": [
    "mi_bool = 4 < 5 < 6\n",
    "print(mi_bool)\n",
    "\n",
    "mi_bool = 4 < 5 and 'perro' == 'perro'\n",
    "print(mi_bool)\n",
    "\n",
    "mi_bool = 10 == 10 or 5 == 3\n",
    "print(mi_bool)\n",
    "\n",
    "texto = \"Esta frase es breve\"\n",
    "mi_bool = ('frase' in texto) or ('python' in texto)\n",
    "print(mi_bool)\n",
    "\n",
    "mi_bool = not ('a' == 'a')\n",
    "print(mi_bool)"
   ]
  },
  {
   "cell_type": "markdown",
   "metadata": {},
   "source": [
    "## Control de flujo\n"
   ]
  },
  {
   "cell_type": "code",
   "execution_count": 18,
   "metadata": {},
   "outputs": [
    {
     "name": "stdout",
     "output_type": "stream",
     "text": [
      "No es correcto\n",
      "No sé qué animal tienes\n",
      "Eres menor de edad\n",
      "Aprobado\n"
     ]
    }
   ],
   "source": [
    "x = False\n",
    "if x:\n",
    "    print('Es correcto')\n",
    "else:\n",
    "    print('No es correcto')\n",
    "\n",
    "mascota = 'tardígrado'\n",
    "if mascota == 'gato':\n",
    "    print('Tienes un gato')\n",
    "elif mascota == 'perro':\n",
    "    print('Tienes un perro')\n",
    "elif mascota == 'pez':\n",
    "    print('Tienes un pez')\n",
    "else:\n",
    "    print('No sé qué animal tienes')\n",
    "\n",
    "edad = 16\n",
    "calificacion = 9\n",
    "if edad < 18:\n",
    "    print('Eres menor de edad')\n",
    "    if calificacion > 7:\n",
    "        print('Aprobado')\n",
    "else:\n",
    "    print('Eres adulto')"
   ]
  },
  {
   "cell_type": "markdown",
   "metadata": {},
   "source": [
    "## Bucle for"
   ]
  },
  {
   "cell_type": "code",
   "execution_count": 19,
   "metadata": {},
   "outputs": [
    {
     "name": "stdout",
     "output_type": "stream",
     "text": [
      "La letra 1 es a\n",
      "La letra 2 es b\n",
      "La letra 3 es c\n",
      "Nombre que no comienza con l\n",
      "laura\n",
      "Nombre que no comienza con l\n",
      "Nombre que no comienza con l\n",
      "15\n",
      "p\n",
      "y\n",
      "t\n",
      "h\n",
      "o\n",
      "n\n",
      " \n",
      "e\n",
      "s\n",
      " \n",
      "g\n",
      "e\n",
      "n\n",
      "i\n",
      "a\n",
      "l\n",
      "1\n",
      "2\n",
      "3\n",
      "1 2\n",
      "3 4\n",
      "5 6\n",
      "c1\n",
      "c2\n",
      "c3\n",
      "c1 a\n",
      "c2 b\n",
      "c3 c\n",
      "a\n",
      "b\n",
      "c\n",
      "c1\n",
      "c2\n",
      "c3\n"
     ]
    }
   ],
   "source": [
    "lista = ['a', 'b', 'c']\n",
    "for letra in lista:\n",
    "    numero_letra = lista.index(letra)\n",
    "    print(f\"La letra {numero_letra+1} es {letra}\")\n",
    "\n",
    "lista = ['pablo', 'laura', 'alonso', 'inma']\n",
    "for nombre in lista:\n",
    "    if nombre.startswith('l'):\n",
    "        print(nombre)\n",
    "    else:\n",
    "        print('Nombre que no comienza con l')\n",
    "\n",
    "numeros = [1, 2, 3, 4, 5]\n",
    "mi_valor = 0\n",
    "\n",
    "for n in numeros:\n",
    "    mi_valor += n  # Acumulador\n",
    "\n",
    "print(mi_valor)\n",
    "\n",
    "palabra = 'python es genial'\n",
    "for letra in palabra:\n",
    "    print(letra)\n",
    "\n",
    "for elem in (1, 2, 3):\n",
    "    print(elem)\n",
    "\n",
    "for x, y in [[1, 2], [3, 4], [5, 6]]:\n",
    "    print(x, y)\n",
    "\n",
    "dic = {'c1': 'a', 'c2': 'b', 'c3': 'c'}\n",
    "for item in dic:\n",
    "    print(item)  # Imprime sólo las claves\n",
    "\n",
    "for clave, valor in dic.items():\n",
    "    print(clave, valor)\n",
    "\n",
    "for value in dic.values():\n",
    "    print(value)\n",
    "\n",
    "for key in dic.keys():\n",
    "    print(key)"
   ]
  },
  {
   "cell_type": "markdown",
   "metadata": {},
   "source": [
    "## Range"
   ]
  },
  {
   "cell_type": "code",
   "execution_count": 20,
   "metadata": {},
   "outputs": [
    {
     "name": "stdout",
     "output_type": "stream",
     "text": [
      "1\n",
      "2\n",
      "3\n",
      "4\n",
      "1\n",
      "2\n",
      "3\n",
      "4\n",
      "20\n",
      "25\n",
      "30\n",
      "[1, 2, 3, 4, 5, 6, 7, 8, 9, 10, 11, 12, 13, 14, 15, 16, 17, 18, 19, 20, 21, 22, 23, 24, 25, 26, 27, 28, 29, 30, 31, 32, 33, 34, 35, 36, 37, 38, 39, 40, 41, 42, 43, 44, 45, 46, 47, 48, 49, 50, 51, 52, 53, 54, 55, 56, 57, 58, 59, 60, 61, 62, 63, 64, 65, 66, 67, 68, 69, 70, 71, 72, 73, 74, 75, 76, 77, 78, 79, 80, 81, 82, 83, 84, 85, 86, 87, 88, 89, 90, 91, 92, 93, 94, 95, 96, 97, 98, 99, 100]\n"
     ]
    }
   ],
   "source": [
    "lista = [1, 2, 3, 4]\n",
    "for numero in lista:\n",
    "    print(numero)\n",
    "\n",
    "for numero in range(1, 5):  # El rango irá desde 1 hasta 4\n",
    "    print(numero)\n",
    "\n",
    "for numero in range(20, 31, 5):\n",
    "    print(numero)\n",
    "\n",
    "lista = list(range(1, 101))  # Crearía una lista del 1 al 100\n",
    "print(lista)"
   ]
  },
  {
   "cell_type": "markdown",
   "metadata": {},
   "source": [
    "## Bucle while\n",
    "```python\n",
    "monedas = 5\n",
    "while monedas > 0:\n",
    "    print(f\"Tengo {monedas}  monedas\")\n",
    "    monedas -= 1\n",
    "else:\n",
    "    print(\"No tengo más dinero\")  # esto lo ejecuta al salir y no es necesario\n",
    "\n",
    "respuesta = 's'\n",
    "while respuesta == 's':\n",
    "    respuesta = input('Quieres seguir (s/n)?: ')\n",
    "else:\n",
    "    print(\"Gracias\")\n",
    "\n",
    "respuesta = 's'\n",
    "while respuesta != 's':\n",
    "    pass  # Como programador, puedo poner pass hasta que implemente este bloque porque necesita 1 instrucción.\n",
    "else:\n",
    "    print(\"Gracias\")\n",
    "\n",
    "nombre = input(\"Tu nombre: \")\n",
    "for letra in nombre:\n",
    "    if letra == 'n':\n",
    "        break\n",
    "    print(letra)\n",
    "\n",
    "\n",
    "nombre = input(\"Tu nombre: \")\n",
    "for letra in nombre:\n",
    "    if letra == 'n':\n",
    "        continue\n",
    "    print(letra)\n",
    "    ```"
   ]
  },
  {
   "cell_type": "markdown",
   "metadata": {},
   "source": [
    "## Match"
   ]
  },
  {
   "cell_type": "code",
   "execution_count": 5,
   "metadata": {},
   "outputs": [
    {
     "name": "stdout",
     "output_type": "stream",
     "text": [
      "Samsung\n",
      "Samsung\n",
      "Actriz: Alicia Wilkander con 34 años y cuyo país de nacimiento es Suecia\n",
      "Película: Ex machina, Año: 2014, Director: Alex Garland, Género: Ciencia ficción\n",
      "Elemento distinto: Sorpresa\n"
     ]
    }
   ],
   "source": [
    "# Coincidencias de patrones estructurales\n",
    "serie = \"N-01\"\n",
    "if serie == \"N-01\":\n",
    "    print(\"Samsung\")\n",
    "elif serie == \"N-02\":\n",
    "    print(\"Nokia\")\n",
    "elif serie == \"N-03\":\n",
    "    print(\"Motorola\")\n",
    "else:\n",
    "    print(\"No existe ese producto\")\n",
    "\n",
    "match serie:\n",
    "    case \"N-01\":\n",
    "        print(\"Samsung\")\n",
    "    case \"N-02\":\n",
    "        print(\"Nokia\")\n",
    "    case \"N-03\":\n",
    "        print(\"Motorola\")\n",
    "    case _:\n",
    "        print(\"No existe ese producto\")\n",
    "\n",
    "actor = {\n",
    "    'nombre': 'Alicia Wilkander',\n",
    "    'edad': 34,\n",
    "    'pais_nacimiento': 'Suecia'\n",
    "}\n",
    "pelicula = {\n",
    "    'titulo': 'Ex machina',\n",
    "    'ficha_tecnica': {'anio': 2014, 'director': 'Alex Garland', 'genero': 'Ciencia ficción'}\n",
    "}\n",
    "\n",
    "el = [actor, pelicula, 'Sorpresa']\n",
    "for e in el:\n",
    "    match e:\n",
    "        case {'nombre': nombre,\n",
    "              'edad': edad,\n",
    "              'pais_nacimiento': pais_nacimiento}:\n",
    "            print(f'Actriz: {nombre} con {edad} años y cuyo país de nacimiento es {pais_nacimiento}')\n",
    "        case {'titulo': titulo,\n",
    "              'ficha_tecnica': {'anio': anio, 'director': director, 'genero': genero}}:\n",
    "            print(f'Película: {titulo}, Año: {anio}, Director: {director}, Género: {genero}')\n",
    "        case _:\n",
    "            print(f'Elemento distinto: {e}')"
   ]
  },
  {
   "cell_type": "markdown",
   "metadata": {},
   "source": [
    "## Enumeradores"
   ]
  },
  {
   "cell_type": "code",
   "execution_count": 3,
   "metadata": {},
   "outputs": [
    {
     "name": "stdout",
     "output_type": "stream",
     "text": [
      "0 a\n",
      "1 b\n",
      "2 c\n",
      "(0, 'a')\n",
      "(1, 'b')\n",
      "(2, 'c')\n",
      "0 a\n",
      "1 b\n",
      "2 c\n",
      "0 50\n",
      "1 51\n",
      "2 52\n",
      "3 53\n",
      "4 54\n",
      "[(0, 'a'), (1, 'b'), (2, 'c')]\n",
      "1\n"
     ]
    }
   ],
   "source": [
    "lista = ['a', 'b', 'c']\n",
    "indice = 0\n",
    "\n",
    "for item in lista:\n",
    "    print(indice, item)\n",
    "    indice += 1\n",
    "\n",
    "for item in enumerate(lista):\n",
    "    print(item)\n",
    "\n",
    "for indice, item in enumerate(lista):\n",
    "    print(indice, item)\n",
    "\n",
    "for indice, item in enumerate(range(50, 55)):\n",
    "    print(indice, item)\n",
    "\n",
    "mis_tuples = list(enumerate(lista))\n",
    "print(mis_tuples)\n",
    "print(mis_tuples[1][0])"
   ]
  },
  {
   "cell_type": "markdown",
   "metadata": {},
   "source": [
    "## Compresión de listas"
   ]
  },
  {
   "cell_type": "code",
   "execution_count": 1,
   "metadata": {},
   "outputs": [
    {
     "name": "stdout",
     "output_type": "stream",
     "text": [
      "['p', 'y', 't', 'h', 'o', 'n']\n",
      "[0.0, 1.0, 2.0, 3.0, 4.0, 5.0, 6.0, 7.0, 8.0, 9.0, 10.0]\n",
      "[6, 8, 10, 12, 14, 16, 18, 20]\n",
      "['no', 'no', 'no', 6, 8, 10, 12, 14, 16, 18, 20]\n",
      "Pulgadas: [10, 20, 30, 40, 50]\n",
      "Centimetros: [25.4, 50.8, 76.2, 101.6, 127.0]\n"
     ]
    }
   ],
   "source": [
    "palabra = \"python\"\n",
    "lista = [letra for letra in palabra]\n",
    "\n",
    "# for letra in palabra:\n",
    "#    lista.append(letra)\n",
    "\n",
    "print(lista)\n",
    "\n",
    "lista = [n/2 for n in range(0, 21, 2)]\n",
    "print(lista)\n",
    "\n",
    "lista = [n for n in range(0, 21, 2) if n * 2 > 10]\n",
    "print(lista)\n",
    "\n",
    "lista = [n if n * 2 > 10 else 'no' for n in range(0, 21, 2)]\n",
    "print(lista)\n",
    "\n",
    "# El coste de esto es la legibilidad pero es muy eficiente\n",
    "\n",
    "pulgadas = [10, 20, 30, 40, 50]\n",
    "centimetros = [p*2.54 for p in pulgadas]\n",
    "print(f'Pulgadas: {pulgadas}')\n",
    "print(f'Centimetros: {centimetros}')"
   ]
  },
  {
   "cell_type": "markdown",
   "metadata": {},
   "source": [
    "## Min y Max"
   ]
  },
  {
   "cell_type": "code",
   "execution_count": 6,
   "metadata": {},
   "outputs": [
    {
     "name": "stdout",
     "output_type": "stream",
     "text": [
      "35 <built-in function max>\n",
      "El menor es 35 y el mayor es 96\n",
      "Abraham\n",
      "C\n",
      "a\n",
      "c1\n",
      "11\n"
     ]
    }
   ],
   "source": [
    "menor = min(58, 96, 64, 35)\n",
    "mayor = max(58, 96, 64, 35)\n",
    "\n",
    "print(menor, max)\n",
    "\n",
    "lista = [58, 96, 64, 35]\n",
    "print(f'El menor es {min(lista)} y el mayor es {max(lista)}')\n",
    "\n",
    "nombres = ['Enrique', 'Fernando', 'Chad', 'Abraham', 'Alonso']\n",
    "print(min(nombres))\n",
    "\n",
    "nombre = 'Carlos'\n",
    "print(min(nombre))\n",
    "nombre = nombre.lower()\n",
    "print(min(nombre))\n",
    "\n",
    "dic = {'c1': 45, 'c2': 11}\n",
    "print(min(dic))  # Ordena por defecto las claves\n",
    "print(min(dic.values()))"
   ]
  },
  {
   "cell_type": "markdown",
   "metadata": {},
   "source": [
    "## Random"
   ]
  },
  {
   "cell_type": "code",
   "execution_count": 15,
   "metadata": {},
   "outputs": [
    {
     "name": "stdout",
     "output_type": "stream",
     "text": [
      "32\n",
      "29.17\n",
      "0.10629328198969445\n",
      "verde\n",
      "[5, 10, 15, 20, 25, 30, 35, 40, 45]\n",
      "[35, 20, 40, 5, 15, 30, 25, 45, 10]\n"
     ]
    }
   ],
   "source": [
    "from random import *\n",
    "\n",
    "aleatorio = randint(1, 50)\n",
    "print(aleatorio)\n",
    "\n",
    "aleatorio = round(uniform(1, 50), 2)  # Esta vez me devuelve un decimal que puedo redondear\n",
    "print(aleatorio)\n",
    "\n",
    "aleatorio = random()  # Fracción de un entero (aleatorio entre 0 y 1)\n",
    "print(aleatorio)\n",
    "\n",
    "colores = ['rojo', 'verde', 'azul', 'amarillo']\n",
    "aleatorio = choice(colores)\n",
    "print(aleatorio)\n",
    "\n",
    "numeros = list(range(5, 50, 5))\n",
    "print(numeros)\n",
    "shuffle(numeros)  # Podría servirnos por ejemplo en un juego de cartas\n",
    "print(numeros)"
   ]
  },
  {
   "cell_type": "markdown",
   "metadata": {},
   "source": [
    "## Operador Zip"
   ]
  },
  {
   "cell_type": "code",
   "execution_count": 14,
   "metadata": {},
   "outputs": [
    {
     "name": "stdout",
     "output_type": "stream",
     "text": [
      "[('Enrique', 65), ('Abraham', 34), ('Alonso', 42)]\n",
      "[('Enrique', 65), ('Abraham', 34), ('Alonso', 42)]\n",
      "[('Enrique', 65, 'Madrid'), ('Abraham', 34, 'Córdoba'), ('Alonso', 42, 'Sevilla')]\n",
      "Enrique tiene 65 años y vive en Madrid\n",
      "Abraham tiene 34 años y vive en Córdoba\n",
      "Alonso tiene 42 años y vive en Sevilla\n"
     ]
    }
   ],
   "source": [
    "nombres = ['Enrique', 'Abraham', 'Alonso']\n",
    "edades = [65, 34, 42]\n",
    "ciudades = ['Madrid', 'Córdoba', 'Sevilla']\n",
    "combinados = list(zip(nombres, edades))  # Si no le hago un cast no puedo ver su contenido\n",
    "print(combinados)\n",
    "\n",
    "edades.append(45)\n",
    "combinados = list(zip(nombres, edades))\n",
    "print(combinados)  # Llega al máximo de la longitud de la lista más corta\n",
    "\n",
    "combinados = list(zip(nombres, edades, ciudades))\n",
    "print(combinados)\n",
    "\n",
    "for nombre, edad, ciudad in combinados:\n",
    "    print(f\"{nombre} tiene {edad} años y vive en {ciudad}\")"
   ]
  },
  {
   "cell_type": "markdown",
   "metadata": {},
   "source": [
    "## Ejercicio propuesto\n",
    "Desarrolla un programa que implemente el famoso juego del **Ahorcado**, un juego en el que el jugador tiene que adivinar una palabra letra por letra antes de agotar un número determinado de intentos.\n",
    "\n",
    "**Instrucciones**:\n",
    "- El juego seleccionará una palabra aleatoriamente de una lista predefinida.\n",
    "- El jugador tendrá un número limitado de intentos (por ejemplo 6) para adivinar la palabra letra por letra.\n",
    "- El jugador deberá introducir una letra en cada intento.\n",
    "- Si la letra está en la palabra, se revelarán todas las posiciones donde aparece.\n",
    "- Si la letra no está en la palabra, se perderá un intento.\n",
    "- El juego termina cuando:\n",
    "  - El jugador adivina correctamente la palabra (gana)\n",
    "  - El jugador agota todos los intentos sin adivinar la palabra (pierde)\n",
    "- La palabra seleccionada al azar debe mostrarse como guiones bajos `_` que representen las letras no adivinadas. Por ejemplo, si la palabra es `python`, se verá como `_ _ _ _ _ _`\n",
    "- Si el jugador adivina una letra correctamente, el guión correspondiente a esa letra será reemplazado por la letra adivinada.\n",
    "- El jugador puede intentar adivinar letra varias veces, pero no debe contar como intento fallido si ya ha adivinado esa letra.\n",
    "- Al finalizar el juego, el programa debe indicar si el jugador ganó o perdió y mostrar la palabra correcta si pierde.\n",
    "\n",
    "```bash\n",
    "¡Bienvenido al juego del Ahorcado!\n",
    "Palabra: _ _ _ _ _\n",
    "Intentos restantes: 6\n",
    "Letras adivinadas: []\n",
    "\n",
    "Introduce una letra: p\n",
    "¡Correcto! La letra 'p' está en la palabra.\n",
    "Palabra: p _ _ _ _\n",
    "Intentos restantes: 6\n",
    "Letras adivinadas: ['p']\n",
    "\n",
    "Introduce una letra: x\n",
    "Lo siento, la letra 'x' no está en la palabra.\n",
    "Palabra: p _ _ _ _\n",
    "Intentos restantes: 5\n",
    "Letras adivinadas: ['p', 'x']\n",
    "```\n"
   ]
  }
 ],
 "metadata": {
  "kernelspec": {
   "display_name": "Python 3",
   "language": "python",
   "name": "python3"
  },
  "language_info": {
   "codemirror_mode": {
    "name": "ipython",
    "version": 3
   },
   "file_extension": ".py",
   "mimetype": "text/x-python",
   "name": "python",
   "nbconvert_exporter": "python",
   "pygments_lexer": "ipython3",
   "version": "3.12.6"
  }
 },
 "nbformat": 4,
 "nbformat_minor": 2
}
