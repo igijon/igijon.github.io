{
 "cells": [
  {
   "cell_type": "markdown",
   "metadata": {},
   "source": [
    "# Strings, listas, diccionarios, tuplas, sets\n",
    "\n",
    "https://github.com/igijon/python_bases/tree/main/2_Strings_Listas_Diccionarios_Mas"
   ]
  },
  {
   "cell_type": "markdown",
   "metadata": {},
   "source": [
    "## Strings\n",
    "### Propiedades"
   ]
  },
  {
   "cell_type": "code",
   "execution_count": 13,
   "metadata": {},
   "outputs": [
    {
     "name": "stdout",
     "output_type": "stream",
     "text": [
      "Carina\n",
      "Karina\n",
      "Karina\n",
      "KariKariKariKariKariKariKariKariKariKari\n",
      "Mil pequeños peces blancos\n",
      "        como si hirviera\n",
      "        el color del agua\n",
      "True\n",
      "False\n",
      "77\n"
     ]
    }
   ],
   "source": [
    "nombre = \"Carina\"\n",
    "# nombre[0]=\"K\" #Dará un error por inmutable\n",
    "print(nombre)\n",
    "nombre = \"Karina\"  # Esto sí porque cambio el contenido de la variable\n",
    "print(nombre)\n",
    "\n",
    "n1 = \"Kari\"\n",
    "n2 = \"na\"\n",
    "print(n1 + n2)\n",
    "\n",
    "print(n1 * 10)\n",
    "\n",
    "poema = \"\"\"Mil pequeños peces blancos\n",
    "        como si hirviera\n",
    "        el color del agua\"\"\"\n",
    "\n",
    "print(poema)\n",
    "\n",
    "print(\"agua\" in poema)\n",
    "print(\"agua\" not in poema)\n",
    "print(len(poema))"
   ]
  },
  {
   "cell_type": "markdown",
   "metadata": {},
   "source": [
    "### Métodos"
   ]
  },
  {
   "cell_type": "code",
   "execution_count": 14,
   "metadata": {},
   "outputs": [
    {
     "name": "stdout",
     "output_type": "stream",
     "text": [
      "Este es el texto de prueba\n",
      "ESTE ES EL TEXTO DE PRUEBA\n",
      "T\n",
      "este es el texto de prueba\n",
      "['Este', 'es', 'el', 'texto', 'de', 'prueba']\n",
      "['Es', 'e es el ', 'ex', 'o de prueba']\n",
      "Aprender Python es genial\n",
      "Aprender-Python-es-genial\n",
      "1\n",
      "11\n",
      "Este es el texto de ejemplo\n",
      "Este es el texto de pxueba\n"
     ]
    }
   ],
   "source": [
    "texto = \"Este es el texto de prueba\"\n",
    "resultado = texto\n",
    "print(resultado)\n",
    "\n",
    "resultado = texto.upper()\n",
    "print(resultado)\n",
    "\n",
    "resultado = texto[2].upper()\n",
    "print(resultado)\n",
    "\n",
    "resultado = texto.lower()\n",
    "print(resultado)\n",
    "\n",
    "resultado = texto.split()\n",
    "print(resultado)\n",
    "\n",
    "resultado = texto.split(\"t\")\n",
    "print(resultado)\n",
    "\n",
    "a = \"Aprender\"\n",
    "b = \"Python\"\n",
    "c = \"es\"\n",
    "d = \"genial\"\n",
    "e = \" \".join([a, b, c, d])\n",
    "print(e)\n",
    "\n",
    "f = \"-\".join([a, b, c, d])\n",
    "print(f)\n",
    "\n",
    "resultado = texto.find(\"s\")  # Similar pero si el carácter no existe, no falla... da -1\n",
    "print(resultado)\n",
    "\n",
    "resultado = texto.find(\"texto\")\n",
    "print(resultado)\n",
    "\n",
    "resultado = texto.replace(\"prueba\", \"ejemplo\")\n",
    "print(resultado)\n",
    "\n",
    "resultado = texto.replace(\"r\", \"x\")\n",
    "print(resultado)"
   ]
  },
  {
   "cell_type": "markdown",
   "metadata": {},
   "source": [
    "### Substring"
   ]
  },
  {
   "cell_type": "code",
   "execution_count": 15,
   "metadata": {},
   "outputs": [
    {
     "name": "stdout",
     "output_type": "stream",
     "text": [
      "CDE\n",
      "CDEFGHIJKLMNÑOPQRSTUVWXYZ\n",
      "ABCDE\n",
      "CEGI\n",
      "ADGJMORUX\n",
      "ZYXWVUTSRQPOÑNMLKJIHGFEDCBA\n"
     ]
    }
   ],
   "source": [
    "texto = \"ABCDEFGHIJKLMNÑOPQRSTUVWXYZ\"\n",
    "fragmento = texto[2:5]  # Va desde el índice 2 hasta el 5 sin incluir\n",
    "print(fragmento)\n",
    "\n",
    "fragmento = texto[2:]\n",
    "print(fragmento)\n",
    "\n",
    "fragmento = texto[:5]\n",
    "print(fragmento)\n",
    "\n",
    "fragmento = texto[2:10:2]  # Extraerá cada dos caracteres\n",
    "print(fragmento)\n",
    "\n",
    "fragmento = texto[::3]\n",
    "print(fragmento)\n",
    "\n",
    "fragmento = texto[::-1]  # Obtenemos la cadena al revés\n",
    "print(fragmento)"
   ]
  },
  {
   "cell_type": "markdown",
   "metadata": {},
   "source": [
    "### Index"
   ]
  },
  {
   "cell_type": "code",
   "execution_count": 16,
   "metadata": {},
   "outputs": [
    {
     "name": "stdout",
     "output_type": "stream",
     "text": [
      "E\n",
      "u\n",
      "9\n",
      "3\n",
      "10\n",
      "17\n"
     ]
    },
    {
     "ename": "ValueError",
     "evalue": "substring not found",
     "output_type": "error",
     "traceback": [
      "\u001b[0;31m---------------------------------------------------------------------------\u001b[0m",
      "\u001b[0;31mValueError\u001b[0m                                Traceback (most recent call last)",
      "Cell \u001b[0;32mIn[16], line 19\u001b[0m\n\u001b[1;32m     16\u001b[0m resultado \u001b[38;5;241m=\u001b[39m mi_texto\u001b[38;5;241m.\u001b[39mrindex(\u001b[38;5;124m\"\u001b[39m\u001b[38;5;124ma\u001b[39m\u001b[38;5;124m\"\u001b[39m)  \u001b[38;5;66;03m# Busca de derecha a izquierda\u001b[39;00m\n\u001b[1;32m     17\u001b[0m \u001b[38;5;28mprint\u001b[39m(resultado)\n\u001b[0;32m---> 19\u001b[0m resultado \u001b[38;5;241m=\u001b[39m \u001b[43mmi_texto\u001b[49m\u001b[38;5;241;43m.\u001b[39;49m\u001b[43mindex\u001b[49m\u001b[43m(\u001b[49m\u001b[38;5;124;43m\"\u001b[39;49m\u001b[38;5;124;43mx\u001b[39;49m\u001b[38;5;124;43m\"\u001b[39;49m\u001b[43m)\u001b[49m\n\u001b[1;32m     20\u001b[0m \u001b[38;5;28mprint\u001b[39m(resultado)\n",
      "\u001b[0;31mValueError\u001b[0m: substring not found"
     ]
    }
   ],
   "source": [
    "mi_texto = \"Esta es una prueba\"\n",
    "resultado = mi_texto[0]\n",
    "print(resultado)\n",
    "resultado = mi_texto[-4]\n",
    "print(resultado)\n",
    "\n",
    "resultado = mi_texto.index(\"n\")\n",
    "print(resultado)\n",
    "\n",
    "resultado = mi_texto.index(\"a\")\n",
    "print(resultado)  # Me da la primera ocurrencia de izquierda a derecha\n",
    "\n",
    "resultado = mi_texto.index(\"a\", 5, 12)  # Busco desde el índice 5 hasta el índice 11 incluído\n",
    "print(resultado)\n",
    "\n",
    "resultado = mi_texto.rindex(\"a\")  # Busca de derecha a izquierda\n",
    "print(resultado)\n",
    "\n",
    "resultado = mi_texto.index(\"x\")\n",
    "print(resultado)"
   ]
  },
  {
   "cell_type": "markdown",
   "metadata": {},
   "source": [
    "## Listas"
   ]
  },
  {
   "cell_type": "code",
   "execution_count": 17,
   "metadata": {},
   "outputs": [
    {
     "name": "stdout",
     "output_type": "stream",
     "text": [
      "<class 'list'>\n",
      "4\n",
      "['a', 'b', 'c', 'd']\n",
      "['a', 'b', 'c', 'd', 'd', 'e', 'f']\n",
      "['a', 'b', 'c', 'd', 'd', 'e', 'f']\n",
      "['alfa', 'b', 'c', 'd', 'd', 'e', 'f']\n",
      "['alfa', 'b', 'c', 'd', 'd', 'e', 'f', 'g']\n",
      "['alfa', 'b', 'c', 'd', 'd', 'e', 'f']\n",
      "g\n",
      "['b', 'c', 'd', 'd', 'e', 'f']\n",
      "alfa\n",
      "['b', 'c', 'g', 'm', 'o']\n",
      "['o', 'm', 'g', 'c', 'b']\n"
     ]
    }
   ],
   "source": [
    "mi_lista = ['a', 'b', 'c', 'd']\n",
    "otra_lista = ['hola', 55, 6.1]\n",
    "resultado = len(mi_lista)\n",
    "print(type(mi_lista))\n",
    "print(resultado)\n",
    "\n",
    "resultado = mi_lista[0:]\n",
    "print(resultado)\n",
    "\n",
    "mi_lista2 = ['d', 'e', 'f']\n",
    "print(mi_lista+mi_lista2)  # Crea una lista nueva\n",
    "mi_lista3 = mi_lista+mi_lista2\n",
    "print(mi_lista3)\n",
    "\n",
    "mi_lista3[0] = 'alfa'\n",
    "print(mi_lista3)\n",
    "\n",
    "mi_lista3.append('g')\n",
    "print(mi_lista3)\n",
    "\n",
    "elemento_eliminado = mi_lista3.pop()  # Por defecto elimina el último de sus elementos.\n",
    "print(mi_lista3)\n",
    "print(elemento_eliminado)\n",
    "\n",
    "elemento_eliminado = mi_lista3.pop(0)\n",
    "print(mi_lista3)\n",
    "print(elemento_eliminado)\n",
    "\n",
    "lista = ['g', 'o', 'b', 'm', 'c']\n",
    "lista.sort()  # No devuelve nada\n",
    "print(lista)\n",
    "\n",
    "lista.reverse()\n",
    "print(lista)"
   ]
  },
  {
   "cell_type": "markdown",
   "metadata": {},
   "source": [
    "### Booleanos"
   ]
  },
  {
   "cell_type": "code",
   "execution_count": 18,
   "metadata": {},
   "outputs": [
    {
     "name": "stdout",
     "output_type": "stream",
     "text": [
      "<class 'bool'>\n",
      "True\n",
      "False\n",
      "<class 'bool'>\n",
      "False\n",
      "True\n",
      "True\n",
      "<class 'bool'>\n",
      "True <class 'bool'>\n"
     ]
    }
   ],
   "source": [
    "var1 = True\n",
    "var2 = False\n",
    "print(type(var1))\n",
    "print(var1)\n",
    "\n",
    "numero = 5 > 2+3\n",
    "print(numero)\n",
    "print(type(numero))\n",
    "\n",
    "numero = 5 != 2+3\n",
    "print(numero)\n",
    "\n",
    "numero = bool(5 > 2)\n",
    "print(numero)\n",
    "\n",
    "lista = [1, 2, 3, 4]\n",
    "control = 4 in lista\n",
    "print(control)\n",
    "print(type(control))\n",
    "control = 5 not in lista\n",
    "print(control, type(control))"
   ]
  },
  {
   "cell_type": "markdown",
   "metadata": {},
   "source": [
    "## Tuplas"
   ]
  },
  {
   "cell_type": "code",
   "execution_count": 19,
   "metadata": {},
   "outputs": [
    {
     "name": "stdout",
     "output_type": "stream",
     "text": [
      "(1, 2, 3, 4)\n",
      "<class 'tuple'>\n",
      "1\n",
      "3\n",
      "10\n",
      "<class 'list'>\n",
      "[1, 2, (10, 20), 4]\n",
      "(1, 2, (10, 20), 4)\n",
      "<class 'tuple'>\n",
      "1 2 3 1\n",
      "4\n",
      "2\n",
      "2\n"
     ]
    }
   ],
   "source": [
    "mi_tuple = 1, 2, 3, 4\n",
    "print(mi_tuple)\n",
    "\n",
    "mi_tuple = (1, 2, 3, 4)\n",
    "print(type(mi_tuple))\n",
    "\n",
    "print(mi_tuple[0])\n",
    "print(mi_tuple[-2])\n",
    "\n",
    "# Son inmutables, así que no podemos cambiar un elemento del tuple\n",
    "\n",
    "mi_tuple = (1, 2, (10, 20), 4)\n",
    "print(mi_tuple[2][0])\n",
    "mi_tuple = list(mi_tuple)\n",
    "print(type(mi_tuple))\n",
    "print(mi_tuple)\n",
    "\n",
    "mi_tuple = tuple(mi_tuple)\n",
    "print(mi_tuple)\n",
    "print(type(mi_tuple))\n",
    "\n",
    "t = (1, 2, 3, 1)\n",
    "x, y, z, a = t  # Esto también se puede hacer con listas y diccionarios pero tiene que coincidir el número\n",
    "print(x, y, z, a)\n",
    "\n",
    "print(len(t))\n",
    "print(t.index(3))\n",
    "print(t.count(1))"
   ]
  },
  {
   "cell_type": "markdown",
   "metadata": {},
   "source": [
    "## Sets"
   ]
  },
  {
   "cell_type": "code",
   "execution_count": 20,
   "metadata": {},
   "outputs": [
    {
     "name": "stdout",
     "output_type": "stream",
     "text": [
      "{1, 2, 3, 4}\n",
      "<class 'set'>\n",
      "<class 'set'>\n",
      "{1, 2, 3}\n",
      "4\n",
      "True\n",
      "{1, 2, 3, 4, 5}\n",
      "{1, 2, 3, 4}\n",
      "{1, 2, 3, 4}\n",
      "{1, 2, 4}\n",
      "1\n",
      "set()\n"
     ]
    }
   ],
   "source": [
    "# Son elementos únicos, no contienen repeticiones, si añadimos una la ignora\n",
    "mi_set = set([1, 2, 3, 4, 4, 4, 4])  # Debemos poner los elementos o bien en una lista o bien en una tupla... con algún\n",
    "# tipo de llave.\n",
    "print(mi_set)\n",
    "print(type(mi_set))\n",
    "\n",
    "otro_set = {1, 2, 3}\n",
    "print(type(otro_set))\n",
    "print(otro_set)\n",
    "\n",
    "# print(mi_set[0])  # Esto falla porque no son indexables\n",
    "\n",
    "# Dentro de un set no puedo poner listas ni diccionarios, sí tuples porque son inmutables.\n",
    "\n",
    "print(len(mi_set))\n",
    "print(2 in mi_set)  # también se puede hacer en los diccionarios si lo que buscamos es la clave\n",
    "\n",
    "s1 = {1, 2, 3}\n",
    "s2 = {3, 4, 5}\n",
    "s3 = s1.union(s2)\n",
    "print(s3)\n",
    "\n",
    "s1.add(4)\n",
    "print(s1)\n",
    "s1.add(2)\n",
    "print(s1)\n",
    "s1.remove(3)  # Si no lo tiene da error\n",
    "print(s1)\n",
    "s1.discard(3)  # Si no lo tiene, no pasa nada... no hace nada\n",
    "elemento_eliminado = s1.pop()  # Elimina un elemento aleatoriamente\n",
    "print(elemento_eliminado)\n",
    "s1.clear()  # Borra todos los elementos del conjunto\n",
    "print(s1)"
   ]
  },
  {
   "cell_type": "markdown",
   "metadata": {},
   "source": [
    "## Diccionarios"
   ]
  },
  {
   "cell_type": "code",
   "execution_count": 21,
   "metadata": {},
   "outputs": [
    {
     "name": "stdout",
     "output_type": "stream",
     "text": [
      "{'c1': 'valor1', 'c2': 'valor2'}\n",
      "<class 'dict'>\n",
      "valor1\n",
      "González\n",
      "20\n",
      "200\n",
      "{1: 'a', 2: 'b'}\n",
      "{1: 'a', 2: 'b', 3: 'c'}\n",
      "{1: 'a', 2: 'B', 3: 'c'}\n",
      "dict_keys([1, 2, 3])\n",
      "dict_values(['a', 'B', 'c'])\n",
      "dict_items([(1, 'a'), (2, 'B'), (3, 'c')])\n"
     ]
    }
   ],
   "source": [
    "diccionario = {'c1': 'valor1', 'c2': 'valor2'}\n",
    "print(diccionario)\n",
    "print(type(diccionario))\n",
    "\n",
    "resultado = diccionario['c1']\n",
    "print(resultado)\n",
    "\n",
    "cliente = {\n",
    "    'nombre': 'Juan',\n",
    "    'apellido': 'González',\n",
    "    'edad': 56,\n",
    "    'peso': 75,\n",
    "    'talla': 1.76\n",
    "}\n",
    "\n",
    "consulta = cliente['apellido']\n",
    "print(consulta)\n",
    "\n",
    "\n",
    "dic = {'c1': 55, 'c2': [10, 20, 30], 'c3': {'s1': 100, 's2': 200}}\n",
    "print(dic['c2'][1])\n",
    "print(dic['c3']['s2'])\n",
    "\n",
    "dic = {1: 'a', 2: 'b'}\n",
    "print(dic)\n",
    "dic[3] = 'c'\n",
    "print(dic)\n",
    "dic[2] = 'B'\n",
    "print(dic)\n",
    "\n",
    "print(dic.keys())\n",
    "print(dic.values())\n",
    "\n",
    "print(dic.items())"
   ]
  },
  {
   "cell_type": "markdown",
   "metadata": {},
   "source": [
    "## Ejercicio propuesto\n",
    "Debes programar una aplicación que a partir de un texto solicitado al usuario muestre un menú:\n",
    "1. Ocurrencia letras\n",
    "2. Ocurrencia palabras\n",
    "3. Primera y última letra del texto.\n",
    "4. ¿Aparece la palabra?\n",
    "\n",
    "En cada caso ocurrirá lo siguiente:\n",
    "1. El usuario pedirá una letra al usuario y el sistema le dirá cuántas veces aparece dicha letra en el texto.\n",
    "2. El usuario pedirá una palabra al usuario y el sistema le dirá cuántas veces aparece dicha palabra en el texto.\n",
    "3. El sistema mostrará cuál es la primera y la última letra del texto.\n",
    "4. El sistema preguntará al usuario una palabra y le indicará si aparece o no en el texto\n",
    "\n",
    "Una vez finalizada la opción elegida, terminará la ejecución del programa.   "
   ]
  }
 ],
 "metadata": {
  "kernelspec": {
   "display_name": "Python 3",
   "language": "python",
   "name": "python3"
  },
  "language_info": {
   "codemirror_mode": {
    "name": "ipython",
    "version": 3
   },
   "file_extension": ".py",
   "mimetype": "text/x-python",
   "name": "python",
   "nbconvert_exporter": "python",
   "pygments_lexer": "ipython3",
   "version": "3.12.6"
  }
 },
 "nbformat": 4,
 "nbformat_minor": 2
}
