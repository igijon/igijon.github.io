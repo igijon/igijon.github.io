{
 "cells": [
  {
   "cell_type": "markdown",
   "metadata": {},
   "source": [
    "# Funciones y métodos\n",
    "\n",
    "https://github.com/igijon/python_bases/tree/main/4_Metodos_Funciones"
   ]
  },
  {
   "cell_type": "markdown",
   "metadata": {},
   "source": [
    "## Inicio funciones"
   ]
  },
  {
   "cell_type": "code",
   "execution_count": 14,
   "metadata": {},
   "outputs": [
    {
     "name": "stdout",
     "output_type": "stream",
     "text": [
      "Hola Alonso\n"
     ]
    }
   ],
   "source": [
    "def saludar_persona(nombre):\n",
    "    \"\"\"\n",
    "    Saluda a una persona\n",
    "    :return:\n",
    "    \"\"\"\n",
    "    print(f'Hola {nombre}')\n",
    "\n",
    "\n",
    "saludar_persona('Alonso')"
   ]
  },
  {
   "cell_type": "markdown",
   "metadata": {},
   "source": [
    "## Return"
   ]
  },
  {
   "cell_type": "code",
   "execution_count": 18,
   "metadata": {},
   "outputs": [
    {
     "name": "stdout",
     "output_type": "stream",
     "text": [
      "25.380000000000003\n"
     ]
    }
   ],
   "source": [
    "def multiplicar(num1, num2):\n",
    "    \"\"\"\n",
    "    :param num1: número operando\n",
    "    :param num2: número operando\n",
    "    :return: multiplicación de num1 y num2\n",
    "    \"\"\"\n",
    "    return num1*num2\n",
    "\n",
    "\n",
    "resultado = multiplicar(4.23, 6)\n",
    "print(resultado)"
   ]
  },
  {
   "cell_type": "markdown",
   "metadata": {},
   "source": [
    "## Interacción funciones\n",
    "```python\n",
    "from random import shuffle\n",
    "\n",
    "# Lista inicial\n",
    "palitos = ['-', '--', '---', '----']\n",
    "\n",
    "\n",
    "# Mezclar palitos\n",
    "def mezclar(lista):\n",
    "    shuffle(lista)\n",
    "    return lista\n",
    "\n",
    "\n",
    "# Pedirle intento\n",
    "def probar_suerte():\n",
    "    intento = ''\n",
    "    while intento not in ['1', '2', '3', '4']:\n",
    "        intento = input('Elige un número del 1 al 4: ')\n",
    "\n",
    "    return int(intento)\n",
    "\n",
    "\n",
    "# Comprobar intento\n",
    "def check_intento(lista, intento):\n",
    "    if lista[intento-1] == ['-']:\n",
    "        print('A lavar los platos')\n",
    "    else:\n",
    "        print('Esta vez te has salvado')\n",
    "\n",
    "    print(f\"Te ha tocado {lista[intento-1]}\")\n",
    "\n",
    "\n",
    "# Interacción entre funciones\n",
    "palitos_mezclados = mezclar(palitos)\n",
    "seleccion = probar_suerte()\n",
    "check_intento(palitos_mezclados, seleccion)\n",
    "```"
   ]
  },
  {
   "cell_type": "markdown",
   "metadata": {},
   "source": [
    "## Funciones dinámicas"
   ]
  },
  {
   "cell_type": "code",
   "execution_count": 15,
   "metadata": {},
   "outputs": [
    {
     "name": "stdout",
     "output_type": "stream",
     "text": [
      "True\n",
      "[567, 678]\n",
      "El café más caro es Moka cuyo precio es 1.9\n"
     ]
    }
   ],
   "source": [
    "def check_3_cifras(numero):\n",
    "    return numero in range(100, 1000)\n",
    "\n",
    "\n",
    "def check_3_cifras2(lista):\n",
    "    num_3_cifras = []\n",
    "    for n in lista:\n",
    "        if n in range(100, 1000):\n",
    "            num_3_cifras.append(n)\n",
    "    return num_3_cifras\n",
    "\n",
    "\n",
    "resultado = check_3_cifras(345)\n",
    "print(resultado)\n",
    "\n",
    "resultado = check_3_cifras2([2, 34, 567, 67, 678])\n",
    "print(resultado)\n",
    "\n",
    "precios_cafe = [('capuchino', 1.5), ('Expresso', 1.2), ('Moka', 1.9)]\n",
    "\n",
    "\n",
    "def cafe_mas_caro(lista_precios):\n",
    "    precio_mayor = 0\n",
    "    cafe_caro = ''\n",
    "\n",
    "    for c, p in lista_precios:\n",
    "        if p > precio_mayor:\n",
    "            precio_mayor = p\n",
    "            cafe_caro = c\n",
    "\n",
    "    return cafe_caro, precio_mayor\n",
    "\n",
    "\n",
    "cafe, precio = cafe_mas_caro(precios_cafe)\n",
    "print(f'El café más caro es {cafe} cuyo precio es {precio}')"
   ]
  },
  {
   "cell_type": "markdown",
   "metadata": {},
   "source": [
    "## Args"
   ]
  },
  {
   "cell_type": "code",
   "execution_count": 16,
   "metadata": {},
   "outputs": [
    {
     "name": "stdout",
     "output_type": "stream",
     "text": [
      "112\n"
     ]
    }
   ],
   "source": [
    "def suma(*args):\n",
    "    total = 0\n",
    "    for arg in args:\n",
    "        total += arg\n",
    "    return total\n",
    "\n",
    "\n",
    "print(suma(5, 6, 5, 7, 89))"
   ]
  },
  {
   "cell_type": "markdown",
   "metadata": {},
   "source": [
    "## Kwargs"
   ]
  },
  {
   "cell_type": "code",
   "execution_count": 17,
   "metadata": {},
   "outputs": [
    {
     "name": "stdout",
     "output_type": "stream",
     "text": [
      "x = 3\n",
      "y = 5\n",
      "z = 2\n",
      "10\n",
      "El primer valor es 15\n",
      "El segundo valor es 46\n",
      "arg = 233\n",
      "arg = hola\n",
      "arg = 45\n",
      "arg = 34\n",
      "x = palabra1\n",
      "y = 34\n",
      "z = argumento final\n",
      "El primer valor es 15\n",
      "El segundo valor es 30\n",
      "arg = [200, 300, 400, 500]\n",
      "arg = {'x': 'uno', 'y': 'dos', 'z': 'tres'}\n",
      "El primer valor es 15\n",
      "El segundo valor es 30\n",
      "arg = [200, 300, 400, 500]\n",
      "x = uno\n",
      "y = dos\n",
      "z = tres\n"
     ]
    }
   ],
   "source": [
    "def suma(**kwargs):\n",
    "    total = 0\n",
    "    for clave, valor in kwargs.items():\n",
    "        print(f'{clave} = {valor}')\n",
    "        total += valor\n",
    "    return total\n",
    "\n",
    "\n",
    "resultado = suma(x=3, y=5, z=2)\n",
    "print(resultado)\n",
    "\n",
    "\n",
    "def prueba(num1, num2, *args, **kwargs):  # el orden no es casual\n",
    "    print(f'El primer valor es {num1}')\n",
    "    print(f'El segundo valor es {num2}')\n",
    "\n",
    "    for arg in args:\n",
    "        print(f'arg = {arg}')\n",
    "\n",
    "    for clave, valor in kwargs.items():\n",
    "        print(f'{clave} = {valor}')\n",
    "\n",
    "\n",
    "prueba(15, 46, 233, 'hola', 45, 34, x='palabra1', y=34, z='argumento final')\n",
    "\n",
    "args = [200, 300, 400, 500]\n",
    "kwargs = {'x': 'uno', 'y': 'dos', 'z': 'tres'}\n",
    "prueba(15, 30, args, kwargs)\n",
    "prueba(15, 30, args, **kwargs)"
   ]
  },
  {
   "cell_type": "markdown",
   "metadata": {},
   "source": [
    "## Ejercicio propuesto\n",
    "Desarrolla un programa que implemente el famoso juego del **Ahorcado**, un juego en el que el jugador tiene que adivinar una palabra letra por letra antes de agotar un número determinado de intentos.\n",
    "\n",
    "**Instrucciones**:\n",
    "- El juego seleccionará una palabra aleatoriamente de una lista predefinida.\n",
    "- El jugador tendrá un número limitado de intentos (por ejemplo 6) para adivinar la palabra letra por letra.\n",
    "- El jugador deberá introducir una letra en cada intento.\n",
    "- Si la letra está en la palabra, se revelarán todas las posiciones donde aparece.\n",
    "- Si la letra no está en la palabra, se perderá un intento.\n",
    "- El juego termina cuando:\n",
    "  - El jugador adivina correctamente la palabra (gana)\n",
    "  - El jugador agota todos los intentos sin adivinar la palabra (pierde)\n",
    "- La palabra seleccionada al azar debe mostrarse como guiones bajos `_` que representen las letras no adivinadas. Por ejemplo, si la palabra es `python`, se verá como `_ _ _ _ _ _`\n",
    "- Si el jugador adivina una letra correctamente, el guión correspondiente a esa letra será reemplazado por la letra adivinada.\n",
    "- El jugador puede intentar adivinar letra varias veces, pero no debe contar como intento fallido si ya ha adivinado esa letra.\n",
    "- Al finalizar el juego, el programa debe indicar si el jugador ganó o perdió y mostrar la palabra correcta si pierde.\n",
    "\n",
    "```bash\n",
    "¡Bienvenido al juego del Ahorcado!\n",
    "Palabra: _ _ _ _ _\n",
    "Intentos restantes: 6\n",
    "Letras adivinadas: []\n",
    "\n",
    "Introduce una letra: p\n",
    "¡Correcto! La letra 'p' está en la palabra.\n",
    "Palabra: p _ _ _ _\n",
    "Intentos restantes: 6\n",
    "Letras adivinadas: ['p']\n",
    "\n",
    "Introduce una letra: x\n",
    "Lo siento, la letra 'x' no está en la palabra.\n",
    "Palabra: p _ _ _ _\n",
    "Intentos restantes: 5\n",
    "Letras adivinadas: ['p', 'x']\n",
    "```\n",
    "\n"
   ]
  }
 ],
 "metadata": {
  "kernelspec": {
   "display_name": "Python 3",
   "language": "python",
   "name": "python3"
  },
  "language_info": {
   "codemirror_mode": {
    "name": "ipython",
    "version": 3
   },
   "file_extension": ".py",
   "mimetype": "text/x-python",
   "name": "python",
   "nbconvert_exporter": "python",
   "pygments_lexer": "ipython3",
   "version": "3.12.6"
  }
 },
 "nbformat": 4,
 "nbformat_minor": 2
}
