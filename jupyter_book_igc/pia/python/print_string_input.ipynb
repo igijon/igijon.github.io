{
 "cells": [
  {
   "cell_type": "markdown",
   "metadata": {},
   "source": [
    "# Print, String Input"
   ]
  },
  {
   "cell_type": "code",
   "execution_count": 2,
   "metadata": {},
   "outputs": [
    {
     "name": "stdout",
     "output_type": "stream",
     "text": [
      "Hola mundo\n",
      "hola Mundo te digo 'Hola'\n",
      "150\n",
      "100+50\n"
     ]
    }
   ],
   "source": [
    "print(\"Hola mundo\")\n",
    "print(\"hola Mundo te digo 'Hola'\")\n",
    "print(100+50)\n",
    "print(\"100+50\")"
   ]
  },
  {
   "cell_type": "code",
   "execution_count": 3,
   "metadata": {},
   "outputs": [
    {
     "name": "stdout",
     "output_type": "stream",
     "text": [
      "Hola Marta\n",
      "Me llamo \"Inma\"\n",
      "Esta es una línea\n",
      "Y esta es otra línea\n",
      "\tEsta es la tercera línea\n",
      "This isn't a number\n",
      "Este signo \\ es una barra invertida\n"
     ]
    }
   ],
   "source": [
    "print(\"Hola\"+\" \"+'Marta')\n",
    "print(\"Me llamo \\\"Inma\\\"\")\n",
    "print(\"Esta es una línea\\nY esta es otra línea\")\n",
    "print(\"\\tEsta es la tercera línea\")\n",
    "print('This isn\\'t a number')\n",
    "print('Este signo \\\\ es una barra invertida')"
   ]
  },
  {
   "cell_type": "markdown",
   "metadata": {},
   "source": [
    "```python\n",
    "input(\"Dime tu nombre: \")\n",
    "print(input(\"Dime tu apellido: \"))\n",
    "print(\"Tu nombre es \"+input(\"Dime tu nombre: \") + \" \" +input(\"Dime tu apellido: \"))\n",
    "```"
   ]
  },
  {
   "cell_type": "markdown",
   "metadata": {},
   "source": [
    "## EJERCICIO PROPUESTO\n",
    "\n",
    "Queremos recabar la información relacionada con la tarea que un desarrollador está realizando en un momento determinado. Para ello, vamos a realizar un programa que solicite al usuario:\n",
    "- Nombre de la tarea\n",
    "- Descripción\n",
    "- Fecha de comienzo \n",
    "- Duración estimada\n",
    "- Tecnologías utilizadas.\n",
    "\n",
    "Una ver tomada toda la información devolverá por el terminal la información obtenida. "
   ]
  },
  {
   "cell_type": "code",
   "execution_count": null,
   "metadata": {},
   "outputs": [],
   "source": []
  }
 ],
 "metadata": {
  "kernelspec": {
   "display_name": "Python 3",
   "language": "python",
   "name": "python3"
  },
  "language_info": {
   "codemirror_mode": {
    "name": "ipython",
    "version": 3
   },
   "file_extension": ".py",
   "mimetype": "text/x-python",
   "name": "python",
   "nbconvert_exporter": "python",
   "pygments_lexer": "ipython3",
   "version": "3.12.6"
  }
 },
 "nbformat": 4,
 "nbformat_minor": 2
}
