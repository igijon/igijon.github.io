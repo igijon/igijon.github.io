{
 "cells": [
  {
   "cell_type": "markdown",
   "metadata": {},
   "source": [
    "# Programación Orientada a Objetos"
   ]
  },
  {
   "cell_type": "markdown",
   "metadata": {},
   "source": [
    "## Clases"
   ]
  },
  {
   "cell_type": "code",
   "execution_count": 3,
   "metadata": {},
   "outputs": [
    {
     "name": "stdout",
     "output_type": "stream",
     "text": [
      "<__main__.Pajaro object at 0x1184f7170> <class '__main__.Pajaro'>\n",
      "<__main__.Pajaro object at 0x1185d41d0> <class '__main__.Pajaro'>\n"
     ]
    }
   ],
   "source": [
    "class Pajaro:\n",
    "    pass\n",
    "\n",
    "\n",
    "mi_pajaro = Pajaro()\n",
    "otro_pajaro = Pajaro()\n",
    "print(mi_pajaro, type(mi_pajaro))\n",
    "print(otro_pajaro, type(otro_pajaro))"
   ]
  },
  {
   "cell_type": "markdown",
   "metadata": {},
   "source": [
    "## Polimorfismo"
   ]
  },
  {
   "cell_type": "code",
   "execution_count": 8,
   "metadata": {},
   "outputs": [
    {
     "name": "stdout",
     "output_type": "stream",
     "text": [
      "Aurora dice muuu\n",
      "Luisa dice bee\n",
      "Aurora dice muuu\n",
      "Luisa dice bee\n",
      "Aurora dice muuu\n",
      "Luisa dice bee\n"
     ]
    }
   ],
   "source": [
    "class Vaca:\n",
    "    def __init__(self, nombre):\n",
    "        self.nombre = nombre\n",
    "\n",
    "    def hablar(self):\n",
    "        print(self.nombre+' dice muuu')\n",
    "\n",
    "\n",
    "class Oveja:\n",
    "    def __init__(self, nombre):\n",
    "        self.nombre = nombre\n",
    "\n",
    "    def hablar(self):\n",
    "        print(self.nombre+' dice bee')\n",
    "\n",
    "\n",
    "vaca = Vaca('Aurora')\n",
    "oveja = Oveja('Luisa')\n",
    "\n",
    "vaca.hablar()\n",
    "oveja.hablar()\n",
    "\n",
    "animales = [vaca, oveja]\n",
    "\n",
    "'''La lista tiene tiene objetos distintos y llama al método en\n",
    "función del tipo de objeto que sea'''\n",
    "for animal in animales:\n",
    "    animal.hablar()\n",
    "\n",
    "\n",
    "def animal_habla(animal):\n",
    "    animal.hablar()\n",
    "\n",
    "\n",
    "animal_habla(vaca)\n",
    "animal_habla(oveja)"
   ]
  },
  {
   "cell_type": "markdown",
   "metadata": {},
   "source": [
    "## Atributos"
   ]
  },
  {
   "cell_type": "code",
   "execution_count": 1,
   "metadata": {},
   "outputs": [
    {
     "name": "stdout",
     "output_type": "stream",
     "text": [
      "pío pío, mi color es amarillo\n",
      "El pájaro ha volado 10 metros\n"
     ]
    }
   ],
   "source": [
    "class Pajaro:\n",
    "\n",
    "    # Atributos de clase\n",
    "    alas = True\n",
    "\n",
    "    # Constructor\n",
    "    def __init__(self, color, especie):\n",
    "        # Atributos de instancia\n",
    "        self.color = color\n",
    "        self.especie = especie\n",
    "\n",
    "    def piar(self):\n",
    "        print(f'pío pío, mi color es {self.color}')\n",
    "\n",
    "    def volar(self, metros):\n",
    "        print(f'El pájaro ha volado {metros} metros')\n",
    "\n",
    "\n",
    "piolin = Pajaro('amarillo', 'canario')\n",
    "piolin.piar()\n",
    "piolin.volar(10)"
   ]
  },
  {
   "cell_type": "markdown",
   "metadata": {},
   "source": [
    "## Atributos privados"
   ]
  },
  {
   "cell_type": "code",
   "execution_count": 2,
   "metadata": {},
   "outputs": [
    {
     "name": "stdout",
     "output_type": "stream",
     "text": [
      "Jose\n",
      "asdasd\n",
      "secretillo\n"
     ]
    },
    {
     "ename": "AttributeError",
     "evalue": "'Alumno' object has no attribute '__secreto1'",
     "output_type": "error",
     "traceback": [
      "\u001b[0;31m---------------------------------------------------------------------------\u001b[0m",
      "\u001b[0;31mAttributeError\u001b[0m                            Traceback (most recent call last)",
      "Cell \u001b[0;32mIn[2], line 12\u001b[0m\n\u001b[1;32m     10\u001b[0m \u001b[38;5;28mprint\u001b[39m(a1\u001b[38;5;241m.\u001b[39m_secreto)\n\u001b[1;32m     11\u001b[0m \u001b[38;5;28mprint\u001b[39m(a1\u001b[38;5;241m.\u001b[39m_Alumno__secreto1)\n\u001b[0;32m---> 12\u001b[0m \u001b[38;5;28mprint\u001b[39m(\u001b[43ma1\u001b[49m\u001b[38;5;241;43m.\u001b[39;49m\u001b[43m__secreto1\u001b[49m)\n",
      "\u001b[0;31mAttributeError\u001b[0m: 'Alumno' object has no attribute '__secreto1'"
     ]
    }
   ],
   "source": [
    "class Alumno:\n",
    "    def __init__(self, nombre=''):\n",
    "        self.nombre = nombre\n",
    "        self._secreto = 'asdasd'\n",
    "        self.__secreto1 = 'secretillo'\n",
    "\n",
    "\n",
    "a1 = Alumno('Jose')\n",
    "print(a1.nombre)\n",
    "print(a1._secreto)\n",
    "print(a1._Alumno__secreto1)\n",
    "print(a1.__secreto1)"
   ]
  },
  {
   "cell_type": "markdown",
   "metadata": {},
   "source": [
    "## Getter, Setter y Deleter"
   ]
  },
  {
   "cell_type": "code",
   "execution_count": 4,
   "metadata": {},
   "outputs": [
    {
     "name": "stdout",
     "output_type": "stream",
     "text": [
      "3\n"
     ]
    },
    {
     "ename": "AttributeError",
     "evalue": "'Circulo' object has no attribute '_radio'",
     "output_type": "error",
     "traceback": [
      "\u001b[0;31m---------------------------------------------------------------------------\u001b[0m",
      "\u001b[0;31mAttributeError\u001b[0m                            Traceback (most recent call last)",
      "Cell \u001b[0;32mIn[4], line 28\u001b[0m\n\u001b[1;32m     26\u001b[0m \u001b[38;5;66;03m# c1.radio = -1 Esto lanza una excepción\u001b[39;00m\n\u001b[1;32m     27\u001b[0m \u001b[38;5;28;01mdel\u001b[39;00m c1\u001b[38;5;241m.\u001b[39mradio\n\u001b[0;32m---> 28\u001b[0m \u001b[38;5;28mprint\u001b[39m(\u001b[43mc1\u001b[49m\u001b[38;5;241;43m.\u001b[39;49m\u001b[43mradio\u001b[49m)\n",
      "Cell \u001b[0;32mIn[4], line 8\u001b[0m, in \u001b[0;36mCirculo.radio\u001b[0;34m(self)\u001b[0m\n\u001b[1;32m      6\u001b[0m \u001b[38;5;129m@property\u001b[39m\n\u001b[1;32m      7\u001b[0m \u001b[38;5;28;01mdef\u001b[39;00m \u001b[38;5;21mradio\u001b[39m(\u001b[38;5;28mself\u001b[39m):\n\u001b[0;32m----> 8\u001b[0m     \u001b[38;5;28;01mreturn\u001b[39;00m \u001b[38;5;28;43mself\u001b[39;49m\u001b[38;5;241;43m.\u001b[39;49m\u001b[43m_radio\u001b[49m\n",
      "\u001b[0;31mAttributeError\u001b[0m: 'Circulo' object has no attribute '_radio'"
     ]
    }
   ],
   "source": [
    "class Circulo:\n",
    "\n",
    "    def __init__(self, radio):\n",
    "        self.radio = radio\n",
    "\n",
    "    @property\n",
    "    def radio(self):\n",
    "        return self._radio\n",
    "\n",
    "    @radio.setter\n",
    "    def radio(self, radio):\n",
    "        if radio >= 0:\n",
    "            self._radio = radio\n",
    "        else:\n",
    "            self._radio = 0\n",
    "            raise ValueError('Radio debe ser positivo')\n",
    "\n",
    "    @radio.deleter\n",
    "    def radio(self):\n",
    "        del self._radio\n",
    "\n",
    "\n",
    "c1 = Circulo(3)\n",
    "print(c1.radio)\n",
    "c1.radio = 4\n",
    "# c1.radio = -1 Esto lanza una excepción\n",
    "del c1.radio\n",
    "print(c1.radio)"
   ]
  },
  {
   "cell_type": "markdown",
   "metadata": {},
   "source": [
    "## Tipos de métodos\n",
    "Un método de **clase** es un método que está vinculado a la **clase** en lugar de a una instancia particular de la clase. Recibe como primer parámetro la clase `cls`, no la instancia.\n",
    "Un método **estático** no está vinculado ni a la clase ni a la instancia. No recibe ningún argumento especial, ni la clase `cls` ni la instancia `self`, lo que significa que es completamente independiente de la clase."
   ]
  },
  {
   "cell_type": "code",
   "execution_count": 9,
   "metadata": {},
   "outputs": [
    {
     "name": "stdout",
     "output_type": "stream",
     "text": [
      "amarillo\n",
      "negro\n",
      "El pájaro ha volado 5 metros\n",
      "pío pío, mi color es negro\n",
      "Puso 3 huevos\n",
      "False\n"
     ]
    }
   ],
   "source": [
    "class Pajaro:\n",
    "\n",
    "    # Atributos de clase\n",
    "    alas = True\n",
    "\n",
    "    # Constructor\n",
    "    def __init__(self, color, especie):\n",
    "        # Atributos de instancia\n",
    "        self.color = color\n",
    "        self.especie = especie\n",
    "\n",
    "    def piar(self):\n",
    "        print(f'pío pío, mi color es {self.color}')\n",
    "\n",
    "    def volar(self, metros):\n",
    "        print(f'El pájaro ha volado {metros} metros')\n",
    "        self.piar()\n",
    "\n",
    "    def pintar_negro(self):\n",
    "        self.color = 'negro'\n",
    "\n",
    "    @classmethod\n",
    "    def poner_huevos(cls, cantidad_huevos):\n",
    "        print(f'Puso {cantidad_huevos} huevos')\n",
    "        cls.alas = False\n",
    "\n",
    "\n",
    "    @staticmethod\n",
    "    def mirar():\n",
    "        \"\"\"No puedo cambiar los atributos de instancia ni de clase\n",
    "        Podemos usar para métodos qu eno queremos que modifiquen objetos de la instancia ni de la\n",
    "        clase.\n",
    "        Estos métodos no dependen de la clase pero están ligados de algún modo a ella\"\"\"\n",
    "        print(\"El pájaro mira\")\n",
    "\n",
    "\n",
    "piolin = Pajaro('amarillo', 'canario')\n",
    "print(piolin.color)\n",
    "piolin.pintar_negro()\n",
    "print(piolin.color)\n",
    "piolin.volar(5)\n",
    "\n",
    "# Imaginamos que no tenemos ninguna instancia...\n",
    "Pajaro.poner_huevos(3)  # Estos métodos no pueden acceder a los atributos de instancia\n",
    "# Pajaro.piar()  # Dará un error\n",
    "print(Pajaro.alas)"
   ]
  },
  {
   "cell_type": "markdown",
   "metadata": {},
   "source": [
    "## Herencia"
   ]
  },
  {
   "cell_type": "code",
   "execution_count": 5,
   "metadata": {},
   "outputs": [
    {
     "name": "stdout",
     "output_type": "stream",
     "text": [
      "[<class '__main__.Pajaro'>]\n",
      "(<class '__main__.Animal'>,)\n",
      "pio\n",
      "El pájaro vuela 100 metros\n"
     ]
    }
   ],
   "source": [
    "class Animal:\n",
    "\n",
    "    def __init__(self, edad, color):\n",
    "        self.edad = edad\n",
    "        self.color = color\n",
    "\n",
    "    def nacer(self):\n",
    "        print('El animal ha nacido')\n",
    "\n",
    "    def hablar(self):\n",
    "        print('El animal emite un sonido')\n",
    "\n",
    "\n",
    "class Pajaro(Animal):\n",
    "\n",
    "    def __init__(self, edad, color, altura_vuelo):\n",
    "        super(Pajaro, self).__init__(edad, color)\n",
    "        self.altura_vuelo = altura_vuelo\n",
    "\n",
    "    def hablar(self):\n",
    "        print('pio')\n",
    "\n",
    "    def volar(self, metros):\n",
    "        print(f'El pájaro vuela {metros} metros')\n",
    "\n",
    "\n",
    "print(Animal.__subclasses__())  # Me indica las clases que heredan de él\n",
    "print(Pajaro.__bases__)  # Me indica el padre\n",
    "\n",
    "mi_animal = Animal(3, 'azul')\n",
    "piolin = Pajaro(2, 'verde', 10)\n",
    "piolin.hablar()\n",
    "piolin.volar(100)"
   ]
  },
  {
   "cell_type": "markdown",
   "metadata": {},
   "source": [
    "## Herencia múltiple"
   ]
  },
  {
   "cell_type": "code",
   "execution_count": 6,
   "metadata": {},
   "outputs": [
    {
     "name": "stdout",
     "output_type": "stream",
     "text": [
      "Hola\n",
      "ja ja\n",
      "(<class '__main__.Nieto'>, <class '__main__.Hijo'>, <class '__main__.Padre'>, <class '__main__.Madre'>, <class 'object'>)\n"
     ]
    }
   ],
   "source": [
    "class Padre:\n",
    "    def hablar(self):\n",
    "        print('Hola')\n",
    "\n",
    "\n",
    "class Madre:\n",
    "    def reir(self):\n",
    "        print('ja ja')\n",
    "\n",
    "    def hablar(self):\n",
    "        print('qué tal?')\n",
    "\n",
    "\n",
    "class Hijo(Padre, Madre):\n",
    "    pass\n",
    "\n",
    "\n",
    "class Nieto(Hijo):\n",
    "    pass\n",
    "\n",
    "\n",
    "mi_nieto = Nieto()\n",
    "mi_nieto.hablar()\n",
    "\"\"\"Coge el método del que hereda primero, porque hay un orden\n",
    "de búsqueda hacia arriba\"\"\"\n",
    "mi_nieto.reir()\n",
    "\n",
    "# Así puedo ver el orden en el que se resuelven los métodos en la herenciate\n",
    "print(Nieto.__mro__)"
   ]
  },
  {
   "cell_type": "markdown",
   "metadata": {},
   "source": [
    "## Métodos especiales"
   ]
  },
  {
   "cell_type": "code",
   "execution_count": 7,
   "metadata": {},
   "outputs": [
    {
     "name": "stdout",
     "output_type": "stream",
     "text": [
      "7\n",
      "[2, 2, 2, 2, 2, 2, 2]\n",
      "<__main__.Objeto object at 0x1185e70e0>\n",
      "Album: Bienvenidos al temporal de Robe Iniesta\n",
      "19\n",
      "Se ha borrado la instancia de album\n"
     ]
    },
    {
     "ename": "NameError",
     "evalue": "name 'mi_album' is not defined",
     "output_type": "error",
     "traceback": [
      "\u001b[0;31m---------------------------------------------------------------------------\u001b[0m",
      "\u001b[0;31mNameError\u001b[0m                                 Traceback (most recent call last)",
      "Cell \u001b[0;32mIn[7], line 43\u001b[0m\n\u001b[1;32m     39\u001b[0m \u001b[38;5;28mprint\u001b[39m(\u001b[38;5;28mlen\u001b[39m(mi_album))\n\u001b[1;32m     41\u001b[0m \u001b[38;5;28;01mdel\u001b[39;00m mi_album\n\u001b[0;32m---> 43\u001b[0m \u001b[38;5;28mprint\u001b[39m(\u001b[43mmi_album\u001b[49m)  \u001b[38;5;66;03m# Da error porque he borrado la instancia\u001b[39;00m\n",
      "\u001b[0;31mNameError\u001b[0m: name 'mi_album' is not defined"
     ]
    }
   ],
   "source": [
    "mi_lista = [2, 2, 2, 2, 2, 2, 2]\n",
    "print(len(mi_lista))\n",
    "print(mi_lista)\n",
    "\n",
    "\n",
    "class Objeto:\n",
    "    pass\n",
    "\n",
    "\n",
    "mi_objeto = Objeto()\n",
    "# print(len(mi_objeto)) Dará error\n",
    "print(mi_objeto)  # Representación en un string de mi objeto básico\n",
    "\n",
    "\n",
    "class Album:\n",
    "    def __init__(self, autor, titulo, canciones):\n",
    "        self.autor = autor\n",
    "        self.titulo = titulo\n",
    "        self.canciones = canciones\n",
    "\n",
    "    def __str__(self):\n",
    "        return f'Album: {self.titulo} de {self.autor}'\n",
    "\n",
    "    def __len__(self):\n",
    "        return self.canciones\n",
    "\n",
    "    def __del__(self):\n",
    "        # Siempre lo va a borrar pero además hemos implementado que informe\n",
    "        print(f'Se ha borrado la instancia de album')\n",
    "\n",
    "    def __eq__(self, other):\n",
    "        return self.titulo == other.titulo and self.autor == other.autor\n",
    "\n",
    "    # También podemos añadir como métodos especiales __add__ y __sub__ por ejemplo\n",
    "\n",
    "\n",
    "mi_album = Album('Robe Iniesta', 'Bienvenidos al temporal', 19)\n",
    "print(mi_album)\n",
    "print(len(mi_album))\n",
    "\n",
    "del mi_album\n",
    "\n",
    "print(mi_album)  # Da error porque he borrado la instancia"
   ]
  }
 ],
 "metadata": {
  "kernelspec": {
   "display_name": "Python 3",
   "language": "python",
   "name": "python3"
  },
  "language_info": {
   "codemirror_mode": {
    "name": "ipython",
    "version": 3
   },
   "file_extension": ".py",
   "mimetype": "text/x-python",
   "name": "python",
   "nbconvert_exporter": "python",
   "pygments_lexer": "ipython3",
   "version": "3.12.6"
  }
 },
 "nbformat": 4,
 "nbformat_minor": 2
}
