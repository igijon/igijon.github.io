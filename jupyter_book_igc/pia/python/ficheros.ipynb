{
 "cells": [
  {
   "cell_type": "markdown",
   "metadata": {},
   "source": [
    "# Ficheros"
   ]
  },
  {
   "cell_type": "markdown",
   "metadata": {},
   "source": [
    "## Escribir ficheros"
   ]
  },
  {
   "cell_type": "code",
   "execution_count": 1,
   "metadata": {},
   "outputs": [],
   "source": [
    "archivo = open('prueba.txt', 'w')  # Si omitimos el modo de apertura lo abre en modo sólo lectura\n",
    "# Sobreescribe el fichero anterior. Si no existe el fichero, lo crea\n",
    "archivo.write('soy el nuevo texto')\n",
    "archivo.write('si no añado \\n no agrega una nueva línea')\n",
    "archivo.write('''Ahora sí escribe saltos\n",
    "de línea y          tabuladores''')\n",
    "lista = ['Esto es una línea', 'Esto es otra línea', 'Tercera línea']\n",
    "archivo.writelines(lista)\n",
    "# Toma distintas cadenas pero no las escribe en líneas distintas, las escribe una a continuación de otra\n",
    "\n",
    "for p in lista:\n",
    "    archivo.writelines(p+'\\n')\n",
    "\n",
    "archivo.close()\n",
    "\n",
    "archivo = open('prueba.txt', 'a')  # abre el archivo y pone el cursor al final para añadir\n",
    "archivo.write('Bienvenido')\n",
    "archivo.close()"
   ]
  },
  {
   "cell_type": "markdown",
   "metadata": {},
   "source": [
    "## Entrada Salida"
   ]
  },
  {
   "cell_type": "code",
   "execution_count": 1,
   "metadata": {},
   "outputs": [
    {
     "name": "stdout",
     "output_type": "stream",
     "text": [
      "soy el nuevo textosi no añado \n",
      " no agrega una nueva líneaAhora sí escribe saltos\n",
      "de línea y          tabuladoresEsto es una líneaEsto es otra líneaTercera líneaEsto es una línea\n",
      "Esto es otra línea\n",
      "Tercera línea\n",
      "Bienvenido\n",
      "soy el nuevo textosi no añado\n",
      " no agrega una nueva líneaAhora sí escribe saltos\n",
      "de línea y          tabuladoresEsto es una líneaEsto es otra líneaTercera líneaEsto es una línea\n",
      "Esto es otra línea\n",
      "Tercera línea\n",
      "Bienvenido\n",
      "Aquí tenemos: soy el nuevo textosi no añado \n",
      "\n",
      "Aquí tenemos:  no agrega una nueva líneaAhora sí escribe saltos\n",
      "\n",
      "Aquí tenemos: de línea y          tabuladoresEsto es una líneaEsto es otra líneaTercera líneaEsto es una línea\n",
      "\n",
      "Aquí tenemos: Esto es otra línea\n",
      "\n",
      "Aquí tenemos: Tercera línea\n",
      "\n",
      "Aquí tenemos: Bienvenido\n",
      "['soy el nuevo textosi no añado \\n', ' no agrega una nueva líneaAhora sí escribe saltos\\n', 'de línea y          tabuladoresEsto es una líneaEsto es otra líneaTercera líneaEsto es una línea\\n', 'Esto es otra línea\\n', 'Tercera línea\\n', 'Bienvenido']\n"
     ]
    }
   ],
   "source": [
    "mi_archivo = open('prueba.txt')\n",
    "print(mi_archivo.read())\n",
    "mi_archivo.close()  # Se libera el espacio de memoria correspondiente\n",
    "\n",
    "mi_archivo = open('prueba.txt')\n",
    "\n",
    "una_linea = mi_archivo.readline()\n",
    "while una_linea:\n",
    "    print(una_linea.rstrip())  # Eliminamos el \\n del final de la línea porque print ya imprime uno\n",
    "    una_linea = mi_archivo.readline()\n",
    "\n",
    "mi_archivo.close()  # Se libera el espacio de memoria correspondiente\n",
    "\n",
    "\n",
    "mi_archivo = open('prueba.txt')\n",
    "\n",
    "for l in mi_archivo:\n",
    "    print(f\"Aquí tenemos: {l}\")\n",
    "\n",
    "mi_archivo.close()  # Se libera el espacio de memoria correspondiente\n",
    "\n",
    "mi_archivo = open('prueba.txt')\n",
    "todas = mi_archivo.readlines()\n",
    "print(todas)  # Devuelve una lista\n",
    "mi_archivo.close()  # Se libera el espacio de memoria correspondiente"
   ]
  },
  {
   "cell_type": "markdown",
   "metadata": {},
   "source": [
    "## Directorios con `os`"
   ]
  },
  {
   "cell_type": "code",
   "execution_count": 4,
   "metadata": {},
   "outputs": [
    {
     "name": "stdout",
     "output_type": "stream",
     "text": [
      "/Users/usuario/Documents/igijon.github.io/jupyter_book_igc/pia/python\n",
      "soy el nuevo textosi no añado \n",
      " no agrega una nueva líneaAhora sí escribe saltos\n",
      "de línea y          tabuladoresEsto es una líneaEsto es otra líneaTercera líneaEsto es una línea\n",
      "Esto es otra línea\n",
      "Tercera línea\n",
      "Bienvenido\n",
      "/Users/usuario/Documents/igijon.github.io/jupyter_book_igc/pia/python/ejemplos_ficheros/otro_directorio/prueba_nueva.txt\n",
      "prueba_nueva.txt\n",
      "/Users/usuario/Documents/igijon.github.io/jupyter_book_igc/pia/python/ejemplos_ficheros/otro_directorio\n",
      "('/Users/usuario/Documents/igijon.github.io/jupyter_book_igc/pia/python/ejemplos_ficheros/otro_directorio', 'prueba_nueva.txt')\n"
     ]
    }
   ],
   "source": [
    "import os\n",
    "\n",
    "ruta = os.getcwd()  # Obtiene el pwd\n",
    "print(ruta)\n",
    "os.chdir('./ejemplos_ficheros')\n",
    "ruta = os.getcwd()\n",
    "archivo = open('prueba.txt', 'r')\n",
    "print(archivo.read())\n",
    "archivo.close()\n",
    "\n",
    "\n",
    "os.makedirs('otro_directorio')\n",
    "os.chdir('otro_directorio')\n",
    "ruta = os.getcwd()+'/prueba_nueva.txt'\n",
    "print(ruta)\n",
    "\n",
    "elemento = os.path.basename(ruta)\n",
    "print(elemento)  # Nombre de base del fichero\n",
    "elemento = os.path.dirname(ruta)\n",
    "print(elemento)  # Primera parte de nuestra ruta\n",
    "elementos = os.path.split(ruta)\n",
    "print(elementos)\n",
    "\n",
    "os.rmdir(elementos[0])"
   ]
  },
  {
   "cell_type": "markdown",
   "metadata": {},
   "source": [
    "## Directorios `Pathlib`\n",
    "```python\n",
    "from pathlib import Path, PureWindowsPath\n",
    "\n",
    "\"\"\"\n",
    "Este modo no nos asegura que funcione en distintos SSOO\n",
    "archivo = open('./ejemplos/prueba.txt', 'r')\n",
    "print(archivo.read())\n",
    "archivo.close()\"\"\"\n",
    "\n",
    "carpeta = Path('./ejemplos')\n",
    "# Cualquier sistema que abra esto lo podrá leer\n",
    "archivo = carpeta / 'prueba.txt'\n",
    "\n",
    "mi_archivo = open(archivo)\n",
    "print(mi_archivo.read())\n",
    "mi_archivo.close()\n",
    "\n",
    "ruta = Path('./ejemplos/prueba.txt')\n",
    "print(ruta.read_text())  # No hemos tenido que abrir ni cerrar nuestro fichero\n",
    "print(ruta.name)  # Nombre del fichero\n",
    "print(ruta.suffix)\n",
    "print(ruta.stem)\n",
    "\n",
    "ruta_windows = PureWindowsPath(ruta)\n",
    "print(ruta_windows)\n",
    "\n",
    "if not ruta.exists():\n",
    "    print('Este archivo no existe')\n",
    "else:\n",
    "    print('Genial! Existe')\n",
    "```"
   ]
  },
  {
   "cell_type": "markdown",
   "metadata": {},
   "source": [
    "## Path"
   ]
  },
  {
   "cell_type": "code",
   "execution_count": 2,
   "metadata": {},
   "outputs": [
    {
     "name": "stdout",
     "output_type": "stream",
     "text": [
      "/Users/usuario\n",
      "/Users/usuario/Europa/España/Barcelona/Sagrada_Familia.txt\n",
      "/Users/usuario/Europa/España/Barcelona/La_Pedrera.txt\n",
      "/Users/usuario/Europa/España/Barcelona\n",
      "/Users/usuario/Europa/España\n",
      "España/Barcelona/Sagrada_Familia.txt\n",
      "Barcelona/Sagrada_Familia.txt\n"
     ]
    }
   ],
   "source": [
    "from pathlib import Path\n",
    "\n",
    "base = Path.home()\n",
    "guia = Path(base, \"Europa\", \"España\", Path(\"Barcelona\", \"Sagrada_Familia.txt\"))\n",
    "# Permite como elementos cadenas y otros Paths y los compone correctamente\n",
    "\n",
    "guia2 = guia.with_name(\"La_Pedrera.txt\")\n",
    "print(base)\n",
    "print(guia)\n",
    "print(guia2)\n",
    "\n",
    "print(guia.parent)  # Devuelve el antecesor más inmediato\n",
    "print(guia.parent.parent)\n",
    "\n",
    "# Si quiero ver todos los ficheros txt que haya en Europa\n",
    "guia = Path(Path.home(), \"Europa\")\n",
    "for txt in Path(guia).glob(\"*.txt\"):\n",
    "    print(txt)\n",
    "\n",
    "# Para que incluya todas las carpetas y subcarpetas que vaya encontrando podemos hacer\n",
    "for txt in Path(guia).glob(\"**/*.txt\"):\n",
    "    print(txt)\n",
    "\n",
    "guia = Path(\"Europa\", \"España\", \"Barcelona\", \"Sagrada_Familia.txt\")\n",
    "en_europa = guia.relative_to(Path(\"Europa\"))\n",
    "en_espania = guia.relative_to(Path(\"Europa\", \"España\"))\n",
    "print(en_europa)\n",
    "print(en_espania)"
   ]
  },
  {
   "cell_type": "markdown",
   "metadata": {},
   "source": [
    "## Ejercio propuesto\n",
    "Un coleccionista de antiguas películas clásicas quiere gestionar su catálogo utilizando Python y archivos de texto.\n",
    "\n",
    "Necesitamos:\n",
    "1. **Crear** un archivo `catalogo.txt` donde se puedan agregar nuevas películas que lleguen al videoclub. Cada película debe tener su **títutlo, año de lanzamiento** y una **descripción** breve que resuma su trama épica.\n",
    "2. **Leer** el catálogo completo para que podamos ver la lista de películas disponibles.\n",
    "3. Poder **buscar** una peli por su título.\n",
    "4. Poder **eliminar** una película por su título del catálogo."
   ]
  }
 ],
 "metadata": {
  "kernelspec": {
   "display_name": "Python 3",
   "language": "python",
   "name": "python3"
  },
  "language_info": {
   "codemirror_mode": {
    "name": "ipython",
    "version": 3
   },
   "file_extension": ".py",
   "mimetype": "text/x-python",
   "name": "python",
   "nbconvert_exporter": "python",
   "pygments_lexer": "ipython3",
   "version": "3.12.6"
  }
 },
 "nbformat": 4,
 "nbformat_minor": 2
}
