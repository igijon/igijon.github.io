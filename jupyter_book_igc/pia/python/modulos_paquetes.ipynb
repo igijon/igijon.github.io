{
 "cells": [
  {
   "cell_type": "markdown",
   "metadata": {},
   "source": [
    "# Módulos y paquetes"
   ]
  },
  {
   "cell_type": "code",
   "execution_count": 2,
   "metadata": {},
   "outputs": [],
   "source": [
    "# Potencias.py\n",
    "def cuadrado(n):\n",
    "    return n**2\n",
    "\n",
    "\n",
    "def cubo(n):\n",
    "    return n**3"
   ]
  },
  {
   "cell_type": "markdown",
   "metadata": {},
   "source": [
    "## Import"
   ]
  },
  {
   "cell_type": "markdown",
   "metadata": {},
   "source": [
    "```python\n",
    "import Potencias\n",
    "\n",
    "print(Potencias.cubo(3))\n",
    "print(Potencias.cuadrado(5))\n",
    "```"
   ]
  },
  {
   "cell_type": "markdown",
   "metadata": {},
   "source": [
    "## From"
   ]
  },
  {
   "cell_type": "markdown",
   "metadata": {},
   "source": [
    "```python\n",
    "from Potencias import *\n",
    "\n",
    "print(cubo(4))\n",
    "```\n"
   ]
  },
  {
   "cell_type": "markdown",
   "metadata": {},
   "source": [
    "## Alias"
   ]
  },
  {
   "cell_type": "markdown",
   "metadata": {},
   "source": [
    "```python\n",
    "import Potencias as p  # alias\n",
    "\n",
    "print(p.cuadrado(3))\n",
    "```\n"
   ]
  },
  {
   "cell_type": "markdown",
   "metadata": {},
   "source": [
    "## Main From Alias"
   ]
  },
  {
   "cell_type": "markdown",
   "metadata": {},
   "source": [
    "```python\n",
    "from Potencias import cuadrado as pc\n",
    "\n",
    "print(pc(4))\n",
    "```\n"
   ]
  },
  {
   "cell_type": "markdown",
   "metadata": {},
   "source": [
    "## Módulos y paquetes\n",
    "Imaginemos que tenemos el fichero `Usuarios/Cliente.py`"
   ]
  },
  {
   "cell_type": "markdown",
   "metadata": {},
   "source": [
    "```python\n",
    "class Cliente:\n",
    "    def __init__(self, nombre):\n",
    "        self.nombre = nombre\n",
    "\n",
    "    def hablar(self):\n",
    "        print(f'Hola, me llamo {self.nombre}')\n",
    "\n",
    "\n",
    "class Anuales(Cliente):\n",
    "    pass\n",
    "```\n"
   ]
  },
  {
   "cell_type": "markdown",
   "metadata": {},
   "source": [
    "```python\n",
    "from Usuarios.Cliente import *\n",
    "\n",
    "mi_cliente = Cliente('Alonso')\n",
    "mi_cliente.hablar()\n",
    "mi_actual = Anuales('Luisa')\n",
    "mi_actual.hablar()\n",
    "```\n"
   ]
  },
  {
   "cell_type": "markdown",
   "metadata": {},
   "source": [
    "## Ejercio propuesto\n",
    "Un coleccionista de antiguas películas clásicas quiere gestionar su catálogo utilizando Python y archivos de texto.\n",
    "\n",
    "Necesitamos:\n",
    "1. **Crear** un archivo `catalogo.txt` donde se puedan agregar nuevas películas que lleguen al videoclub. Cada película debe tener su **título, año de lanzamiento** y una **descripción** breve que resuma su trama épica.\n",
    "2. **Leer** el catálogo completo para que podamos ver la lista de películas disponibles.\n",
    "3. Poder **buscar** una peli por su título.\n",
    "4. Poder **eliminar** una película por su título del catálogo."
   ]
  }
 ],
 "metadata": {
  "kernelspec": {
   "display_name": "Python 3",
   "language": "python",
   "name": "python3"
  },
  "language_info": {
   "codemirror_mode": {
    "name": "ipython",
    "version": 3
   },
   "file_extension": ".py",
   "mimetype": "text/x-python",
   "name": "python",
   "nbconvert_exporter": "python",
   "pygments_lexer": "ipython3",
   "version": "3.12.6"
  }
 },
 "nbformat": 4,
 "nbformat_minor": 2
}
