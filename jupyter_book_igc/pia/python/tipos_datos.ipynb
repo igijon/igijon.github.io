{
 "cells": [
  {
   "cell_type": "markdown",
   "metadata": {},
   "source": [
    "# Tipos de datos\n",
    "\n",
    "https://github.com/igijon/python_bases/tree/main/1_Tipos_Datos\n",
    "\n",
    "## Variables"
   ]
  },
  {
   "cell_type": "code",
   "execution_count": 1,
   "metadata": {},
   "outputs": [
    {
     "name": "stdout",
     "output_type": "stream",
     "text": [
      "Juan\n",
      "Laura\n",
      "Laura 13\n",
      "Tu nombre es Inma\n",
      "Hola Python_Bases\n",
      "70\n"
     ]
    }
   ],
   "source": [
    "nombre = \"Juan\"\n",
    "print(nombre)\n",
    "nombre = \"Laura\"\n",
    "print(nombre)\n",
    "\n",
    "edad = 13\n",
    "print(nombre, edad)\n",
    "\n",
    "nombre = input(\"Dime tu nombre\")\n",
    "print(\"Tu nombre es \"+nombre)\n",
    "\n",
    "nombre1 = \"Hola \"\n",
    "nombre2 = \"Python_Bases\"\n",
    "frase = nombre1+nombre2\n",
    "\n",
    "print(frase)\n",
    "\n",
    "edad = 30\n",
    "edad2 = 40\n",
    "total = edad+edad2\n",
    "print(total)"
   ]
  },
  {
   "cell_type": "markdown",
   "metadata": {},
   "source": [
    "## Formatear cadenas"
   ]
  },
  {
   "cell_type": "code",
   "execution_count": 2,
   "metadata": {},
   "outputs": [
    {
     "name": "stdout",
     "output_type": "stream",
     "text": [
      "Mis números son 10 y 5\n",
      "Mis números son 10 y 5\n",
      "La suma de 10 y 5 es igual a 15\n",
      "Mis números son 10 y 5\n",
      "El coche es de color rojo y su matrícula es 54345\n"
     ]
    }
   ],
   "source": [
    "x = 10\n",
    "y = 5\n",
    "\n",
    "print(\"Mis números son \"+str(x)+\" y \"+str(y))\n",
    "print(\"Mis números son {} y {}\".format(x, y))\n",
    "print(\"La suma de {} y {} es igual a {}\".format(x, y, x+y))\n",
    "print(f\"Mis números son {x} y {y}\")  # Cadenas literales\n",
    "\n",
    "color = \"rojo\"\n",
    "matricula = 54345\n",
    "print(f\"El coche es de color {color} y su matrícula es {matricula}\")  # Cadenas literales"
   ]
  },
  {
   "cell_type": "markdown",
   "metadata": {},
   "source": [
    "## Operadores"
   ]
  },
  {
   "cell_type": "code",
   "execution_count": 3,
   "metadata": {},
   "outputs": [
    {
     "name": "stdout",
     "output_type": "stream",
     "text": [
      "6 más 2 es 8\n",
      "6 menos 2 es 4\n",
      "6 por 2 es 12\n",
      "6 dividido 2 es 3.0\n",
      "7 dividido (truncando) por 2 es igual a 3\n",
      "7 módulo 2 es igual a 1\n",
      "6 elevado a 2 es 36\n",
      "6 elevado a 3 es 216\n",
      "La raíz cuadrada de 6 es 2.449489742783178\n"
     ]
    }
   ],
   "source": [
    "x = 6\n",
    "y = 2\n",
    "z = 7\n",
    "print(f\"{x} más {y} es {x+y}\")\n",
    "print(f\"{x} menos {y} es {x-y}\")\n",
    "print(f\"{x} por {y} es {x*y}\")\n",
    "print(f\"{x} dividido {y} es {x/y}\")\n",
    "print(f\"{z} dividido (truncando) por {y} es igual a {z//y}\")\n",
    "print(f\"{z} módulo {y} es igual a {z%y}\")\n",
    "print(f\"{x} elevado a {y} es {x**y}\")\n",
    "print(f\"{x} elevado a {3} es {x**3}\")\n",
    "print(f\"La raíz cuadrada de {x} es {x**0.5}\")"
   ]
  },
  {
   "cell_type": "markdown",
   "metadata": {},
   "source": [
    "## Integer y Floats"
   ]
  },
  {
   "cell_type": "code",
   "execution_count": 4,
   "metadata": {},
   "outputs": [
    {
     "name": "stdout",
     "output_type": "stream",
     "text": [
      "8\n",
      "<class 'int'>\n",
      "5.8\n",
      "<class 'float'>\n",
      "Tu edad es 24\n"
     ]
    },
    {
     "ename": "TypeError",
     "evalue": "unsupported operand type(s) for +: 'int' and 'str'",
     "output_type": "error",
     "traceback": [
      "\u001b[0;31m---------------------------------------------------------------------------\u001b[0m",
      "\u001b[0;31mTypeError\u001b[0m                                 Traceback (most recent call last)",
      "Cell \u001b[0;32mIn[4], line 11\u001b[0m\n\u001b[1;32m      8\u001b[0m edad \u001b[38;5;241m=\u001b[39m \u001b[38;5;28minput\u001b[39m(\u001b[38;5;124m\"\u001b[39m\u001b[38;5;124mDime tu edad: \u001b[39m\u001b[38;5;124m\"\u001b[39m)\n\u001b[1;32m      9\u001b[0m \u001b[38;5;28mprint\u001b[39m(\u001b[38;5;124m\"\u001b[39m\u001b[38;5;124mTu edad es \u001b[39m\u001b[38;5;124m\"\u001b[39m\u001b[38;5;241m+\u001b[39medad)\n\u001b[0;32m---> 11\u001b[0m nueva_edad \u001b[38;5;241m=\u001b[39m \u001b[38;5;241;43m1\u001b[39;49m\u001b[43m \u001b[49m\u001b[38;5;241;43m+\u001b[39;49m\u001b[43m \u001b[49m\u001b[43medad\u001b[49m  \u001b[38;5;66;03m# Fallará porque edad es de tipo str\u001b[39;00m\n\u001b[1;32m     12\u001b[0m \u001b[38;5;28mprint\u001b[39m(\u001b[38;5;124m\"\u001b[39m\u001b[38;5;124mVas a cumplir \u001b[39m\u001b[38;5;124m\"\u001b[39m\u001b[38;5;241m+\u001b[39mnueva_edad)\n",
      "\u001b[0;31mTypeError\u001b[0m: unsupported operand type(s) for +: 'int' and 'str'"
     ]
    }
   ],
   "source": [
    "mi_numero = 1 + 3\n",
    "print(mi_numero + mi_numero)\n",
    "print(type(mi_numero))\n",
    "mi_numero = 5.8\n",
    "print(mi_numero)\n",
    "print(type(mi_numero))\n",
    "\n",
    "edad = input(\"Dime tu edad: \")\n",
    "print(\"Tu edad es \"+edad)\n",
    "\n",
    "nueva_edad = 1 + edad  # Fallará porque edad es de tipo str\n",
    "print(\"Vas a cumplir \"+nueva_edad)"
   ]
  },
  {
   "cell_type": "markdown",
   "metadata": {},
   "source": [
    "## Conversiones"
   ]
  },
  {
   "cell_type": "code",
   "execution_count": 8,
   "metadata": {},
   "outputs": [
    {
     "name": "stdout",
     "output_type": "stream",
     "text": [
      "<class 'int'> <class 'float'>\n",
      "<class 'float'> <class 'float'>\n",
      "5.8 <class 'float'>\n",
      "5 <class 'int'>\n",
      "<class 'str'>\n",
      "<class 'int'>\n",
      "35 <class 'int'>\n",
      "Tu nueva edad va a ser 35\n"
     ]
    }
   ],
   "source": [
    "# implícitas\n",
    "\n",
    "num1 = 20\n",
    "num2 = 30.5\n",
    "\n",
    "print(type(num1), type(num2))\n",
    "\n",
    "num1 = num1 + num2\n",
    "\n",
    "print(type(num1), type(num2))\n",
    "\n",
    "# explícitas\n",
    "num1 = 5.8\n",
    "print(num1, type(num1))\n",
    "\n",
    "num2 = int(num1)\n",
    "print(num2, type(num2))\n",
    "\n",
    "edad = input(\"Dime tu edad: \")\n",
    "\n",
    "print(type(edad))\n",
    "\n",
    "edad = int(edad)\n",
    "\n",
    "print(type(edad))\n",
    "\n",
    "nueva_edad = 1 + edad\n",
    "print(nueva_edad, type(nueva_edad))\n",
    "print(\"Tu nueva edad va a ser \"+str(nueva_edad))"
   ]
  },
  {
   "cell_type": "markdown",
   "metadata": {},
   "source": [
    "## Redondeo"
   ]
  },
  {
   "cell_type": "code",
   "execution_count": 9,
   "metadata": {},
   "outputs": [
    {
     "name": "stdout",
     "output_type": "stream",
     "text": [
      "13\n",
      "95.667\n",
      "<class 'float'>\n",
      "96\n",
      "<class 'int'>\n"
     ]
    }
   ],
   "source": [
    "print(round(90/7))\n",
    "\n",
    "valor = 95.66666666666666666666666666\n",
    "\n",
    "valor = round(valor, 3)\n",
    "print(valor)\n",
    "print(type(valor))\n",
    "\n",
    "valor = round(valor)\n",
    "print(valor)\n",
    "print(type(valor))"
   ]
  },
  {
   "cell_type": "markdown",
   "metadata": {},
   "source": [
    "## Ejercicio propuesto\n",
    "La situación es esta: Se acerca el Black Friday y en una tienda de tecnología se van a aplicar algunos descuentos. \n",
    "- Si el producto es de telefonía móvil, se le aplicará un 15% de descuento.\n",
    "- Si el producto es de informática, se le aplicará un 18% de descuento.\n",
    "- Si el producto es de cualquier otra categoría, se le aplicará un 22% de descuento.\n",
    "\n",
    "Debes realizar un programa que solicite a un trabajador de la tienda el nombre del producto, la categoría y el precio y le indique el precio final para el Black Friday."
   ]
  }
 ],
 "metadata": {
  "kernelspec": {
   "display_name": "Python 3",
   "language": "python",
   "name": "python3"
  },
  "language_info": {
   "codemirror_mode": {
    "name": "ipython",
    "version": 3
   },
   "file_extension": ".py",
   "mimetype": "text/x-python",
   "name": "python",
   "nbconvert_exporter": "python",
   "pygments_lexer": "ipython3",
   "version": "3.12.6"
  }
 },
 "nbformat": 4,
 "nbformat_minor": 2
}
