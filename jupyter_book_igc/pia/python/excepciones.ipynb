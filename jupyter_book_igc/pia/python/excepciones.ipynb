{
 "cells": [
  {
   "cell_type": "markdown",
   "metadata": {},
   "source": [
    "# Excepciones\n",
    "\n",
    "https://docs.python.org/es/3/tutorial/errors.html\n"
   ]
  },
  {
   "cell_type": "markdown",
   "metadata": {},
   "source": [
    "## Manejo de errores\n",
    "```python\n",
    "def suma():\n",
    "    n1 = int(input('Número 1: '))\n",
    "    n2 = int(input('Número 2: '))\n",
    "    print(n1+n2)\n",
    "    print('Gracias por sumar '+n1+' y '+n2)\n",
    "\n",
    "\n",
    "try:\n",
    "    suma()\n",
    "except TypeError:\n",
    "    print('Ha ocurrido un error de tipo')\n",
    "except ValueError:\n",
    "    print('Se ha introducido un carácter no numérico')\n",
    "else:\n",
    "    print('Hiciste todo bien')\n",
    "finally:\n",
    "    print('Hemos terminado')\n",
    "```\n"
   ]
  },
  {
   "cell_type": "markdown",
   "metadata": {},
   "source": [
    "## Try-except\n",
    "```python\n",
    "isNumber = False\n",
    "while not isNumber:\n",
    "    try:\n",
    "        x = int(input(\"Introduce un número: \"))\n",
    "        isNumber = True\n",
    "    except ValueError:\n",
    "        print('Debes introducir un número')\n",
    "print(x)\n",
    "\n",
    "cad = 0\n",
    "try:\n",
    "    print(10/int(cad))\n",
    "except ValueError:\n",
    "    print('No se puede convertir a entero')\n",
    "except ZeroDivisionError:\n",
    "    print('No se puede dividir por cero')\n",
    "except:\n",
    "    print('Otro error')\n",
    "finally:\n",
    "    print('Terminamos el programa')\n",
    "\n",
    "cad = 'a'\n",
    "try:\n",
    "    i = int(cad)\n",
    "except ValueError as error:\n",
    "    print(type(error))\n",
    "    print(error.args)\n",
    "    print(error)\n",
    "    \n",
    "```\n"
   ]
  },
  {
   "cell_type": "markdown",
   "metadata": {},
   "source": [
    "## Propagando excepciones"
   ]
  },
  {
   "cell_type": "code",
   "execution_count": 2,
   "metadata": {},
   "outputs": [
    {
     "name": "stdout",
     "output_type": "stream",
     "text": [
      "division by zero\n"
     ]
    }
   ],
   "source": [
    "def dividir(x, y):\n",
    "    try:\n",
    "        return x/y\n",
    "    except ZeroDivisionError:\n",
    "        raise\n",
    "\n",
    "\n",
    "def nivel(numero):\n",
    "    if numero<0:\n",
    "        raise ValueError('El úmero debe ser positivo: '+str(numero))\n",
    "    else:\n",
    "        return numero\n",
    "\n",
    "\n",
    "x = 5\n",
    "y = 0\n",
    "try:\n",
    "    dividir(x, y)\n",
    "except Exception as error:\n",
    "    print(error)"
   ]
  }
 ],
 "metadata": {
  "kernelspec": {
   "display_name": "Python 3",
   "language": "python",
   "name": "python3"
  },
  "language_info": {
   "codemirror_mode": {
    "name": "ipython",
    "version": 3
   },
   "file_extension": ".py",
   "mimetype": "text/x-python",
   "name": "python",
   "nbconvert_exporter": "python",
   "pygments_lexer": "ipython3",
   "version": "3.12.6"
  }
 },
 "nbformat": 4,
 "nbformat_minor": 2
}
