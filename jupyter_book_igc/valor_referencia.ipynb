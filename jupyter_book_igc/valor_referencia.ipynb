{
 "cells": [
  {
   "cell_type": "markdown",
   "metadata": {},
   "source": [
    "# Valor, referencia y romper la referencia\n",
    "\n",
    "## Valor\n"
   ]
  },
  {
   "cell_type": "code",
   "execution_count": 2,
   "metadata": {
    "vscode": {
     "languageId": "javascript"
    }
   },
   "outputs": [
    {
     "name": "stdout",
     "output_type": "stream",
     "text": [
      "{ a: \u001b[33m30\u001b[39m, b: \u001b[33m10\u001b[39m }\n"
     ]
    }
   ],
   "source": [
    "\n",
    "let a = 10;\n",
    "let b = a;\n",
    "a = 30;\n",
    "\n",
    "//Cuando trabajamos por primitivos, trabajamos por valor,\n",
    "//no afectamos el mismo espacio de memoria\n",
    "console.log({a, b});"
   ]
  },
  {
   "cell_type": "markdown",
   "metadata": {},
   "source": [
    "## Referencia"
   ]
  },
  {
   "cell_type": "code",
   "execution_count": 3,
   "metadata": {
    "vscode": {
     "languageId": "javascript"
    }
   },
   "outputs": [
    {
     "name": "stdout",
     "output_type": "stream",
     "text": [
      "{ juan: { nombre: \u001b[32m'Ana'\u001b[39m }, ana: { nombre: \u001b[32m'Ana'\u001b[39m } }\n"
     ]
    }
   ],
   "source": [
    "\n",
    " //En JS todos los objetos son pasados por referncia.\n",
    " let juan = { nombre: 'Juan' };\n",
    " let ana = juan;\n",
    " ana.nombre = 'Ana';\n",
    " \n",
    " console.log( {juan, ana} );"
   ]
  },
  {
   "cell_type": "markdown",
   "metadata": {},
   "source": [
    "```{note}\n",
    "En JS todos los elementos son objetos menos los primitivos\n",
    "```"
   ]
  },
  {
   "cell_type": "code",
   "execution_count": 4,
   "metadata": {
    "vscode": {
     "languageId": "javascript"
    }
   },
   "outputs": [
    {
     "name": "stdout",
     "output_type": "stream",
     "text": [
      "{ charles: { nombre: \u001b[32m'Edu'\u001b[39m }, edu: { nombre: \u001b[32m'Edu'\u001b[39m } }\n"
     ]
    }
   ],
   "source": [
    "\n",
    "const cambiaNombre = ( persona ) => {\n",
    "    persona.nombre = 'Edu';\n",
    "    return persona;\n",
    "}\n",
    "\n",
    "let charles = {nombre: 'Charles'};\n",
    "let edu = cambiaNombre ( charles );\n",
    "console.log( {charles, edu} );"
   ]
  },
  {
   "cell_type": "markdown",
   "metadata": {},
   "source": [
    "## Romper la referencia"
   ]
  },
  {
   "cell_type": "code",
   "execution_count": 5,
   "metadata": {
    "vscode": {
     "languageId": "javascript"
    }
   },
   "outputs": [
    {
     "name": "stdout",
     "output_type": "stream",
     "text": [
      "{ juan: { nombre: \u001b[32m'Juan'\u001b[39m }, ana: { nombre: \u001b[32m'Ana'\u001b[39m } }\n",
      "{ peter: { nombre: \u001b[32m'Peter'\u001b[39m }, tony: { nombre: \u001b[32m'Tony'\u001b[39m } }\n"
     ]
    }
   ],
   "source": [
    "\n",
    "//En JS todos los objetos son pasados por referncia.\n",
    "let juan = { nombre: 'Juan' };\n",
    "let ana = { ...juan }; //Esto genera una copia porque genera un nuevo objeto\n",
    "//Y el operador spread separa todas las propiedades del objeto juan\n",
    "//Es diferente al parámetro rest cuando va como parámetro en una función.\n",
    "ana.nombre = 'Ana';\n",
    "\n",
    "console.log( {juan, ana} );\n",
    "\n",
    "const cambiaNombre = ( {...persona} ) => {\n",
    "    persona.nombre = 'Tony';\n",
    "    return persona;\n",
    "}\n",
    "\n",
    "let peter = {nombre: 'Peter'};\n",
    "let tony = cambiaNombre ( peter );\n",
    "console.log( {peter, tony} );"
   ]
  },
  {
   "cell_type": "markdown",
   "metadata": {},
   "source": [
    "Igual pero con arrays"
   ]
  },
  {
   "cell_type": "code",
   "execution_count": 6,
   "metadata": {
    "vscode": {
     "languageId": "javascript"
    }
   },
   "outputs": [
    {
     "name": "stdout",
     "output_type": "stream",
     "text": [
      "┌─────────────┬───────────┬────────┬────────┬─────────┐\n",
      "│ (index)     │ 0         │ 1      │ 2      │ 3       │\n",
      "├─────────────┼───────────┼────────┼────────┼─────────┤\n",
      "│ frutas      │ \u001b[32m'Manzana'\u001b[39m │ \u001b[32m'Pera'\u001b[39m │ \u001b[32m'Piña'\u001b[39m │ \u001b[32m'Mango'\u001b[39m │\n",
      "│ otrasFrutas │ \u001b[32m'Manzana'\u001b[39m │ \u001b[32m'Pera'\u001b[39m │ \u001b[32m'Piña'\u001b[39m │ \u001b[32m'Mango'\u001b[39m │\n",
      "└─────────────┴───────────┴────────┴────────┴─────────┘\n"
     ]
    }
   ],
   "source": [
    "\n",
    "//Array\n",
    "const frutas = ['Manzana', 'Pera', 'Piña'];\n",
    "const otrasFrutas = frutas;\n",
    "otrasFrutas.push('Mango');\n",
    "console.table({frutas, otrasFrutas});"
   ]
  },
  {
   "cell_type": "code",
   "execution_count": 7,
   "metadata": {
    "vscode": {
     "languageId": "javascript"
    }
   },
   "outputs": [
    {
     "name": "stdout",
     "output_type": "stream",
     "text": [
      "┌─────────────┬───────────┬────────┬────────┬─────────┐\n",
      "│ (index)     │ 0         │ 1      │ 2      │ 3       │\n",
      "├─────────────┼───────────┼────────┼────────┼─────────┤\n",
      "│ frutas      │ \u001b[32m'Manzana'\u001b[39m │ \u001b[32m'Pera'\u001b[39m │ \u001b[32m'Piña'\u001b[39m │         │\n",
      "│ otrasFrutas │ \u001b[32m'Manzana'\u001b[39m │ \u001b[32m'Pera'\u001b[39m │ \u001b[32m'Piña'\u001b[39m │ \u001b[32m'Mango'\u001b[39m │\n",
      "└─────────────┴───────────┴────────┴────────┴─────────┘\n"
     ]
    }
   ],
   "source": [
    "\n",
    "//Array\n",
    "const frutas = ['Manzana', 'Pera', 'Piña'];\n",
    "const otrasFrutas = [...frutas];\n",
    "otrasFrutas.push('Mango');\n",
    "console.table({frutas, otrasFrutas});"
   ]
  },
  {
   "cell_type": "code",
   "execution_count": 8,
   "metadata": {
    "vscode": {
     "languageId": "javascript"
    }
   },
   "outputs": [
    {
     "name": "stdout",
     "output_type": "stream",
     "text": [
      "┌─────────────┬───────────┬────────┬────────┬─────────┐\n",
      "│ (index)     │ 0         │ 1      │ 2      │ 3       │\n",
      "├─────────────┼───────────┼────────┼────────┼─────────┤\n",
      "│ frutas      │ \u001b[32m'Manzana'\u001b[39m │ \u001b[32m'Pera'\u001b[39m │ \u001b[32m'Piña'\u001b[39m │         │\n",
      "│ otrasFrutas │ \u001b[32m'Manzana'\u001b[39m │ \u001b[32m'Pera'\u001b[39m │ \u001b[32m'Piña'\u001b[39m │ \u001b[32m'Mango'\u001b[39m │\n",
      "└─────────────┴───────────┴────────┴────────┴─────────┘\n"
     ]
    }
   ],
   "source": [
    "\n",
    "//Array\n",
    "const frutas = ['Manzana', 'Pera', 'Piña'];\n",
    "const otrasFrutas = frutas.slice(); //Produce el mismo efecto que spread. \n",
    "otrasFrutas.push('Mango');\n",
    "console.table({frutas, otrasFrutas});"
   ]
  },
  {
   "cell_type": "markdown",
   "metadata": {},
   "source": [
    "Vamos a ver eficiencia:"
   ]
  },
  {
   "cell_type": "code",
   "execution_count": 12,
   "metadata": {
    "vscode": {
     "languageId": "javascript"
    }
   },
   "outputs": [
    {
     "name": "stdout",
     "output_type": "stream",
     "text": [
      "slice: 0.073ms\n",
      "spread: 0.005ms\n"
     ]
    }
   ],
   "source": [
    "\n",
    "const frutas = ['Manzana', 'Pera', 'Piña'];\n",
    "console.time('slice');\n",
    "const otrasFrutas = frutas.slice();\n",
    "console.timeEnd('slice');\n",
    "\n",
    "console.time('spread');\n",
    "const otrasFrutas2 = [...frutas];\n",
    "console.timeEnd('spread');"
   ]
  }
 ],
 "metadata": {
  "kernelspec": {
   "display_name": "Python 3",
   "language": "python",
   "name": "python3"
  },
  "language_info": {
   "codemirror_mode": {
    "name": "ipython",
    "version": 3
   },
   "file_extension": ".py",
   "mimetype": "text/x-python",
   "name": "python",
   "nbconvert_exporter": "python",
   "pygments_lexer": "ipython3",
   "version": "3.11.0"
  },
  "orig_nbformat": 4
 },
 "nbformat": 4,
 "nbformat_minor": 2
}
