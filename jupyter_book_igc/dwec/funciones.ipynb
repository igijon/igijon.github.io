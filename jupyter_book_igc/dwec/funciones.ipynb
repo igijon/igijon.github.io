{
 "cells": [
  {
   "cell_type": "markdown",
   "metadata": {},
   "source": [
    "# Funciones básicas y funciones lambda\n",
    "\n",
    "```{note}\n",
    "Una función centraliza la lógica de un procedimiento que podemos ejecutar varias veces. El uso de funciones permite agrupar y reutilizar código y son parte fundamental de la programación modular, estructurada y funcional.\n",
    "```"
   ]
  },
  {
   "cell_type": "markdown",
   "metadata": {},
   "source": [
    "## Declaración de funciones explícita\n",
    "Las funciones pueden ser declaradas de manera explícita. Este tipo de declaración se carga en tiempo de compilación, permitiendo su uso antes de la declaración (hoisting)."
   ]
  },
  {
   "cell_type": "code",
   "execution_count": 5,
   "metadata": {
    "vscode": {
     "languageId": "javascript"
    }
   },
   "outputs": [
    {
     "name": "stdout",
     "output_type": "stream",
     "text": [
      "Hola Mundo\n",
      "\u001b[90mundefined\u001b[39m\n"
     ]
    }
   ],
   "source": [
    "\n",
    "console.log(saludar())\n",
    "//Este tipo de declaración no es recomendable, ya veremos por qué.\n",
    "function saludar() {\n",
    "    console.log('Hola Mundo');\n",
    "}\n"
   ]
  },
  {
   "cell_type": "code",
   "execution_count": 1,
   "metadata": {
    "vscode": {
     "languageId": "javascript"
    }
   },
   "outputs": [
    {
     "name": "stderr",
     "output_type": "stream",
     "text": [
      "[stdin]:9\n",
      "saludar(); //Esto da un error\n",
      "^\n",
      "\n",
      "TypeError: saludar is not a function\n",
      "    at [stdin]:9:1\n",
      "\u001b[90m    at runScriptInThisContext (node:internal/vm:209:10)\u001b[39m\n",
      "\u001b[90m    at node:internal/process/execution:118:14\u001b[39m\n",
      "    at [stdin]-wrapper:6:24\n",
      "\u001b[90m    at runScript (node:internal/process/execution:101:62)\u001b[39m\n",
      "\u001b[90m    at evalScript (node:internal/process/execution:133:3)\u001b[39m\n",
      "\u001b[90m    at node:internal/main/eval_stdin:32:5\u001b[39m\n",
      "\u001b[90m    at Socket.<anonymous> (node:internal/process/execution:234:5)\u001b[39m\n",
      "\u001b[90m    at Socket.emit (node:events:531:35)\u001b[39m\n",
      "\u001b[90m    at endReadableNT (node:internal/streams/readable:1696:12)\u001b[39m\n",
      "\n",
      "Node.js v20.17.0\n"
     ]
    },
    {
     "ename": "CalledProcessError",
     "evalue": "Command 'b\"//Forma tradicional pero no muy recomendable\\nfunction saludar() {\\n    console.log('Hola Mundo');\\n}\\n\\n//Si hago esto:\\nvar saludar = 123;\\n\\nsaludar(); //Esto da un error\\n\"' returned non-zero exit status 1.",
     "output_type": "error",
     "traceback": [
      "\u001b[0;31m---------------------------------------------------------------------------\u001b[0m",
      "\u001b[0;31mCalledProcessError\u001b[0m                        Traceback (most recent call last)",
      "\u001b[1;32m/Users/inma/igijon.github.io/jupyter_book_igc/dwec/funciones.ipynb Celda 2\u001b[0m line \u001b[0;36m1\n\u001b[0;32m----> <a href='vscode-notebook-cell:/Users/inma/igijon.github.io/jupyter_book_igc/dwec/funciones.ipynb#W2sZmlsZQ%3D%3D?line=0'>1</a>\u001b[0m get_ipython()\u001b[39m.\u001b[39;49mrun_cell_magic(\u001b[39m'\u001b[39;49m\u001b[39mscript\u001b[39;49m\u001b[39m'\u001b[39;49m, \u001b[39m'\u001b[39;49m\u001b[39mnode\u001b[39;49m\u001b[39m'\u001b[39;49m, \u001b[39m\"\u001b[39;49m\u001b[39m//Forma tradicional pero no muy recomendable\u001b[39;49m\u001b[39m\\n\u001b[39;49;00m\u001b[39mfunction saludar() \u001b[39;49m\u001b[39m{\u001b[39;49m\u001b[39m\\n\u001b[39;49;00m\u001b[39m    console.log(\u001b[39;49m\u001b[39m'\u001b[39;49m\u001b[39mHola Mundo\u001b[39;49m\u001b[39m'\u001b[39;49m\u001b[39m);\u001b[39;49m\u001b[39m\\n\u001b[39;49;00m\u001b[39m}\u001b[39;49m\u001b[39m\\n\u001b[39;49;00m\u001b[39m\\n\u001b[39;49;00m\u001b[39m//Si hago esto:\u001b[39;49m\u001b[39m\\n\u001b[39;49;00m\u001b[39mvar saludar = 123;\u001b[39;49m\u001b[39m\\n\u001b[39;49;00m\u001b[39m\\n\u001b[39;49;00m\u001b[39msaludar(); //Esto da un error\u001b[39;49m\u001b[39m\\n\u001b[39;49;00m\u001b[39m\"\u001b[39;49m)\n",
      "File \u001b[0;32m~/Library/Python/3.11/lib/python/site-packages/IPython/core/interactiveshell.py:2422\u001b[0m, in \u001b[0;36mInteractiveShell.run_cell_magic\u001b[0;34m(self, magic_name, line, cell)\u001b[0m\n\u001b[1;32m   2420\u001b[0m \u001b[39mwith\u001b[39;00m \u001b[39mself\u001b[39m\u001b[39m.\u001b[39mbuiltin_trap:\n\u001b[1;32m   2421\u001b[0m     args \u001b[39m=\u001b[39m (magic_arg_s, cell)\n\u001b[0;32m-> 2422\u001b[0m     result \u001b[39m=\u001b[39m fn(\u001b[39m*\u001b[39;49margs, \u001b[39m*\u001b[39;49m\u001b[39m*\u001b[39;49mkwargs)\n\u001b[1;32m   2423\u001b[0m \u001b[39mreturn\u001b[39;00m result\n",
      "File \u001b[0;32m~/Library/Python/3.11/lib/python/site-packages/IPython/core/magics/script.py:305\u001b[0m, in \u001b[0;36mScriptMagics.shebang\u001b[0;34m(self, line, cell)\u001b[0m\n\u001b[1;32m    300\u001b[0m \u001b[39mif\u001b[39;00m args\u001b[39m.\u001b[39mraise_error \u001b[39mand\u001b[39;00m p\u001b[39m.\u001b[39mreturncode \u001b[39m!=\u001b[39m \u001b[39m0\u001b[39m:\n\u001b[1;32m    301\u001b[0m     \u001b[39m# If we get here and p.returncode is still None, we must have\u001b[39;00m\n\u001b[1;32m    302\u001b[0m     \u001b[39m# killed it but not yet seen its return code. We don't wait for it,\u001b[39;00m\n\u001b[1;32m    303\u001b[0m     \u001b[39m# in case it's stuck in uninterruptible sleep. -9 = SIGKILL\u001b[39;00m\n\u001b[1;32m    304\u001b[0m     rc \u001b[39m=\u001b[39m p\u001b[39m.\u001b[39mreturncode \u001b[39mor\u001b[39;00m \u001b[39m-\u001b[39m\u001b[39m9\u001b[39m\n\u001b[0;32m--> 305\u001b[0m     \u001b[39mraise\u001b[39;00m CalledProcessError(rc, cell)\n",
      "\u001b[0;31mCalledProcessError\u001b[0m: Command 'b\"//Forma tradicional pero no muy recomendable\\nfunction saludar() {\\n    console.log('Hola Mundo');\\n}\\n\\n//Si hago esto:\\nvar saludar = 123;\\n\\nsaludar(); //Esto da un error\\n\"' returned non-zero exit status 1."
     ]
    }
   ],
   "source": [
    "//Forma tradicional pero no muy recomendable\n",
    "function saludar() {\n",
    "    console.log('Hola Mundo');\n",
    "}\n",
    "\n",
    "//Si hago esto:\n",
    "var saludar = 123;\n",
    "\n",
    "saludar(); //Esto da un error"
   ]
  },
  {
   "cell_type": "code",
   "execution_count": 2,
   "metadata": {
    "vscode": {
     "languageId": "javascript"
    }
   },
   "outputs": [
    {
     "name": "stdout",
     "output_type": "stream",
     "text": [
      "Hola chic@s\n",
      "Hola Mundo\n"
     ]
    }
   ],
   "source": [
    "//Forma tradicional pero no muy recomendable\n",
    "function saludar( nombre ) {\n",
    "    console.log('Hola '+nombre);\n",
    "}\n",
    "\n",
    "//Función anónima que no se puede reasignar\n",
    "const saludar2 = function() {\n",
    "    console.log('Hola Mundo');\n",
    "}\n",
    "\n",
    "saludar('chic@s'); \n",
    "saludar2();"
   ]
  },
  {
   "cell_type": "markdown",
   "metadata": {},
   "source": [
    "## Funciones lambda o funciones arrow\n",
    "Es una simplificación de las funciones anónimas. A parte de la simplificación sintáctica tienen como particularidades principales:\n",
    "- No tienen `this` propio, a diferencia de las funciones regulares, por lo que heredan `this` del contexto en el que fueron creadas.\n",
    "- No son hoisted, lo que quiere decir que no pueden ser invocadas antes de su declaración en el código.\n",
    "- Si sólo tienen una expresión, no sería necesario utilizar `{}`, ni la palabra `return`.\n",
    "- No pueden ser métodos, ya que no tienen su propio `this`"
   ]
  },
  {
   "cell_type": "code",
   "execution_count": 3,
   "metadata": {
    "vscode": {
     "languageId": "javascript"
    }
   },
   "outputs": [
    {
     "name": "stdout",
     "output_type": "stream",
     "text": [
      "[Arguments] { \u001b[32m'0'\u001b[39m: \u001b[32m'chic@s'\u001b[39m }\n",
      "Hola chic@s\n",
      "[Arguments] { \u001b[32m'0'\u001b[39m: \u001b[32m'chic@s'\u001b[39m, \u001b[32m'1'\u001b[39m: \u001b[33m40\u001b[39m, \u001b[32m'2'\u001b[39m: \u001b[33mtrue\u001b[39m, \u001b[32m'3'\u001b[39m: \u001b[32m'España'\u001b[39m }\n",
      "Hola chic@s\n",
      "Hola Luis\n",
      "Hola lambda\n",
      "Hola lambda Martín\n"
     ]
    }
   ],
   "source": [
    "//Forma tradicional pero no muy recomendable\n",
    "function saludar( nombre ) {\n",
    "    //Las funciones tradicionales tienen el objeto arguments implícito\n",
    "    console.log( arguments );\n",
    "    console.log('Hola '+nombre);\n",
    "}\n",
    "\n",
    "//Función anónima\n",
    "const saludar2 = function( nombre ) {\n",
    "    console.log('Hola '+ nombre);\n",
    "}\n",
    "\n",
    "const saludarLambda = () => {\n",
    "    console.log('Hola lambda');\n",
    "}\n",
    "\n",
    "const saludarLambda2 = ( nombre ) => {\n",
    "    console.log('Hola lambda '+nombre);\n",
    "}\n",
    "\n",
    "saludar('chic@s'); \n",
    "saludar('chic@s', 40, true, 'España'); //No da error, ignora los argumentos \n",
    "saludar2('Luis');\n",
    "saludarLambda();\n",
    "saludarLambda2('Martín');"
   ]
  },
  {
   "cell_type": "markdown",
   "metadata": {},
   "source": [
    "```{note}\n",
    "A diferencia de otros lenguajes, en JS no se produce error si llamamos a una función con más argumentos de los que espera. Los argumentos adicionales serán ignorados.\n",
    "```"
   ]
  },
  {
   "cell_type": "markdown",
   "metadata": {},
   "source": [
    "## Return"
   ]
  },
  {
   "cell_type": "code",
   "execution_count": 4,
   "metadata": {
    "vscode": {
     "languageId": "javascript"
    }
   },
   "outputs": [
    {
     "name": "stdout",
     "output_type": "stream",
     "text": [
      "\u001b[33m3\u001b[39m\n",
      "\u001b[33m3\u001b[39m\n",
      "\u001b[33m3\u001b[39m\n",
      "\u001b[33m0.16187580713748906\u001b[39m\n",
      "\u001b[33m0.37783092616092584\u001b[39m\n"
     ]
    }
   ],
   "source": [
    "\n",
    "function sumar (a , b) {\n",
    "    return a+b;\n",
    "}\n",
    "\n",
    "\n",
    "const sumar2 = (a,b) => {\n",
    "    return a+b;\n",
    "} \n",
    "\n",
    "//Sólo podemos hacer esto si la única línea en la función es el return.\n",
    "const sumar3 = (a,b) => a+b;\n",
    "\n",
    "function getAleatorio() {\n",
    "    return Math.random();\n",
    "}\n",
    "\n",
    "const getAleatorioLambda = () => Math.random();\n",
    "\n",
    "\n",
    "console.log( sumar(1,2) );//3\n",
    "console.log( sumar2(1,2) );//3\n",
    "console.log( sumar3(1,2)); //3\n",
    "console.log( getAleatorio() ); //Cada vez que recargo tendré un número aleatorio\n",
    "console.log( getAleatorioLambda());"
   ]
  },
  {
   "cell_type": "markdown",
   "metadata": {},
   "source": [
    "## Referencias\n",
    "{cite}`mdn`\n",
    "{cite}`fherrera`\n",
    "{cite}`jcastillo`"
   ]
  }
 ],
 "metadata": {
  "kernelspec": {
   "display_name": "Python 3",
   "language": "python",
   "name": "python3"
  },
  "language_info": {
   "codemirror_mode": {
    "name": "ipython",
    "version": 3
   },
   "file_extension": ".py",
   "mimetype": "text/x-python",
   "name": "python",
   "nbconvert_exporter": "python",
   "pygments_lexer": "ipython3",
   "version": "3.11.0"
  },
  "orig_nbformat": 4
 },
 "nbformat": 4,
 "nbformat_minor": 2
}
