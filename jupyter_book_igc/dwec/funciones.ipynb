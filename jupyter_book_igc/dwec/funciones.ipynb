{
 "cells": [
  {
   "cell_type": "markdown",
   "metadata": {},
   "source": [
    "# Funciones básicas y funciones lambda\n",
    "\n",
    "```{note}\n",
    "Una función centraliza la lógica de un procedimiento que podemos ejecutar varias veces. El uso de funciones permite agrupar y reutilizar código y son parte fundamental de la programación modular, estructurada y funcional.\n",
    "```"
   ]
  },
  {
   "cell_type": "markdown",
   "metadata": {},
   "source": [
    "## Declaración de funciones explícita\n",
    "Las funciones pueden ser declaradas de manera explícita. Este tipo de declaración se carga en tiempo de compilación, permitiendo su uso antes de la declaración (hoisting)."
   ]
  },
  {
   "cell_type": "code",
   "execution_count": 34,
   "metadata": {
    "vscode": {
     "languageId": "javascript"
    }
   },
   "outputs": [
    {
     "name": "stdout",
     "output_type": "stream",
     "text": [
      "Hola Mundo\n",
      "\u001b[90mundefined\u001b[39m\n"
     ]
    }
   ],
   "source": [
    "%%script node\n",
    "//Hoisting\n",
    "console.log(saludar())\n",
    "//Este tipo de declaración no es recomendable, ya veremos por qué.\n",
    "function saludar() {\n",
    "    console.log('Hola Mundo');\n",
    "}\n"
   ]
  },
  {
   "cell_type": "code",
   "execution_count": null,
   "metadata": {
    "vscode": {
     "languageId": "javascript"
    }
   },
   "outputs": [],
   "source": [
    "//Forma tradicional pero no muy recomendable\n",
    "function saludar() {\n",
    "    console.log('Hola Mundo');\n",
    "}\n",
    "\n",
    "//Si hago esto:\n",
    "var saludar = 123;\n",
    "\n",
    "saludar(); //Esto da un error"
   ]
  },
  {
   "cell_type": "code",
   "execution_count": 2,
   "metadata": {
    "vscode": {
     "languageId": "javascript"
    }
   },
   "outputs": [
    {
     "name": "stdout",
     "output_type": "stream",
     "text": [
      "Hola chic@s\n",
      "Hola Mundo\n"
     ]
    }
   ],
   "source": [
    "//Forma tradicional pero no muy recomendable\n",
    "function saludar( nombre ) {\n",
    "    console.log('Hola '+nombre);\n",
    "}\n",
    "\n",
    "//Función anónima que no se puede reasignar\n",
    "const saludar2 = function() {\n",
    "    console.log('Hola Mundo');\n",
    "}\n",
    "\n",
    "saludar('chic@s'); \n",
    "saludar2();"
   ]
  },
  {
   "cell_type": "markdown",
   "metadata": {},
   "source": [
    "## Funciones lambda o funciones arrow\n",
    "Es una simplificación de las funciones anónimas. A parte de la simplificación sintáctica tienen como particularidades principales:\n",
    "- No tienen `this` propio, a diferencia de las funciones regulares, por lo que heredan `this` del contexto en el que fueron creadas.\n",
    "- No son hoisted, lo que quiere decir que no pueden ser invocadas antes de su declaración en el código.\n",
    "- Si sólo tienen una expresión, no sería necesario utilizar `{}`, ni la palabra `return`.\n",
    "- No pueden ser métodos, ya que no tienen su propio `this`"
   ]
  },
  {
   "cell_type": "code",
   "execution_count": 3,
   "metadata": {
    "vscode": {
     "languageId": "javascript"
    }
   },
   "outputs": [
    {
     "name": "stdout",
     "output_type": "stream",
     "text": [
      "[Arguments] { \u001b[32m'0'\u001b[39m: \u001b[32m'chic@s'\u001b[39m }\n",
      "Hola chic@s\n",
      "[Arguments] { \u001b[32m'0'\u001b[39m: \u001b[32m'chic@s'\u001b[39m, \u001b[32m'1'\u001b[39m: \u001b[33m40\u001b[39m, \u001b[32m'2'\u001b[39m: \u001b[33mtrue\u001b[39m, \u001b[32m'3'\u001b[39m: \u001b[32m'España'\u001b[39m }\n",
      "Hola chic@s\n",
      "Hola Luis\n",
      "Hola lambda\n",
      "Hola lambda Martín\n"
     ]
    }
   ],
   "source": [
    "//Forma tradicional pero no muy recomendable\n",
    "function saludar( nombre ) {\n",
    "    //Las funciones tradicionales tienen el objeto arguments implícito\n",
    "    console.log( arguments );\n",
    "    console.log('Hola '+nombre);\n",
    "}\n",
    "\n",
    "//Función anónima\n",
    "const saludar2 = function( nombre ) {\n",
    "    console.log('Hola '+ nombre);\n",
    "}\n",
    "\n",
    "const saludarLambda = () => {\n",
    "    console.log('Hola lambda');\n",
    "}\n",
    "\n",
    "const saludarLambda2 = ( nombre ) => {\n",
    "    console.log('Hola lambda '+nombre);\n",
    "}\n",
    "\n",
    "saludar('chic@s'); \n",
    "saludar('chic@s', 40, true, 'España'); //No da error, ignora los argumentos \n",
    "saludar2('Luis');\n",
    "saludarLambda();\n",
    "saludarLambda2('Martín');"
   ]
  },
  {
   "cell_type": "markdown",
   "metadata": {},
   "source": [
    "```{note}\n",
    "A diferencia de otros lenguajes, en JS no se produce error si llamamos a una función con más argumentos de los que espera. Los argumentos adicionales serán ignorados.\n",
    "```"
   ]
  },
  {
   "cell_type": "markdown",
   "metadata": {},
   "source": [
    "## Return"
   ]
  },
  {
   "cell_type": "code",
   "execution_count": 4,
   "metadata": {
    "vscode": {
     "languageId": "javascript"
    }
   },
   "outputs": [
    {
     "name": "stdout",
     "output_type": "stream",
     "text": [
      "\u001b[33m3\u001b[39m\n",
      "\u001b[33m3\u001b[39m\n",
      "\u001b[33m3\u001b[39m\n",
      "\u001b[33m0.16187580713748906\u001b[39m\n",
      "\u001b[33m0.37783092616092584\u001b[39m\n"
     ]
    }
   ],
   "source": [
    "\n",
    "function sumar (a , b) {\n",
    "    return a+b;\n",
    "}\n",
    "\n",
    "\n",
    "const sumar2 = (a,b) => {\n",
    "    return a+b;\n",
    "} \n",
    "\n",
    "//Sólo podemos hacer esto si la única línea en la función es el return.\n",
    "const sumar3 = (a,b) => a+b;\n",
    "\n",
    "function getAleatorio() {\n",
    "    return Math.random();\n",
    "}\n",
    "\n",
    "const getAleatorioLambda = () => Math.random();\n",
    "\n",
    "\n",
    "console.log( sumar(1,2) );//3\n",
    "console.log( sumar2(1,2) );//3\n",
    "console.log( sumar3(1,2)); //3\n",
    "console.log( getAleatorio() ); //Cada vez que recargo tendré un número aleatorio\n",
    "console.log( getAleatorioLambda());"
   ]
  },
  {
   "cell_type": "markdown",
   "metadata": {},
   "source": [
    "## Argumentos\n",
    "```{note}\n",
    "Todo este código hace lo mismo.\n",
    "```"
   ]
  },
  {
   "cell_type": "code",
   "execution_count": 9,
   "metadata": {
    "vscode": {
     "languageId": "javascript"
    }
   },
   "outputs": [
    {
     "name": "stdout",
     "output_type": "stream",
     "text": [
      "{ nombre: \u001b[32m'María'\u001b[39m, apellido: \u001b[32m'Fernández'\u001b[39m }\n"
     ]
    }
   ],
   "source": [
    "\n",
    "function crearPersona(nombre, apellido) {\n",
    "    return {\n",
    "        nombre: nombre,\n",
    "        apellido: apellido\n",
    "    }\n",
    "}\n",
    "\n",
    "const persona = crearPersona( 'María', 'Fernández');\n",
    "\n",
    "console.log( persona );"
   ]
  },
  {
   "cell_type": "code",
   "execution_count": 10,
   "metadata": {
    "vscode": {
     "languageId": "javascript"
    }
   },
   "outputs": [
    {
     "name": "stdout",
     "output_type": "stream",
     "text": [
      "{ nombre: \u001b[32m'María'\u001b[39m, apellido: \u001b[32m'Fernández'\u001b[39m }\n"
     ]
    }
   ],
   "source": [
    "function crearPersona(nombre, apellido) {\n",
    "    return {\n",
    "        nombre,\n",
    "        apellido\n",
    "    }\n",
    "}\n",
    "\n",
    "const persona = crearPersona( 'María', 'Fernández');\n",
    "\n",
    "console.log( persona );"
   ]
  },
  {
   "cell_type": "code",
   "execution_count": 12,
   "metadata": {
    "vscode": {
     "languageId": "javascript"
    }
   },
   "outputs": [
    {
     "name": "stdout",
     "output_type": "stream",
     "text": [
      "{ nombre: \u001b[32m'María'\u001b[39m, apellido: \u001b[32m'Fernández'\u001b[39m }\n"
     ]
    }
   ],
   "source": [
    "function crearPersona(nombre, apellido) {\n",
    "    return { nombre, apellido }\n",
    "}\n",
    "\n",
    "const persona = crearPersona( 'María', 'Fernández');\n",
    "\n",
    "console.log( persona );"
   ]
  },
  {
   "cell_type": "code",
   "execution_count": 14,
   "metadata": {
    "vscode": {
     "languageId": "javascript"
    }
   },
   "outputs": [
    {
     "name": "stdout",
     "output_type": "stream",
     "text": [
      "{ nombre: \u001b[32m'María'\u001b[39m, apellido: \u001b[32m'Fernández'\u001b[39m }\n"
     ]
    }
   ],
   "source": [
    "\n",
    "//para que devuelva el resultado correcto debe ir entre paréntesis\n",
    "const crearPersona = ( nombre, apellido ) => ({nombre, apellido});\n",
    "\n",
    "const persona = crearPersona( 'María', 'Fernández');\n",
    "\n",
    "console.log( persona );"
   ]
  },
  {
   "cell_type": "markdown",
   "metadata": {},
   "source": [
    "### `arguments`"
   ]
  },
  {
   "cell_type": "code",
   "execution_count": 15,
   "metadata": {
    "vscode": {
     "languageId": "javascript"
    }
   },
   "outputs": [
    {
     "name": "stdout",
     "output_type": "stream",
     "text": [
      "[Arguments] {\n",
      "  \u001b[32m'0'\u001b[39m: \u001b[33m10\u001b[39m,\n",
      "  \u001b[32m'1'\u001b[39m: \u001b[33mtrue\u001b[39m,\n",
      "  \u001b[32m'2'\u001b[39m: \u001b[33mfalse\u001b[39m,\n",
      "  \u001b[32m'3'\u001b[39m: \u001b[32m'Pepe'\u001b[39m,\n",
      "  \u001b[32m'4'\u001b[39m: \u001b[32m'Hola'\u001b[39m\n",
      "}\n"
     ]
    }
   ],
   "source": [
    "\n",
    "function imprimeArgumentos() {\n",
    "    console.log( arguments);\n",
    "}\n",
    "\n",
    "imprimeArgumentos( 10, true, false, 'Pepe', 'Hola');"
   ]
  },
  {
   "cell_type": "code",
   "execution_count": 16,
   "metadata": {
    "vscode": {
     "languageId": "javascript"
    }
   },
   "outputs": [
    {
     "name": "stdout",
     "output_type": "stream",
     "text": [
      "[Arguments] {\n",
      "  \u001b[32m'0'\u001b[39m: \u001b[33m10\u001b[39m,\n",
      "  \u001b[32m'1'\u001b[39m: \u001b[33mtrue\u001b[39m,\n",
      "  \u001b[32m'2'\u001b[39m: \u001b[33mfalse\u001b[39m,\n",
      "  \u001b[32m'3'\u001b[39m: \u001b[32m'Pepe'\u001b[39m,\n",
      "  \u001b[32m'4'\u001b[39m: \u001b[32m'Hola'\u001b[39m\n",
      "}\n",
      "{ edad: \u001b[33m10\u001b[39m, args: [ \u001b[33mtrue\u001b[39m, \u001b[33mfalse\u001b[39m, \u001b[32m'Pepe'\u001b[39m, \u001b[32m'Hola'\u001b[39m ] }\n"
     ]
    }
   ],
   "source": [
    "\n",
    "function imprimeArgumentos() {\n",
    "    console.log( arguments);\n",
    "}\n",
    "\n",
    "//Los tres puntos le indican que todos los argumentos que reciban, es un parámetro rest\n",
    "//Despùés de ese parámetro no puedo añadir nada\n",
    "const imprimeArgumentos2 = ( edad,...args ) => {\n",
    "    console.log( {edad, args} );\n",
    "}\n",
    "\n",
    "imprimeArgumentos( 10, true, false, 'Pepe', 'Hola');\n",
    "imprimeArgumentos2(10, true, false, 'Pepe', 'Hola');"
   ]
  },
  {
   "cell_type": "code",
   "execution_count": 17,
   "metadata": {
    "vscode": {
     "languageId": "javascript"
    }
   },
   "outputs": [
    {
     "name": "stdout",
     "output_type": "stream",
     "text": [
      "[Arguments] {\n",
      "  \u001b[32m'0'\u001b[39m: \u001b[33m10\u001b[39m,\n",
      "  \u001b[32m'1'\u001b[39m: \u001b[33mtrue\u001b[39m,\n",
      "  \u001b[32m'2'\u001b[39m: \u001b[33mfalse\u001b[39m,\n",
      "  \u001b[32m'3'\u001b[39m: \u001b[32m'Pepe'\u001b[39m,\n",
      "  \u001b[32m'4'\u001b[39m: \u001b[32m'Hola'\u001b[39m\n",
      "}\n",
      "{ argumentos: [ \u001b[33mtrue\u001b[39m, \u001b[33mfalse\u001b[39m, \u001b[32m'Pepe'\u001b[39m, \u001b[32m'Hola'\u001b[39m ] }\n"
     ]
    }
   ],
   "source": [
    "\n",
    "function imprimeArgumentos() {\n",
    "    console.log( arguments);\n",
    "}\n",
    "\n",
    "//Los tres puntos le indican que todos los argumentos que reciban, es un parámetro rest\n",
    "//Despùés de ese parámetro no puedo añadir nada\n",
    "const argumentos2 = ( edad,...args ) => {\n",
    "    // console.log( {edad, args} );\n",
    "    return args;\n",
    "}\n",
    "\n",
    "imprimeArgumentos( 10, true, false, 'Pepe', 'Hola');\n",
    "const argumentos = argumentos2(10, true, false, 'Pepe', 'Hola');\n",
    "console.log( { argumentos }); //Obtengo los argumentos a partir del booleano"
   ]
  },
  {
   "cell_type": "markdown",
   "metadata": {},
   "source": [
    "## Desestructuración"
   ]
  },
  {
   "cell_type": "code",
   "execution_count": 18,
   "metadata": {
    "vscode": {
     "languageId": "javascript"
    }
   },
   "outputs": [
    {
     "name": "stdout",
     "output_type": "stream",
     "text": [
      "[Arguments] {\n",
      "  \u001b[32m'0'\u001b[39m: \u001b[33m10\u001b[39m,\n",
      "  \u001b[32m'1'\u001b[39m: \u001b[33mtrue\u001b[39m,\n",
      "  \u001b[32m'2'\u001b[39m: \u001b[33mfalse\u001b[39m,\n",
      "  \u001b[32m'3'\u001b[39m: \u001b[32m'Pepe'\u001b[39m,\n",
      "  \u001b[32m'4'\u001b[39m: \u001b[32m'Hola'\u001b[39m\n",
      "}\n",
      "{ casado: \u001b[33mtrue\u001b[39m, vivo: \u001b[33mfalse\u001b[39m, nombre: \u001b[32m'Pepe'\u001b[39m, saludo: \u001b[32m'Hola'\u001b[39m }\n"
     ]
    }
   ],
   "source": [
    "\n",
    "function imprimeArgumentos() {\n",
    "    console.log( arguments);\n",
    "}\n",
    "\n",
    "//Los tres puntos le indican que todos los argumentos que reciban, es un parámetro rest\n",
    "//Despùés de ese parámetro no puedo añadir nada\n",
    "const argumentos2 = ( edad,...args ) => {\n",
    "    // console.log( {edad, args} );\n",
    "    return args;\n",
    "}\n",
    "\n",
    "imprimeArgumentos( 10, true, false, 'Pepe', 'Hola');\n",
    "// const argumentos = imprimeArgumentos2(10, true, false, 'Pepe', 'Hola');\n",
    "// console.log( { argumentos });\n",
    "const [ casado, vivo, nombre, saludo ] = argumentos2(10, true, false, 'Pepe', 'Hola');\n",
    "console.log( { casado, vivo, nombre, saludo });"
   ]
  },
  {
   "cell_type": "code",
   "execution_count": 21,
   "metadata": {
    "vscode": {
     "languageId": "javascript"
    }
   },
   "outputs": [
    {
     "name": "stdout",
     "output_type": "stream",
     "text": [
      "{ apellido: \u001b[32m'Fernández'\u001b[39m }\n"
     ]
    }
   ],
   "source": [
    "\n",
    "function crearPersona(nombre, apellido) {\n",
    "    return { nombre, apellido }\n",
    "}\n",
    "//Si sólo me interesase el apellido aunque devuelva las dos cosas\n",
    "const {apellido} = crearPersona('María', 'Fernández');\n",
    "\n",
    "console.log( {apellido });"
   ]
  },
  {
   "cell_type": "code",
   "execution_count": 22,
   "metadata": {
    "vscode": {
     "languageId": "javascript"
    }
   },
   "outputs": [
    {
     "name": "stdout",
     "output_type": "stream",
     "text": [
      "{ nuevoApellido: \u001b[32m'Gijón'\u001b[39m }\n"
     ]
    }
   ],
   "source": [
    "\n",
    "function crearPersona(nombre, apellido) {\n",
    "    return { nombre, apellido }\n",
    "}\n",
    "//Si le quiero cambiar el nombre a la variable\n",
    "\n",
    "//Si sólo me interesase el apellido aunque devuelva las dos cosas\n",
    "const {apellido: nuevoApellido} = crearPersona('Inma', 'Gijón');\n",
    "\n",
    "console.log( {nuevoApellido });"
   ]
  },
  {
   "cell_type": "code",
   "execution_count": 30,
   "metadata": {
    "vscode": {
     "languageId": "javascript"
    }
   },
   "outputs": [
    {
     "name": "stdout",
     "output_type": "stream",
     "text": [
      "nombre  Harleen Frances Quinzel\n",
      "codeName Harley Quinn\n",
      "vivo \u001b[33mtrue\u001b[39m\n",
      "edad \u001b[33m30\u001b[39m\n"
     ]
    }
   ],
   "source": [
    "let personaje = {\n",
    "    nombre: 'Harleen Frances Quinzel',\n",
    "    codeName: 'Harley Quinn',\n",
    "    vivo: true,\n",
    "    edad: 30,\n",
    "    casado: false,\n",
    "    coords: {\n",
    "        lat: 34.034,\n",
    "        lng: -118.70\n",
    "    },\n",
    "    direccion: {\n",
    "        zip: '10880, 90265',\n",
    "        ubicacion: 'Gotham City'\n",
    "    },\n",
    "    'ultima-pelicula': 'Aves de presa' //No es recomendable poner caracteres especiales pero se haría así.\n",
    "};\n",
    "\n",
    "const imprimePropiedades = ( personaje ) => {\n",
    "    console.log( 'nombre ', personaje.nombre );\n",
    "    console.log( 'codeName', personaje.codeName );\n",
    "    console.log( 'vivo', personaje.vivo );\n",
    "    console.log( 'edad', personaje.edad );\n",
    "}\n",
    "\n",
    "imprimePropiedades(personaje)"
   ]
  },
  {
   "cell_type": "code",
   "execution_count": 33,
   "metadata": {
    "vscode": {
     "languageId": "javascript"
    }
   },
   "outputs": [
    {
     "name": "stdout",
     "output_type": "stream",
     "text": [
      "{ nombre: \u001b[32m'Harleen Frances Quinzel'\u001b[39m }\n",
      "{ codeName: \u001b[32m'Harley Quinn'\u001b[39m }\n",
      "{ vivo: \u001b[33mtrue\u001b[39m }\n",
      "{ edad: \u001b[33m30\u001b[39m }\n"
     ]
    }
   ],
   "source": [
    "\n",
    "let personaje = {\n",
    "    nombre: 'Harleen Frances Quinzel',\n",
    "    codeName: 'Harley Quinn',\n",
    "    vivo: true,\n",
    "    edad: 30,\n",
    "    casado: false,\n",
    "    coords: {\n",
    "        lat: 34.034,\n",
    "        lng: -118.70\n",
    "    },\n",
    "    direccion: {\n",
    "        zip: '10880, 90265',\n",
    "        ubicacion: 'Gotham City'\n",
    "    },\n",
    "    'ultima-pelicula': 'Aves de presa' //No es recomendable poner caracteres especiales pero se haría así.\n",
    "};\n",
    "\n",
    "//si no viene la edad, coge el valor por defecto\n",
    "const imprimePropiedades = ( { nombre, codeName, vivo, edad = 15} ) => {\n",
    "    console.log({nombre});\n",
    "    console.log({codeName});\n",
    "    console.log({vivo});\n",
    "    console.log({edad});\n",
    "}\n",
    "imprimePropiedades(personaje);"
   ]
  },
  {
   "cell_type": "markdown",
   "metadata": {},
   "source": [
    "## Referencias\n",
    "{cite}`mdn`\n",
    "{cite}`fherrera`\n",
    "{cite}`jcastillo`"
   ]
  }
 ],
 "metadata": {
  "kernelspec": {
   "display_name": "Python 3",
   "language": "python",
   "name": "python3"
  },
  "language_info": {
   "codemirror_mode": {
    "name": "ipython",
    "version": 3
   },
   "file_extension": ".py",
   "mimetype": "text/x-python",
   "name": "python",
   "nbconvert_exporter": "python",
   "pygments_lexer": "ipython3",
   "version": "3.11.0"
  },
  "orig_nbformat": 4
 },
 "nbformat": 4,
 "nbformat_minor": 2
}
