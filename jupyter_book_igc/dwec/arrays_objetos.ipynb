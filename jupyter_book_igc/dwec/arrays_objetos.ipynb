{
 "cells": [
  {
   "cell_type": "markdown",
   "metadata": {},
   "source": [
    "# Arrays y objetos literales\n",
    "## Arrays"
   ]
  },
  {
   "cell_type": "code",
   "execution_count": 22,
   "metadata": {
    "vscode": {
     "languageId": "javascript"
    }
   },
   "outputs": [
    {
     "name": "stdout",
     "output_type": "stream",
     "text": [
      "[ \u001b[90m<10 empty items>\u001b[39m ]\n"
     ]
    }
   ],
   "source": [
    "%%script node\n",
    "const arr = new Array(10); //No se suele utilizar\n",
    "console.log(arr);"
   ]
  },
  {
   "cell_type": "code",
   "execution_count": 1,
   "metadata": {
    "vscode": {
     "languageId": "javascript"
    }
   },
   "outputs": [
    {
     "name": "stdout",
     "output_type": "stream",
     "text": [
      "[]\n"
     ]
    }
   ],
   "source": [
    "%%script node\n",
    "const arr = [];\n",
    "console.log(arr);"
   ]
  },
  {
   "cell_type": "code",
   "execution_count": 3,
   "metadata": {
    "vscode": {
     "languageId": "javascript"
    }
   },
   "outputs": [
    {
     "name": "stdout",
     "output_type": "stream",
     "text": [
      "{ videoJuegos: [ \u001b[32m'Mario 3'\u001b[39m, \u001b[32m'Megaman'\u001b[39m, \u001b[32m'Chrono Trigger'\u001b[39m ] }\n"
     ]
    }
   ],
   "source": [
    "\n",
    "let videoJuegos = [ 'Mario 3', 'Megaman', 'Chrono Trigger' ];\n",
    "console.log( { videoJuegos } );"
   ]
  },
  {
   "cell_type": "code",
   "execution_count": 4,
   "metadata": {
    "vscode": {
     "languageId": "javascript"
    }
   },
   "outputs": [
    {
     "name": "stdout",
     "output_type": "stream",
     "text": [
      "{ videoJuegos: [ \u001b[32m'Mario 3'\u001b[39m, \u001b[32m'Megaman'\u001b[39m, \u001b[32m'Chrono Trigger'\u001b[39m ] }\n",
      "Mario 3\n",
      "{\n",
      "  arrayCosas: [\n",
      "    \u001b[33mtrue\u001b[39m,\n",
      "    \u001b[33m123\u001b[39m,\n",
      "    \u001b[32m'Inma'\u001b[39m,\n",
      "    \u001b[33m3\u001b[39m,\n",
      "    \u001b[36m[Function (anonymous)]\u001b[39m,\n",
      "    \u001b[36m[Function (anonymous)]\u001b[39m,\n",
      "    { a: \u001b[33m1\u001b[39m },\n",
      "    [ \u001b[32m'X'\u001b[39m, \u001b[32m'Megaman'\u001b[39m, \u001b[32m'Zero'\u001b[39m, \u001b[32m'Dr. Light'\u001b[39m, \u001b[36m[Array]\u001b[39m ]\n",
      "  ]\n",
      "}\n",
      "\u001b[33mtrue\u001b[39m\n",
      "Inma\n",
      "Dr. Light\n",
      "Woodman\n"
     ]
    }
   ],
   "source": [
    "\n",
    "let videoJuegos = [ 'Mario 3', 'Megaman', 'Chrono Trigger' ];\n",
    "console.log( { videoJuegos } );\n",
    "\n",
    "console.log( videoJuegos[0] );\n",
    "\n",
    "let arrayCosas = [\n",
    "    true,\n",
    "    123,\n",
    "    'Inma',\n",
    "    1 + 2,\n",
    "    function(){},\n",
    "    ()=>{},\n",
    "    {a: 1},\n",
    "    ['X', 'Megaman', 'Zero', 'Dr. Light', [\n",
    "        'Dr. Willy',\n",
    "        'Woodman'\n",
    "    ]]\n",
    "];\n",
    "\n",
    "console.log( {arrayCosas} );\n",
    "console.log( arrayCosas[0] ); //true\n",
    "console.log( arrayCosas[2] ); //Inma\n",
    "console.log( arrayCosas[7][3] ); //Dr. Light\n",
    "console.log( arrayCosas[7][4][1] ); //Woodman"
   ]
  },
  {
   "cell_type": "markdown",
   "metadata": {},
   "source": [
    "```{note}\n",
    "Los métodos son funciones dentro de los arrays y también tenemos propiedades\n",
    "```\n",
    "\n",
    "### Métodos y propiedades\n"
   ]
  },
  {
   "cell_type": "code",
   "execution_count": 10,
   "metadata": {
    "vscode": {
     "languageId": "javascript"
    }
   },
   "outputs": [
    {
     "name": "stdout",
     "output_type": "stream",
     "text": [
      "Longitud:  \u001b[33m4\u001b[39m\n",
      "{\n",
      "  elemento: \u001b[32m'Zelda'\u001b[39m,\n",
      "  indice: \u001b[33m0\u001b[39m,\n",
      "  arr: [ \u001b[32m'Zelda'\u001b[39m, \u001b[32m'Mario'\u001b[39m, \u001b[32m'Metroid'\u001b[39m, \u001b[32m'Chrono'\u001b[39m ]\n",
      "}\n",
      "{\n",
      "  elemento: \u001b[32m'Mario'\u001b[39m,\n",
      "  indice: \u001b[33m1\u001b[39m,\n",
      "  arr: [ \u001b[32m'Zelda'\u001b[39m, \u001b[32m'Mario'\u001b[39m, \u001b[32m'Metroid'\u001b[39m, \u001b[32m'Chrono'\u001b[39m ]\n",
      "}\n",
      "{\n",
      "  elemento: \u001b[32m'Metroid'\u001b[39m,\n",
      "  indice: \u001b[33m2\u001b[39m,\n",
      "  arr: [ \u001b[32m'Zelda'\u001b[39m, \u001b[32m'Mario'\u001b[39m, \u001b[32m'Metroid'\u001b[39m, \u001b[32m'Chrono'\u001b[39m ]\n",
      "}\n",
      "{\n",
      "  elemento: \u001b[32m'Chrono'\u001b[39m,\n",
      "  indice: \u001b[33m3\u001b[39m,\n",
      "  arr: [ \u001b[32m'Zelda'\u001b[39m, \u001b[32m'Mario'\u001b[39m, \u001b[32m'Metroid'\u001b[39m, \u001b[32m'Chrono'\u001b[39m ]\n",
      "}\n",
      "{\n",
      "  nuevaLongitud: \u001b[33m5\u001b[39m,\n",
      "  juegos: [ \u001b[32m'Zelda'\u001b[39m, \u001b[32m'Mario'\u001b[39m, \u001b[32m'Metroid'\u001b[39m, \u001b[32m'Chrono'\u001b[39m, \u001b[32m'F-Zero'\u001b[39m ]\n",
      "}\n",
      "[ \u001b[32m'Zelda'\u001b[39m, \u001b[32m'Mario'\u001b[39m, \u001b[32m'Metroid'\u001b[39m, \u001b[32m'Chrono'\u001b[39m, \u001b[32m'F-Zero'\u001b[39m ]\n",
      "{\n",
      "  nuevaLongitud: \u001b[33m6\u001b[39m,\n",
      "  juegos: [ \u001b[32m'Fire Emblem'\u001b[39m, \u001b[32m'Zelda'\u001b[39m, \u001b[32m'Mario'\u001b[39m, \u001b[32m'Metroid'\u001b[39m, \u001b[32m'Chrono'\u001b[39m, \u001b[32m'F-Zero'\u001b[39m ]\n",
      "}\n",
      "[ \u001b[32m'Fire Emblem'\u001b[39m, \u001b[32m'Zelda'\u001b[39m, \u001b[32m'Mario'\u001b[39m, \u001b[32m'Metroid'\u001b[39m, \u001b[32m'Chrono'\u001b[39m, \u001b[32m'F-Zero'\u001b[39m ]\n"
     ]
    }
   ],
   "source": [
    "let juegos = ['Zelda', 'Mario', 'Metroid', 'Chrono'];\n",
    "console.log('Longitud: ', juegos.length);\n",
    "\n",
    "let primero = juegos[0];\n",
    "let ultimo = juegos[juegos.length-1];\n",
    "\n",
    "juegos.forEach( (elemento, indice, arr) => {\n",
    "    console.log({elemento, indice, arr});\n",
    "})\n",
    "\n",
    "let nuevaLongitud = juegos.push('F-Zero');\n",
    "//Con las llaves, juegos se computa y al ser una referencia muestra el valor\n",
    "//resultado de todas las operaciones, cuando lo ponemos sin llaves, es el valor\n",
    "//que tiene en este momento... veremos las referencias más adelante.\n",
    "console.log({nuevaLongitud, juegos});\n",
    "console.log(juegos);\n",
    "\n",
    "//Inserta elementos al princpio del array\n",
    "nuevaLongitud = juegos.unshift('Fire Emblem');\n",
    "console.log({nuevaLongitud, juegos});\n",
    "console.log(juegos);"
   ]
  },
  {
   "cell_type": "code",
   "execution_count": 11,
   "metadata": {
    "vscode": {
     "languageId": "javascript"
    }
   },
   "outputs": [
    {
     "name": "stdout",
     "output_type": "stream",
     "text": [
      "Longitud:  \u001b[33m4\u001b[39m\n",
      "{\n",
      "  elementoBorrado: \u001b[32m'F-Zero'\u001b[39m,\n",
      "  juegos: [ \u001b[32m'Fire Emblem'\u001b[39m, \u001b[32m'Zelda'\u001b[39m, \u001b[32m'Mario'\u001b[39m, \u001b[32m'Metroid'\u001b[39m, \u001b[32m'Chrono'\u001b[39m ]\n",
      "}\n",
      "[ \u001b[32m'Fire Emblem'\u001b[39m, \u001b[32m'Zelda'\u001b[39m, \u001b[32m'Mario'\u001b[39m, \u001b[32m'Metroid'\u001b[39m, \u001b[32m'Chrono'\u001b[39m ]\n",
      "{\n",
      "  juegosBorrados: [ \u001b[32m'Zelda'\u001b[39m, \u001b[32m'Mario'\u001b[39m ],\n",
      "  juegos: [ \u001b[32m'Fire Emblem'\u001b[39m, \u001b[32m'Metroid'\u001b[39m, \u001b[32m'Chrono'\u001b[39m ]\n",
      "}\n",
      "[ \u001b[32m'Fire Emblem'\u001b[39m, \u001b[32m'Metroid'\u001b[39m, \u001b[32m'Chrono'\u001b[39m ]\n",
      "{ metroidIndex: \u001b[33m1\u001b[39m }\n"
     ]
    }
   ],
   "source": [
    "let juegos = ['Zelda', 'Mario', 'Metroid', 'Chrono'];\n",
    "console.log('Longitud: ', juegos.length);\n",
    "let nuevaLongitud = juegos.push('F-Zero');\n",
    "nuevaLongitud = juegos.unshift('Fire Emblem');\n",
    "\n",
    "//borrar el elemento del final\n",
    "let elementoBorrado = juegos.pop();\n",
    "console.log({elementoBorrado, juegos});\n",
    "console.log(juegos);\n",
    "\n",
    "let pos = 1;\n",
    "\n",
    "let juegosBorrados = juegos.splice( pos, 2); //Borra a partir de la posición pos, 2 elementos \n",
    "console.log({juegosBorrados, juegos});\n",
    "console.log(juegos);\n",
    "\n",
    "let metroidIndex = juegos.indexOf('Metroid'); //CaSeSeNSiTiVe\n",
    "console.log({metroidIndex});"
   ]
  },
  {
   "cell_type": "markdown",
   "metadata": {},
   "source": [
    "## Objetos literales\n",
    "\n",
    "```{note}\n",
    "JS tiene tipos de datos primitivos y objetos. También tenemos objetos literales, que es un objeto que tiene pares de valores. Son como los diccionarios en Python.\n",
    "```"
   ]
  },
  {
   "cell_type": "code",
   "execution_count": 12,
   "metadata": {
    "vscode": {
     "languageId": "javascript"
    }
   },
   "outputs": [
    {
     "name": "stdout",
     "output_type": "stream",
     "text": [
      "{\n",
      "  nombre: \u001b[32m'Harleen Frances Quinzel'\u001b[39m,\n",
      "  codeName: \u001b[32m'Harley Quinn'\u001b[39m,\n",
      "  vivo: \u001b[33mtrue\u001b[39m,\n",
      "  edad: \u001b[33m30\u001b[39m,\n",
      "  coords: { lat: \u001b[33m34.034\u001b[39m, lng: \u001b[33m-118.7\u001b[39m },\n",
      "  direccion: { zip: \u001b[32m'10880, 90265'\u001b[39m, ubicacion: \u001b[32m'Gotham City'\u001b[39m },\n",
      "  \u001b[32m'ultima-pelicula'\u001b[39m: \u001b[32m'Aves de presa'\u001b[39m\n",
      "}\n",
      "Nombre Harleen Frances Quinzel\n",
      "Nombre Harleen Frances Quinzel\n",
      "Edad \u001b[33m30\u001b[39m\n",
      "Coors { lat: \u001b[33m34.034\u001b[39m, lng: \u001b[33m-118.7\u001b[39m }\n",
      "Lat \u001b[33m34.034\u001b[39m\n",
      "Vivo \u001b[33mtrue\u001b[39m\n",
      "Última película:  Aves de presa\n"
     ]
    }
   ],
   "source": [
    "\n",
    "let personaje = {\n",
    "    nombre: 'Harleen Frances Quinzel',\n",
    "    codeName: 'Harley Quinn',\n",
    "    vivo: true,\n",
    "    edad: 30,\n",
    "    coords: {\n",
    "        lat: 34.034,\n",
    "        lng: -118.70\n",
    "    },\n",
    "    direccion: {\n",
    "        zip: '10880, 90265',\n",
    "        ubicacion: 'Gotham City'\n",
    "    },\n",
    "    'ultima-pelicula': 'Aves de presa' //No es recomendable poner caracteres especiales pero se haría así.\n",
    "};\n",
    "\n",
    "console.log( personaje ); \n",
    "console.log('Nombre', personaje.nombre);\n",
    "console.log('Nombre', personaje['nombre']); //Equivalente a la anterior\n",
    "console.log('Edad', personaje.edad);\n",
    "\n",
    "console.log('Coors', personaje.coords);\n",
    "console.log('Lat', personaje.coords.lat);\n",
    "\n",
    "const x = 'vivo';\n",
    "console.log('Vivo', personaje[x]);\n",
    "\n",
    "console.log('Última película: ', personaje['ultima-pelicula']); //En este caso no se puede utilizar la notación punto."
   ]
  },
  {
   "cell_type": "code",
   "execution_count": 15,
   "metadata": {
    "vscode": {
     "languageId": "javascript"
    }
   },
   "outputs": [
    {
     "name": "stdout",
     "output_type": "stream",
     "text": [
      "{\n",
      "  nombre: \u001b[32m'Harleen Frances Quinzel'\u001b[39m,\n",
      "  codeName: \u001b[32m'Harley Quinn'\u001b[39m,\n",
      "  vivo: \u001b[33mtrue\u001b[39m,\n",
      "  coords: { lat: \u001b[33m34.034\u001b[39m, lng: \u001b[33m-118.7\u001b[39m },\n",
      "  direccion: { zip: \u001b[32m'10880, 90265'\u001b[39m, ubicacion: \u001b[32m'Gotham City'\u001b[39m },\n",
      "  \u001b[32m'ultima-pelicula'\u001b[39m: \u001b[32m'Aves de presa'\u001b[39m\n",
      "}\n"
     ]
    },
    {
     "name": "stdout",
     "output_type": "stream",
     "text": [
      "[\n",
      "  [ \u001b[32m'nombre'\u001b[39m, \u001b[32m'Harleen Frances Quinzel'\u001b[39m ],\n",
      "  [ \u001b[32m'codeName'\u001b[39m, \u001b[32m'Harley Quinn'\u001b[39m ],\n",
      "  [ \u001b[32m'vivo'\u001b[39m, \u001b[33mtrue\u001b[39m ],\n",
      "  [ \u001b[32m'coords'\u001b[39m, { lat: \u001b[33m34.034\u001b[39m, lng: \u001b[33m-118.7\u001b[39m } ],\n",
      "  [ \u001b[32m'direccion'\u001b[39m, { zip: \u001b[32m'10880, 90265'\u001b[39m, ubicacion: \u001b[32m'Gotham City'\u001b[39m } ],\n",
      "  [ \u001b[32m'ultima-pelicula'\u001b[39m, \u001b[32m'Aves de presa'\u001b[39m ],\n",
      "  [ \u001b[32m'casado'\u001b[39m, \u001b[33mfalse\u001b[39m ]\n",
      "]\n",
      "{\n",
      "  nombre: \u001b[32m'Harleen Frances Quinzel'\u001b[39m,\n",
      "  codeName: \u001b[32m'Harley Quinn'\u001b[39m,\n",
      "  vivo: \u001b[33mtrue\u001b[39m,\n",
      "  coords: { lat: \u001b[33m34.034\u001b[39m, lng: \u001b[33m-118.7\u001b[39m },\n",
      "  direccion: { zip: \u001b[32m'10880, 90265'\u001b[39m, ubicacion: \u001b[32m'Gotham City'\u001b[39m },\n",
      "  \u001b[32m'ultima-pelicula'\u001b[39m: \u001b[32m'Aves de presa'\u001b[39m,\n",
      "  casado: \u001b[33mfalse\u001b[39m\n",
      "}\n"
     ]
    }
   ],
   "source": [
    "\n",
    "let personaje = {\n",
    "    nombre: 'Harleen Frances Quinzel',\n",
    "    codeName: 'Harley Quinn',\n",
    "    vivo: true,\n",
    "    edad: 30,\n",
    "    coords: {\n",
    "        lat: 34.034,\n",
    "        lng: -118.70\n",
    "    },\n",
    "    direccion: {\n",
    "        zip: '10880, 90265',\n",
    "        ubicacion: 'Gotham City'\n",
    "    },\n",
    "    'ultima-pelicula': 'Aves de presa' //No es recomendable poner caracteres especiales pero se haría así.\n",
    "};\n",
    "//OTROS DETALLES \n",
    "\n",
    "//Borrar propiedades\n",
    "delete personaje.edad;\n",
    "console.log(personaje);\n",
    "\n",
    "//Añadirá la propiedad\n",
    "personaje.casado = false;\n",
    "\n",
    "\n",
    "const entriesPares = Object.entries( personaje );\n",
    "console.log(entriesPares);\n",
    "\n",
    "//si establezco el personaje como const, lo hago inmutable, puedo modificar \n",
    "//propiedades pero no hacer asignaciones nuevas. \n",
    "console.log( personaje );\n",
    "\n"
   ]
  },
  {
   "cell_type": "code",
   "execution_count": 20,
   "metadata": {
    "vscode": {
     "languageId": "javascript"
    }
   },
   "outputs": [
    {
     "name": "stdout",
     "output_type": "stream",
     "text": [
      "{\n",
      "  nombre: \u001b[32m'Harleen Frances Quinzel'\u001b[39m,\n",
      "  codeName: \u001b[32m'Harley Quinn'\u001b[39m,\n",
      "  vivo: \u001b[33mtrue\u001b[39m,\n",
      "  edad: \u001b[33m30\u001b[39m,\n",
      "  casado: \u001b[33mfalse\u001b[39m,\n",
      "  coords: { lat: \u001b[33m34.034\u001b[39m, lng: \u001b[33m-118.7\u001b[39m },\n",
      "  direccion: { zip: \u001b[32m'10880, 90265'\u001b[39m, ubicacion: \u001b[32m'Gotham City'\u001b[39m },\n",
      "  \u001b[32m'ultima-pelicula'\u001b[39m: \u001b[32m'Aves de presa'\u001b[39m\n",
      "}\n",
      "[\n",
      "  \u001b[32m'nombre'\u001b[39m,\n",
      "  \u001b[32m'codeName'\u001b[39m,\n",
      "  \u001b[32m'vivo'\u001b[39m,\n",
      "  \u001b[32m'edad'\u001b[39m,\n",
      "  \u001b[32m'casado'\u001b[39m,\n",
      "  \u001b[32m'coords'\u001b[39m,\n",
      "  \u001b[32m'direccion'\u001b[39m,\n",
      "  \u001b[32m'ultima-pelicula'\u001b[39m\n",
      "] [\n",
      "  \u001b[32m'Harleen Frances Quinzel'\u001b[39m,\n",
      "  \u001b[32m'Harley Quinn'\u001b[39m,\n",
      "  \u001b[33mtrue\u001b[39m,\n",
      "  \u001b[33m30\u001b[39m,\n",
      "  \u001b[33mfalse\u001b[39m,\n",
      "  { lat: \u001b[33m34.034\u001b[39m, lng: \u001b[33m-118.7\u001b[39m },\n",
      "  { zip: \u001b[32m'10880, 90265'\u001b[39m, ubicacion: \u001b[32m'Costa Rica'\u001b[39m },\n",
      "  \u001b[32m'Aves de presa'\u001b[39m\n",
      "]\n"
     ]
    }
   ],
   "source": [
    "let personaje = {\n",
    "    nombre: 'Harleen Frances Quinzel',\n",
    "    codeName: 'Harley Quinn',\n",
    "    vivo: true,\n",
    "    edad: 30,\n",
    "    casado: false,\n",
    "    coords: {\n",
    "        lat: 34.034,\n",
    "        lng: -118.70\n",
    "    },\n",
    "    direccion: {\n",
    "        zip: '10880, 90265',\n",
    "        ubicacion: 'Gotham City'\n",
    "    },\n",
    "    'ultima-pelicula': 'Aves de presa' //No es recomendable poner caracteres especiales pero se haría así.\n",
    "};\n",
    "\n",
    "//Si quiero congelar el estado del objeto y que nos e puedan añadir ni modificar\n",
    "//propiedades, puedo hacer\n",
    "Object.freeze( personaje );\n",
    "\n",
    "personaje.dinero = 10000000000000;\n",
    "personaje.casado = true; \n",
    "console.log( personaje ); //No tendré el objeto dinero ni habrá cambiado el valor de casado.\n",
    "//Yo sí puedo cambiar la ubicación de la dirección...\n",
    "personaje.direccion.ubicacion = 'Costa Rica'; //Esto sí va a tener efecto.\n",
    "\n",
    "const propiedades = Object.getOwnPropertyNames( personaje );\n",
    "const valores = Object.values( personaje );\n",
    "console.log( propiedades, valores ); //Array con las propiedades en el orden en el que fueron creadas y los valores"
   ]
  },
  {
   "cell_type": "markdown",
   "metadata": {},
   "source": [
    "```{note}\n",
    "Documentación de MDN sobre Object:\n",
    "https://developer.mozilla.org/es/docs/Web/JavaScript/Reference/Global_Objects/Object\n",
    "```"
   ]
  }
 ],
 "metadata": {
  "kernelspec": {
   "display_name": "Python 3",
   "language": "python",
   "name": "python3"
  },
  "language_info": {
   "codemirror_mode": {
    "name": "ipython",
    "version": 3
   },
   "file_extension": ".py",
   "mimetype": "text/x-python",
   "name": "python",
   "nbconvert_exporter": "python",
   "pygments_lexer": "ipython3",
   "version": "3.11.0"
  },
  "orig_nbformat": 4
 },
 "nbformat": 4,
 "nbformat_minor": 2
}
