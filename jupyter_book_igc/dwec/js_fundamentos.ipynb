{
 "cells": [
  {
   "cell_type": "markdown",
   "metadata": {},
   "source": [
    "# Fundamentos de JS\n",
    "\n",
    "## Elementos básicos de programación en JS\n",
    "\n",
    "### Introducción a JS. Consola\n",
    "\n",
    "JS corre en cualquier sitio: back, front, dispositivos móviles...\n",
    "No tiene nada que ver con Java, independientemente del nombre:\n",
    "- Comenzó en los 90 porque se empezaron a construir sitios web más complejos por la velocidad de los nuevos equipos. Permitieron formularios más complejos y necesitábamos un lenguaje del lado del cliente precisamente para validar esos formularios y optimizar el envío al servidor.\n",
    "- Brendan Eich se dio cuenta de que en el cliente se podía usar un lenguaje para evitar llamadas al servidor constantemente (era un trabajador de Netscape).\n",
    "- Inicialmente se llamó LiveScript... después, por marketing pusieron JavaScript porque estaba de moda... Microsoft se dio cuenta de que también lo necesitaba e hicieron JScript, pero era lo mismo y finalmente se estandarizó y apareció **ECMA** que se encarga de que sea un estándar.\n",
    "- **ECMAScript** (JavaScript es la implementación de Netscape de este estándar)\n",
    "\n",
    "\n",
    "**Usos**:\n",
    "- Web: animación, interactuar con el usuario. Si entro en Google Maps, por ejemplo, todo está corriendo en JS entre otras tecnologías: animación, cálculos, zoom in...\n",
    "- Podemos crear web servers, con **NodeJS**, manejar servidores, comunicación en tiempo real con sockets...\n",
    "- Crear videojuegos: https://js13kgames.com/games/underrun/index.html (con un click comienza)\n",
    "- Aplicaciones móviles con librerías como React Native, Ionic, Electron...\n",
    "- Tenemos muchos frameworks: **Angular, Vue o React**"
   ]
  },
  {
   "cell_type": "markdown",
   "metadata": {},
   "source": [
    "### Hola Mundo\n",
    "#### Navegador\n",
    "- Cuando abrimos el navegador web, tendrá implementada su versión de JS, es decir, su versión del ECMAScript.\n",
    "- Mostramos las herramientas de desarrollo en Google Chrome, por ejemplo, con el menú o con F12.\n",
    "- Entramos en la pestaña de consola y podemos hacer:\n",
    "![Alt text](image-3.png)\n",
    "\n",
    "> `Console` es un objeto, y `log` es un método de ese objeto.\n",
    "\n",
    "Si hacemos:\n",
    "![Alt text](image-4.png)\n",
    "#### Terminal\n",
    "Si abrimos un terminal (consola) (tenemos que tener instalado node).\n",
    "\n",
    "```{note}\n",
    "Para instalar Node:\n",
    "https://nodejs.org/en/\n",
    "```\n"
   ]
  },
  {
   "cell_type": "code",
   "execution_count": null,
   "metadata": {
    "vscode": {
     "languageId": "javascript"
    }
   },
   "outputs": [],
   "source": [
    "node --version"
   ]
  },
  {
   "cell_type": "markdown",
   "metadata": {},
   "source": [
    "![Alt text](image-5.png)"
   ]
  },
  {
   "cell_type": "markdown",
   "metadata": {},
   "source": [
    "#### VSCode\n",
    "Creamos un fichero `index.html`. Con `!+tab` se genera el estándar. Añadimos lo siguiente:\n"
   ]
  },
  {
   "cell_type": "code",
   "execution_count": 18,
   "metadata": {
    "vscode": {
     "languageId": "html"
    }
   },
   "outputs": [
    {
     "data": {
      "text/html": [
       "<!--index.html-->\n",
       "<!DOCTYPE html>\n",
       "<html lang=\"en\">\n",
       "<head>\n",
       "    <meta charset=\"UTF-8\">\n",
       "    <meta name=\"viewport\" content=\"width=device-width, initial-scale=1.0\">\n",
       "    <title>Document</title>\n",
       "</head>\n",
       "<body>\n",
       "    <script>\n",
       "        console.log('Hola mundo')\n",
       "    </script>\n",
       "</body>\n",
       "</html>\n"
      ],
      "text/plain": [
       "<IPython.core.display.HTML object>"
      ]
     },
     "metadata": {},
     "output_type": "display_data"
    }
   ],
   "source": [
    "<!--index.html-->\n",
    "<!DOCTYPE html>\n",
    "<html lang=\"en\">\n",
    "<head>\n",
    "    <meta charset=\"UTF-8\">\n",
    "    <meta name=\"viewport\" content=\"width=device-width, initial-scale=1.0\">\n",
    "    <title>Document</title>\n",
    "</head>\n",
    "<body>\n",
    "    <script>\n",
    "        console.log('Hola mundo')\n",
    "    </script>\n",
    "</body>\n",
    "</html>"
   ]
  },
  {
   "cell_type": "markdown",
   "metadata": {},
   "source": [
    "Podemos abrir el html y en la consola veremos lo que se muestra.\n",
    "\n",
    "Vamos a ver cómo podemos hacer importándolo. "
   ]
  },
  {
   "cell_type": "code",
   "execution_count": 12,
   "metadata": {
    "vscode": {
     "languageId": "html"
    }
   },
   "outputs": [
    {
     "data": {
      "text/html": [
       "<!--index.html-->\n",
       "<!DOCTYPE html>\n",
       "<html lang=\"en\">\n",
       "<head>\n",
       "    <meta charset=\"UTF-8\">\n",
       "    <meta name=\"viewport\" content=\"width=device-width, initial-scale=1.0\">\n",
       "    <title>Document</title>\n",
       "</head>\n",
       "<body>\n",
       "    <script src=\"./js/app.js\"></script>\n",
       "</body>\n",
       "</html>\n"
      ],
      "text/plain": [
       "<IPython.core.display.HTML object>"
      ]
     },
     "metadata": {},
     "output_type": "display_data"
    }
   ],
   "source": [
    "<!--index.html-->\n",
    "<!DOCTYPE html>\n",
    "<html lang=\"en\">\n",
    "<head>\n",
    "    <meta charset=\"UTF-8\">\n",
    "    <meta name=\"viewport\" content=\"width=device-width, initial-scale=1.0\">\n",
    "    <title>Document</title>\n",
    "</head>\n",
    "<body>\n",
    "    <script src=\"./js/app.js\"></script>\n",
    "</body>\n",
    "</html>"
   ]
  },
  {
   "cell_type": "code",
   "execution_count": 19,
   "metadata": {
    "vscode": {
     "languageId": "javascript"
    }
   },
   "outputs": [
    {
     "name": "stdout",
     "output_type": "stream",
     "text": [
      "Hola Mundo\n"
     ]
    }
   ],
   "source": [
    "//app.js\n",
    "console.log('Hola Mundo')"
   ]
  },
  {
   "cell_type": "markdown",
   "metadata": {},
   "source": [
    "```{note}\n",
    "También se puede poner en el `head`, pero lo suyo es ponerlo al final de la página (dentro del body), para que todo el documento esté renderizado.\n",
    "``` "
   ]
  },
  {
   "cell_type": "markdown",
   "metadata": {},
   "source": [
    "### `async` y `defer` en la etiqueta `<script>`\n",
    "\n",
    "A partir de HTML5, la etiqueta `<script>``  admite dos atributos `async` y `defer`, que permiten que los scripts comiencen con su descarga inmediatamente sin interrumpir el proceso de parseo del documento HTML.\n",
    "\n",
    "![`async` y `defer`](image-6.png)\n",
    "\n",
    "#### `async`\n",
    "\n",
    "El atributo `async` permite que el script se ejecute de manera asíncrona tan pronto como se haya descargado. Esto significa que:\n",
    "- El script se descargará en paralelo con el parseo del documento.\n",
    "- Se ejecutará cuando la descarga haya terminado aunque el documento no se haya parseado por completo.\n",
    "- Los scripts marcados con este atributo se ejecutarán sin mantener el orden en el que aparecen enn el documento HTML porque se ejecutarán según su orden de descarga."
   ]
  },
  {
   "cell_type": "code",
   "execution_count": null,
   "metadata": {
    "vscode": {
     "languageId": "javascript"
    }
   },
   "outputs": [],
   "source": [
    "<script src=\"./js/app.js\" async></script>"
   ]
  },
  {
   "cell_type": "markdown",
   "metadata": {},
   "source": [
    "#### `defer`\n",
    "\n",
    "El atributo `defer` asegura que los scrips se ejecutarán en el orden en el que aparecen en el documento HTML. Esto significa que:\n",
    "- El script también se descarga en paralelo con el parseo del documento, al igual que `async`\n",
    "- El script se ejecuta cuando el documento se haya parseado completamente\n",
    "- La ejecución del script ocurre exactamente antes del evento `DOMContentLoaded`, pero una vez que el documento completo ha sido procesado."
   ]
  },
  {
   "cell_type": "code",
   "execution_count": null,
   "metadata": {
    "vscode": {
     "languageId": "javascript"
    }
   },
   "outputs": [],
   "source": [
    "<script src=\"./js/app.js\" defer></script>"
   ]
  },
  {
   "cell_type": "markdown",
   "metadata": {},
   "source": [
    "#### Comportamiento por defecto\n",
    "\n",
    "Cuando no añadimos los atributos anteriores, el comportamiento es síncrono, es decir, el script se descarga y ejecuta de manera síncrona. De este modo:\n",
    "- El parseo del documento se pausa en el momento que insertamos el script hasta que ha sido descargado y ejecutado completamente.\n",
    "- Los scripts se ejecutan en el orden en el que aparecen en el documento."
   ]
  },
  {
   "cell_type": "code",
   "execution_count": null,
   "metadata": {
    "vscode": {
     "languageId": "javascript"
    }
   },
   "outputs": [],
   "source": [
    "<script src=\"./js/app.js\"></script>"
   ]
  },
  {
   "cell_type": "markdown",
   "metadata": {},
   "source": [
    "> En cualquier caso, salvo ocasiones específicas, suele ser más fácil añadir un sólo script, trabajar con módulos y esperar al evento DOMContentLoaded"
   ]
  },
  {
   "cell_type": "markdown",
   "metadata": {},
   "source": [
    "### Versiones importantes de JS\n",
    "\n",
    "- **ES5 (ECMAScript 5th Edition)**: \n",
    "  - Soportada en la mayoría de los navegadores web.\n",
    "- **ES6 (ECMAScript 2015)**: \n",
    "  - Pierde la compatibilidad con los navegadores muy viejos. \n",
    "  - Muchas características pueden ser implementadas con **polyfill** que permite ejecutar características modernas en versiones viejas de JS.\n",
    "  - Es una de las actualizaciones que más características incluye:\n",
    "    - **Clases**: simplifican la POO que antes se realizaba mediante programación con prototipos.\n",
    "    - **Módulos**: permiten importar y exportar bloques de código, mejorando la reutilización y modularidad.\n",
    "    - **Iteradores y generadores**: facilitan el manejo de datos iterables.\n",
    "    - **Funciones arrow**: simplifican la sintaxis de funciones y cambian el comportamiento de `this`.\n",
    "    - **Declaraciones `let` y `const`**: introducen alcance de bloque y constantes.\n",
    "    - **Promesas**: añaden eficiencia a la comunicación asíncrona.\n",
    "- **ECMAScript 2024**:\n",
    "  - Es la última especificación con características añadidas como `Object.groupBy(), Map.groupBy(), Temporal.PlainDate(), Temporal.PlainTime()...`\n"
   ]
  },
  {
   "cell_type": "markdown",
   "metadata": {},
   "source": [
    "### Comentarios"
   ]
  },
  {
   "cell_type": "code",
   "execution_count": 22,
   "metadata": {
    "vscode": {
     "languageId": "javascript"
    }
   },
   "outputs": [
    {
     "name": "stdout",
     "output_type": "stream",
     "text": [
      "Este código no está comentado\n"
     ]
    }
   ],
   "source": [
    "\n",
    "\n",
    "// Esto es un comentario\n",
    "/*\n",
    "* Esto es un comentario de varias líneas\n",
    "*/\n",
    "console.log('Este código no está comentado')"
   ]
  },
  {
   "cell_type": "markdown",
   "metadata": {},
   "source": [
    "### Variables\n",
    "\n",
    "Una variable es un contenedor de información que apunta a un contenedor de memoria y puede variar en el futuro."
   ]
  },
  {
   "cell_type": "code",
   "execution_count": 24,
   "metadata": {
    "vscode": {
     "languageId": "javascript"
    }
   },
   "outputs": [],
   "source": [
    "\n",
    "\n",
    "let a = 10; //Aquí creo una variable y le asigno el valor 10\n",
    "var b = 10;  // Aquí creo una variable y le asigno el valor 10. \n",
    "// Var era la forma antigua de crear variables. Se mantiene por compatibilidad.\n",
    "const c = 10; //Hace referencia a un valor de memoria que no cambia\n",
    "\n",
    "//Esto dará error\n",
    "// c = 20;\n",
    "\n",
    "//Esto no da error\n",
    "// a = 20;\n",
    "// b = 30;\n",
    "\n",
    "let d = 10, \n",
    "    e = 20, \n",
    "    f = 4;"
   ]
  },
  {
   "cell_type": "markdown",
   "metadata": {},
   "source": [
    "> Cuando usamos `var`, se coloca dentro de un objeto global llamado `window`. Esto no es buena práctica actualmente."
   ]
  },
  {
   "cell_type": "markdown",
   "metadata": {},
   "source": [
    "```{warning}\n",
    "La forma correcta actualmente de actuar es con variables `let` y constantes `const`porque esto no sobreescribe el objeto window y las variables `var` sí lo hacen.\n",
    "```"
   ]
  },
  {
   "cell_type": "markdown",
   "metadata": {},
   "source": [
    "> Con `const` no se puede asignar otro valor pero si es un objeto, sí se puede cambiar su contenido."
   ]
  },
  {
   "cell_type": "markdown",
   "metadata": {},
   "source": [
    "### Consola"
   ]
  },
  {
   "cell_type": "code",
   "execution_count": 25,
   "metadata": {
    "vscode": {
     "languageId": "javascript"
    }
   },
   "outputs": [
    {
     "name": "stdout",
     "output_type": "stream",
     "text": [
      "\u001b[33m30\u001b[39m\n"
     ]
    },
    {
     "name": "stderr",
     "output_type": "stream",
     "text": [
      "\u001b[33m30\u001b[39m\n",
      "\u001b[33m30\u001b[39m\n"
     ]
    }
   ],
   "source": [
    "\n",
    "\n",
    "let d = 10, \n",
    "    e = 20, \n",
    "    f = 4,\n",
    "    x = d + e;\n",
    "\n",
    "console.log(x);\n",
    "console.warn(x);\n",
    "console.error(x);"
   ]
  },
  {
   "cell_type": "markdown",
   "metadata": {},
   "source": [
    "![Alt text](image-11.png)"
   ]
  },
  {
   "cell_type": "code",
   "execution_count": 26,
   "metadata": {
    "vscode": {
     "languageId": "javascript"
    }
   },
   "outputs": [
    {
     "name": "stdout",
     "output_type": "stream",
     "text": [
      "x \u001b[33m30\u001b[39m\n"
     ]
    },
    {
     "name": "stderr",
     "output_type": "stream",
     "text": [
      "x \u001b[33m30\u001b[39m\n",
      "x \u001b[33m30\u001b[39m\n"
     ]
    }
   ],
   "source": [
    "\n",
    "\n",
    "let d = 10, \n",
    "    e = 20, \n",
    "    f = 4,\n",
    "    x = d + e;\n",
    "\n",
    "console.log('x', x);\n",
    "console.warn('x', x);\n",
    "console.error('x', x);"
   ]
  },
  {
   "cell_type": "markdown",
   "metadata": {},
   "source": [
    "![Alt text](image-10.png)"
   ]
  },
  {
   "cell_type": "code",
   "execution_count": 27,
   "metadata": {
    "vscode": {
     "languageId": "javascript"
    }
   },
   "outputs": [
    {
     "name": "stdout",
     "output_type": "stream",
     "text": [
      "{ x: \u001b[33m30\u001b[39m }\n"
     ]
    },
    {
     "name": "stderr",
     "output_type": "stream",
     "text": [
      "{ x: \u001b[33m30\u001b[39m }\n",
      "{ x: \u001b[33m30\u001b[39m }\n"
     ]
    }
   ],
   "source": [
    "\n",
    "\n",
    "let d = 10, \n",
    "    e = 20, \n",
    "    f = 4,\n",
    "    x = d + e;\n",
    "\n",
    "console.log({x});\n",
    "console.warn({x});\n",
    "console.error({x});"
   ]
  },
  {
   "cell_type": "markdown",
   "metadata": {},
   "source": [
    "![Alt text](image-9.png)"
   ]
  },
  {
   "cell_type": "markdown",
   "metadata": {},
   "source": [
    "> Incluso se puede cambiar el color y la forma en la que aparece el texto en consola, con propiedades de **CSS**."
   ]
  },
  {
   "cell_type": "code",
   "execution_count": 30,
   "metadata": {
    "vscode": {
     "languageId": "javascript"
    }
   },
   "outputs": [
    {
     "name": "stdout",
     "output_type": "stream",
     "text": [
      "┌─────────┬────────────────┐\n",
      "│ (index) │ Values         │\n",
      "├─────────┼────────────────┤\n",
      "│ d       │ \u001b[33m10\u001b[39m             │\n",
      "│ e       │ \u001b[33m20\u001b[39m             │\n",
      "│ c       │ \u001b[32m'Akira'\u001b[39m        │\n",
      "│ f       │ \u001b[32m'Harley Quinn'\u001b[39m │\n",
      "│ x       │ \u001b[33m30\u001b[39m             │\n",
      "│ y       │ \u001b[32m'10Akira'\u001b[39m      │\n",
      "└─────────┴────────────────┘\n"
     ]
    }
   ],
   "source": [
    "\n",
    "\n",
    "let d = 10, \n",
    "    e = 20, \n",
    "    c = 'Akira',\n",
    "    f = 'Harley Quinn',\n",
    "    x = d + e,\n",
    "    y = d + c;\n",
    "\n",
    "console.table({d, e, c, f, x, y});"
   ]
  },
  {
   "cell_type": "markdown",
   "metadata": {},
   "source": [
    "![Alt text](image-8.png)"
   ]
  },
  {
   "cell_type": "markdown",
   "metadata": {},
   "source": [
    "> Las constantes son más ligeras que las variables porque no llevan las propiedades para cambiar el valor. Usarlas correctamente optimiza el código.\n",
    "\n",
    "> Las constantes de entorno las escribimos en mayúsculas pero las constantes restantes van en minúsculas en JS."
   ]
  },
  {
   "cell_type": "code",
   "execution_count": 32,
   "metadata": {
    "vscode": {
     "languageId": "javascript"
    }
   },
   "outputs": [
    {
     "name": "stdout",
     "output_type": "stream",
     "text": [
      "Akira Kurosawa \n"
     ]
    }
   ],
   "source": [
    "let d = 10, \n",
    "    e = 20, \n",
    "    c = 'Akira ',\n",
    "    f = 'Kurosawa ',\n",
    "    x = d + e;\n",
    "\n",
    "const director = c + f;\n",
    "console.log(director)"
   ]
  },
  {
   "cell_type": "markdown",
   "metadata": {},
   "source": [
    "### Depuración"
   ]
  },
  {
   "cell_type": "markdown",
   "metadata": {},
   "source": [
    "![Alt text](image-7.png)"
   ]
  },
  {
   "cell_type": "markdown",
   "metadata": {},
   "source": [
    "Haciendo click en una línea establecemos un **breakpoint**. La aplicación en ese momento se detendrá y nos mostrará los valores que tiene cada variable hasta ese punto.\n",
    "\n",
    "Las variables que no tienen un valor asignado, por defecto, tienen el valor `undefined`."
   ]
  },
  {
   "cell_type": "markdown",
   "metadata": {},
   "source": [
    "### Orden de importación\n"
   ]
  },
  {
   "cell_type": "code",
   "execution_count": null,
   "metadata": {
    "vscode": {
     "languageId": "html"
    }
   },
   "outputs": [],
   "source": [
    "<!DOCTYPE html>\n",
    "<html lang=\"en\">\n",
    "<head>\n",
    "    <meta charset=\"UTF-8\">\n",
    "    <meta http-equiv=\"X-UA-Compatible\" content=\"IE=edge\">\n",
    "    <meta name=\"viewport\" content=\"width=device-width, initial-scale=1.0\">\n",
    "    <title>Document</title>\n",
    "    <script src=\"./app.js\"></script>\n",
    "</head>\n",
    "<body>\n",
    "    <h1>Hola Mundo</h1>\n",
    "    <hr>\n",
    "    <p>Estamos aprendiendo DWEC</p>\n",
    "</body>\n",
    "</html>"
   ]
  },
  {
   "cell_type": "markdown",
   "metadata": {},
   "source": [
    "![Alt text](image-12.png)"
   ]
  },
  {
   "cell_type": "markdown",
   "metadata": {},
   "source": [
    "Si ahora, en `app.js`:"
   ]
  },
  {
   "cell_type": "code",
   "execution_count": null,
   "metadata": {
    "vscode": {
     "languageId": "javascript"
    }
   },
   "outputs": [],
   "source": [
    "alert('Hola desde app.js')\n",
    "\n",
    "let d = 10, \n",
    "    e = 20, \n",
    "    c = 'Akira ',\n",
    "    f = 'Kurosawa ',\n",
    "    x = d + e;\n",
    "\n",
    "let director = c + f;\n",
    "\n",
    "console.log(director)\n",
    "\n",
    "director = 'Alex Garland'"
   ]
  },
  {
   "cell_type": "markdown",
   "metadata": {},
   "source": [
    "> Si lo pruebas verás que no se renderiza el documento hasta que no cerramos el `alert`. `alert` es una instrucción bloqueante.\n",
    "\n",
    "Si lo hago aquí:"
   ]
  },
  {
   "cell_type": "code",
   "execution_count": null,
   "metadata": {
    "vscode": {
     "languageId": "html"
    }
   },
   "outputs": [],
   "source": [
    "<!DOCTYPE html>\n",
    "<html lang=\"en\">\n",
    "<head>\n",
    "    <meta charset=\"UTF-8\">\n",
    "    <meta http-equiv=\"X-UA-Compatible\" content=\"IE=edge\">\n",
    "    <meta name=\"viewport\" content=\"width=device-width, initial-scale=1.0\">\n",
    "    <title>Document</title>\n",
    "</head>\n",
    "<body>\n",
    "    <h1>Hola Mundo</h1>\n",
    "    <hr>\n",
    "    <p>Estamos aprendiendo DWEC</p>\n",
    "    <script src=\"./js/app.js\"></script>\n",
    "</body>\n",
    "</html>"
   ]
  },
  {
   "cell_type": "markdown",
   "metadata": {},
   "source": [
    "En este caso, se ve el html antes de que se ejecute el JS y damos la falsa sensación al usuario de una carga más rápida.\n",
    "\n",
    "Si tengo:\n",
    "![Alt text](image-13.png)\n",
    "![Alt text](image-16.png)\n",
    "![Alt text](image-15.png)\n",
    "![Alt text](image-17.png)"
   ]
  },
  {
   "cell_type": "markdown",
   "metadata": {},
   "source": [
    "En la consola, mostraría el nombre por el orden de importación, pero si lo importásemos al revés, no lo encontraría.\n",
    "Está definida como `var`, porque si no la definiésemos así, no se crearía en el objeto global y no podría ser accesible desde `alert.js`, pero **NO ES UNA BUENA PRÁCTICA**"
   ]
  },
  {
   "cell_type": "markdown",
   "metadata": {},
   "source": [
    "### Prompt, confirm y alert\n",
    "Distintos cuadros de diálogo bloqueantes"
   ]
  },
  {
   "cell_type": "code",
   "execution_count": null,
   "metadata": {
    "vscode": {
     "languageId": "javascript"
    }
   },
   "outputs": [],
   "source": [
    "alert('Vamos a ver cuadros de diálogo bloqueantes')\n",
    "\n",
    "//Si acepto sin valor, obtengo cadena vacía y si cancelo obtengo null\n",
    "let nombre = prompt('¿Cuál es el director de la película Ex Machina?', 'Tachán')\n",
    "console.log(nombre)\n",
    "\n",
    "const seleccion = confirm('¿Estás seguro?')\n",
    "console.log(seleccion)"
   ]
  },
  {
   "cell_type": "markdown",
   "metadata": {},
   "source": [
    "Veremos más adelante cómo usarlas sin bloquear.\n",
    "\n",
    "Estos métodos son métodos dentro del objeto `window`\n",
    "\n",
    "![Alt text](image-18.png)\n",
    "\n",
    "```{note}\n",
    "En node, `global` es un objeto similar a `window`en el navegador web\n",
    "En entornos backend, no podemos utilizar este tipo de cuadros de diálogo porque están enfocados a un navegador web (cliente)\n",
    "```"
   ]
  },
  {
   "cell_type": "markdown",
   "metadata": {},
   "source": [
    "## Bibliografía\n",
    "\n",
    "Apuntes personales, experiencia en el sector y referencias del siguiente material:\n",
    "\n",
    "{cite}`mdn`\n",
    "{cite}`jcastillo`\n",
    "{cite}`fherrera`"
   ]
  }
 ],
 "metadata": {
  "kernelspec": {
   "display_name": "Python 3",
   "language": "python",
   "name": "python3"
  },
  "language_info": {
   "codemirror_mode": {
    "name": "ipython",
    "version": 3
   },
   "file_extension": ".py",
   "mimetype": "text/x-python",
   "name": "python",
   "nbconvert_exporter": "python",
   "pygments_lexer": "ipython3",
   "version": "3.11.0"
  },
  "orig_nbformat": 4
 },
 "nbformat": 4,
 "nbformat_minor": 2
}
