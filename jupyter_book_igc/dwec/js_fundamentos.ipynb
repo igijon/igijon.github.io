{
 "cells": [
  {
   "cell_type": "markdown",
   "metadata": {},
   "source": [
    "# Fundamentos de JS\n",
    "\n",
    "## Elementos básicos de programación en JS\n",
    "\n",
    "### Introducción a JS. Consola\n",
    "\n",
    "JS corre en cualquier sitio: back, front, dispositivos móviles...\n",
    "No tiene nada que ver con Java, independientemente del nombre:\n",
    "- Comenzó en los 90 porque se empezaron a construir sitios web más complejos por la velocidad de los nuevos equipos. Permitieron formularios más complejos y necesitábamos un lenguaje del lado del cliente precisamente para validar esos formularios y optimizar el envío al servidor.\n",
    "- Brendan Eich se dio cuenta de que en el cliente se podía usar un lenguaje para evitar llamadas al servidor constantemente (era un trabajador de Netscape).\n",
    "- Inicialmente se llamó LiveScript... después, por marketing pusieron JavaScript porque estaba de moda... Microsoft se dio cuenta de que también lo necesitaba e hicieron JScript, pero era lo mismo y finalmente se estandarizó y apareció **ECMA** que se encarga de que sea un estándar.\n",
    "- **ECMAScript** (JavaScript es la implementación de Netscape de este estándar)\n",
    "\n",
    "\n",
    "**Usos**:\n",
    "- Web: animación, interactuar con el usuario. Si entro en Google Maps, por ejemplo, todo está corriendo en JS entre otras tecnologías: animación, cálculos, zoom in...\n",
    "- Podemos crear web servers, con **NodeJS**, manejar servidores, comunicación en tiempo real con sockets...\n",
    "- Crear videojuegos: https://js13kgames.com/games/underrun/index.html (con un click comienza)\n",
    "- Aplicaciones móviles con librerías como React Native, Ionic, Electron...\n",
    "- Tenemos muchos frameworks: **Angular, Vue o React**"
   ]
  },
  {
   "cell_type": "markdown",
   "metadata": {},
   "source": [
    "### Hola Mundo\n",
    "#### Navegador\n",
    "- Cuando abrimos el navegador web, tendrá implementada su versión de JS, es decir, su versión del ECMAScript.\n",
    "- Mostramos las herramientas de desarrollo en Google Chrome, por ejemplo, con el menú o con F12.\n",
    "- Entramos en la pestaña de consola y podemos hacer:\n",
    "![Alt text](image-3.png)\n",
    "\n",
    "> `Console` es un objeto, y `log` es un método de ese objeto.\n",
    "\n",
    "Si hacemos:\n",
    "![Alt text](image-4.png)\n",
    "#### Terminal\n",
    "Si abrimos un terminal (consola) (tenemos que tener instalado node).\n",
    "> Para instalar Node:\n",
    "> https://nodejs.org/en/"
   ]
  },
  {
   "cell_type": "code",
   "execution_count": null,
   "metadata": {
    "vscode": {
     "languageId": "powershell"
    }
   },
   "outputs": [],
   "source": [
    "node --version"
   ]
  },
  {
   "cell_type": "markdown",
   "metadata": {},
   "source": [
    "![Alt text](image-5.png)"
   ]
  },
  {
   "cell_type": "markdown",
   "metadata": {},
   "source": [
    "#### VSCode\n",
    "Creamos un fichero `index.html`. Con `!+tab` se genera el estándar. Añadimos lo siguiente:\n"
   ]
  },
  {
   "cell_type": "code",
   "execution_count": 18,
   "metadata": {
    "vscode": {
     "languageId": "html"
    }
   },
   "outputs": [
    {
     "data": {
      "text/html": [
       "<!--index.html-->\n",
       "<!DOCTYPE html>\n",
       "<html lang=\"en\">\n",
       "<head>\n",
       "    <meta charset=\"UTF-8\">\n",
       "    <meta name=\"viewport\" content=\"width=device-width, initial-scale=1.0\">\n",
       "    <title>Document</title>\n",
       "</head>\n",
       "<body>\n",
       "    <script>\n",
       "        console.log('Hola mundo')\n",
       "    </script>\n",
       "</body>\n",
       "</html>\n"
      ],
      "text/plain": [
       "<IPython.core.display.HTML object>"
      ]
     },
     "metadata": {},
     "output_type": "display_data"
    }
   ],
   "source": [
    "%%html\n",
    "<!--index.html-->\n",
    "<!DOCTYPE html>\n",
    "<html lang=\"en\">\n",
    "<head>\n",
    "    <meta charset=\"UTF-8\">\n",
    "    <meta name=\"viewport\" content=\"width=device-width, initial-scale=1.0\">\n",
    "    <title>Document</title>\n",
    "</head>\n",
    "<body>\n",
    "    <script>\n",
    "        console.log('Hola mundo')\n",
    "    </script>\n",
    "</body>\n",
    "</html>"
   ]
  },
  {
   "cell_type": "markdown",
   "metadata": {},
   "source": [
    "Podemos abrir el html y en la consola veremos lo que se muestra.\n",
    "\n",
    "Vamos a ver cómo podemos hacer importándolo. "
   ]
  },
  {
   "cell_type": "code",
   "execution_count": 12,
   "metadata": {
    "vscode": {
     "languageId": "html"
    }
   },
   "outputs": [
    {
     "data": {
      "text/html": [
       "<!--index.html-->\n",
       "<!DOCTYPE html>\n",
       "<html lang=\"en\">\n",
       "<head>\n",
       "    <meta charset=\"UTF-8\">\n",
       "    <meta name=\"viewport\" content=\"width=device-width, initial-scale=1.0\">\n",
       "    <title>Document</title>\n",
       "</head>\n",
       "<body>\n",
       "    <script src=\"./js/app.js\"></script>\n",
       "</body>\n",
       "</html>\n"
      ],
      "text/plain": [
       "<IPython.core.display.HTML object>"
      ]
     },
     "metadata": {},
     "output_type": "display_data"
    }
   ],
   "source": [
    "%%html\n",
    "<!--index.html-->\n",
    "<!DOCTYPE html>\n",
    "<html lang=\"en\">\n",
    "<head>\n",
    "    <meta charset=\"UTF-8\">\n",
    "    <meta name=\"viewport\" content=\"width=device-width, initial-scale=1.0\">\n",
    "    <title>Document</title>\n",
    "</head>\n",
    "<body>\n",
    "    <script src=\"./js/app.js\"></script>\n",
    "</body>\n",
    "</html>"
   ]
  },
  {
   "cell_type": "code",
   "execution_count": 19,
   "metadata": {
    "vscode": {
     "languageId": "javascript"
    }
   },
   "outputs": [
    {
     "name": "stdout",
     "output_type": "stream",
     "text": [
      "Hola Mundo\n"
     ]
    }
   ],
   "source": [
    "%%script node\n",
    "//app.js\n",
    "console.log('Hola Mundo')"
   ]
  },
  {
   "cell_type": "markdown",
   "metadata": {},
   "source": [
    "> También se puede poner en el `head`, pero lo suyo es ponerlo al final de la página (dentro del body), para que todo el documento esté renderizado."
   ]
  },
  {
   "cell_type": "markdown",
   "metadata": {},
   "source": [
    "### `async` y `defer` en la etiqueta `<script>`\n",
    "\n",
    "A partir de HTML5, la etiqueta `<script>``  admite dos atributos `async` y `defer`, que permiten que los scripts comiencen con su descarga inmediatamente sin interrumpir el proceso de parseo del documento HTML.\n",
    "\n",
    "![`async` y `defer`](image-6.png)\n",
    "\n",
    "#### `async`\n",
    "\n",
    "El atributo `async` permite que el script se ejecute de manera asíncrona tan pronto como se haya descargado. Esto significa que:\n",
    "- El script se descargará en paralelo con el parseo del documento.\n",
    "- Se ejecutará cuando la descarga haya terminado aunque el documento no se haya parseado por completo.\n",
    "- Los scripts marcados con este atributo se ejecutarán sin mantener el orden en el que aparecen enn el documento HTML porque se ejecutarán según su orden de descarga."
   ]
  },
  {
   "cell_type": "code",
   "execution_count": null,
   "metadata": {
    "vscode": {
     "languageId": "javascript"
    }
   },
   "outputs": [],
   "source": [
    "<script src=\"./js/app.js\" async></script>"
   ]
  },
  {
   "cell_type": "markdown",
   "metadata": {},
   "source": [
    "#### `defer`\n",
    "\n",
    "El atributo `defer` asegura que los scrips se ejecutarán en el orden en el que aparecen en el documento HTML. Esto significa que:\n",
    "- El script también se descarga en paralelo con el parseo del documento, al igual que `async`\n",
    "- El script se ejecuta cuando el documento se haya parseado completamente\n",
    "- La ejecución del script ocurre exactamente antes del evento `DOMContentLoaded`, pero una vez que el documento completo ha sido procesado."
   ]
  },
  {
   "cell_type": "code",
   "execution_count": null,
   "metadata": {
    "vscode": {
     "languageId": "javascript"
    }
   },
   "outputs": [],
   "source": [
    "<script src=\"./js/app.js\" defer></script>"
   ]
  },
  {
   "cell_type": "markdown",
   "metadata": {},
   "source": [
    "#### Comportamiento por defecto\n",
    "\n",
    "Cuando no añadimos los atributos anteriores, el comportamiento es síncrono, es decir, el script se descarga y ejecuta de manera síncrona. De este modo:\n",
    "- El parseo del documento se pausa en el momento que insertamos el script hasta que ha sido descargado y ejecutado completamente.\n",
    "- Los scripts se ejecutan en el orden en el que aparecen en el documento."
   ]
  },
  {
   "cell_type": "code",
   "execution_count": null,
   "metadata": {
    "vscode": {
     "languageId": "javascript"
    }
   },
   "outputs": [],
   "source": [
    "<script src=\"./js/app.js\"></script>"
   ]
  },
  {
   "cell_type": "markdown",
   "metadata": {},
   "source": [
    "> En cualquier caso, salvo ocasiones específicas, suele ser más fácil añadir un sólo script, trabajar con módulos y esperar al evento DOMContentLoaded"
   ]
  },
  {
   "cell_type": "markdown",
   "metadata": {},
   "source": [
    "### Comentarios"
   ]
  },
  {
   "cell_type": "code",
   "execution_count": 21,
   "metadata": {
    "vscode": {
     "languageId": "javascript"
    }
   },
   "outputs": [
    {
     "name": "stdout",
     "output_type": "stream",
     "text": [
      "Este código no está comentado\n"
     ]
    }
   ],
   "source": [
    "%%script node\n",
    "// Esto es un comentario\n",
    "/*\n",
    "* Esto es un comentario de varias líneas\n",
    "*/\n",
    "console.log('Este código no está comentado')"
   ]
  }
 ],
 "metadata": {
  "kernelspec": {
   "display_name": "Python 3",
   "language": "python",
   "name": "python3"
  },
  "language_info": {
   "codemirror_mode": {
    "name": "ipython",
    "version": 3
   },
   "file_extension": ".py",
   "mimetype": "text/x-python",
   "name": "python",
   "nbconvert_exporter": "python",
   "pygments_lexer": "ipython3",
   "version": "3.11.0"
  },
  "orig_nbformat": 4
 },
 "nbformat": 4,
 "nbformat_minor": 2
}
