{
 "cells": [
  {
   "cell_type": "markdown",
   "metadata": {},
   "source": [
    "## Eventos y Handlers\n",
    "Nos permiten, como usuarios interaccionar con la aplicación.\n",
    "\n",
    "Los eventos están relacionados con cualquier operación del ratón, teclado, acciones táctiles... y cómo reacciona la aplicación ante este tipo de comportamiento, manipulando su contenido y mostrando una u otra información en cada caso.\n",
    "\n",
    "### Eventos\n",
    "Se activan cuando el usuario interactúa con la web. Pueden ser movimiento del ratón, clicks, pulsaciones de teclas...\n",
    "\n",
    "- Se disparan por el navegador o por el usuario.\n",
    "- Pueden estar relacionados con elementos específicos del DOM, como un botón, un div, un campo de entrada...\n",
    "- El objeto `Event` tiene información sobre el evento que ha ocurrido, quién lo originó y otros detalles.\n",
    "\n",
    "### Manejadores (handlers)\n",
    "Es la función que se encarga de gestionar (manejar) un evento ocurrido. Cada tipo de evento puede tener asociado **uno o varios** manejadores que se ejecutarán como respuesta a dicho evento.\n",
    "\n",
    "- Es una función que se asigna a un evento particular en un elemento del DOM.\n",
    "- Define la acción que se llevará a cabo cuando el evento ocurre.\n",
    "- Los manejadores se pueden definir directamente en el HTML, usando atributos como `onclick`, o se pueden asignar dinámicamente desde JavaScript."
   ]
  },
  {
   "cell_type": "markdown",
   "metadata": {},
   "source": [
    "```{warning}\n",
    "**Ejemplo no recomendado** de handler en el HTML. Utilizar `addEventListener`\n",
    "```"
   ]
  },
  {
   "cell_type": "markdown",
   "metadata": {},
   "source": [
    "```HTML\n",
    "<p onmouseover=\"this.style.background='#FF0000';\" onmouseout=\"this.style.background='#FFFFFF';\">HOLA</p>\n",
    "```"
   ]
  },
  {
   "cell_type": "markdown",
   "metadata": {},
   "source": [
    "### Ejemplo completo: Movies\n",
    "\n",
    "```{warning}\n",
    "https://github.com/igijon/javascript_dom_movies\n",
    "```\n",
    "\n",
    "Esta aplicación está desplegada para su prueba en **https://igijon.github.io/javascript_dom_movies/**\n",
    "\n",
    "La forma de ver este tipo de repositorios es mediante los commits ya que es un proyecto incremental que en cada commit va añadiendo funcionalidad:\n",
    "\n",
    "![alt text](image.png)\n",
    "\n",
    "Ejemplos con `addEventListener` como este, los podéis ver en el código del ejemplo:\n",
    "\n",
    "![alt text](image-1.png)\n",
    "![alt text](image-2.png)\n"
   ]
  },
  {
   "cell_type": "markdown",
   "metadata": {},
   "source": []
  },
  {
   "cell_type": "markdown",
   "metadata": {},
   "source": []
  }
 ],
 "metadata": {
  "kernelspec": {
   "display_name": "JavaScript (Node.js)",
   "language": "javascript",
   "name": "javascript"
  },
  "language_info": {
   "name": "javascript"
  }
 },
 "nbformat": 4,
 "nbformat_minor": 2
}
