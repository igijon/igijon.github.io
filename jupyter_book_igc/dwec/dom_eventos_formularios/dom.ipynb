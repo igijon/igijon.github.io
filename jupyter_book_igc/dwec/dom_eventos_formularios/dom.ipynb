{
 "cells": [
  {
   "cell_type": "markdown",
   "metadata": {},
   "source": [
    "# DOM, eventos y formularios"
   ]
  },
  {
   "cell_type": "markdown",
   "metadata": {},
   "source": [
    "\n",
    "## DOM\n",
    "El *DOM* (Document Object Model) o **Modelo de Objetos del Documento** es una API definida para representar e interactuar con cualquier documento HTML o XML. El DOM es un modelo de documento que se carga en el navegador web y que representa el documento como un árbol de nodos, donde cada nodo representa una parte del documento (puede tratarse de un elemento, una cadena de texto o un comentario).\n",
    "\n",
    "El DOM es una de las APIs más usadas en la Web, pues permite ejecutar código en el navegador para acceder e interactuar con cualquier nodo del documento. Estos nodos pueden crearse, moverse o modificarse. Pueden añadirse a estos nodos manejadores de eventos (*event listeners*) que se ejecutarán/activarán cuando ocurra el evento indicado en este manejador.\n",
    "\n",
    "El DOM surgió a partir de la implantación de JS en los navedores.\n",
    "\n",
    "`document` hace referencia a todo el documento.\n",
    "\n",
    "\n",
    "```{warning}\n",
    "Vamos a ver un ejemplo para abordar todo este contenido que se encuentra en el repositorio:\n",
    "https://github.com/igijon/javascript_dom_movies.git\n",
    "```\n",
    "\n",
    "### DOM: Window\n",
    "\n",
    "`window` es un objeto predefinido que representa la ventana en la que se puestra el documento.\n",
    "\n",
    "```javascript\n",
    "var globalVar = \"I'm global!\";\n",
    "function globalFunction() {\n",
    "    console.log(\"I'm a global function!\");\n",
    "}\n",
    "console.log(window.globalVar); // \"I'm global!\"\n",
    "window.globalFunction(); // \"I'm a global function!\"\n",
    "```"
   ]
  },
  {
   "cell_type": "markdown",
   "metadata": {},
   "source": [
    "Cualquier variable declarada en el ámbito global pasa a ser un atributo del objeto window. Esto no ocurre con las variables declaradas con `let` o `const` como ya vimos. La especificación de ECMAScript permite con `let` y `const`que no se conviertan en propiedades del objeto window y por ende, se fomenta un diseño de código más modular y con menos dependencias globales.\n",
    "\n",
    "```{warning}\n",
    "`window` no está cuando programamos para **Node** u otros intérpretes de servidor, por este motivo, el JS dedicado al DOM debe estar **separado** de funciones normales, de manera que éstas se puedan reutilizar si parte de la lógica se mueve al servidor.\n",
    "```"
   ]
  },
  {
   "cell_type": "markdown",
   "metadata": {},
   "source": [
    "### DOM: Selección de elementos"
   ]
  },
  {
   "cell_type": "code",
   "execution_count": null,
   "metadata": {
    "vscode": {
     "languageId": "javascript"
    }
   },
   "outputs": [],
   "source": [
    "let element = document.getElementById('exampleId'); // Devuelve un elemento por su id\n",
    "let elements = document.getElementsByTagName('p'); // Devuelve todos los elementos que tengan dicho tag\n",
    "let elementByName = document.getElementsByName('exampleName'); // Devuelve todos los elementos que cumplan dicho nombre\n",
    "let firstElement = document.querySelector('.exampleClass'); // Devuelve el primer elemento que cumpla con el selector CSS\n",
    "let allElements = document.querySelectorAll('.exampleClass'); //Devuelve todos los elementos que coinciden con el selector CSS"
   ]
  },
  {
   "cell_type": "markdown",
   "metadata": {},
   "source": [
    "```{warning}\n",
    "Hay que intentar minimizar las llamadas a `querySelector`porque cada vez que se hacen, JS hace un barrido al HTML\n",
    "```"
   ]
  },
  {
   "cell_type": "markdown",
   "metadata": {},
   "source": [
    "A menudo, necesitamos acceder a un nodo específico a partir de uno ya existente en el DOM. Para esto, podemos utilizar los siguientes métodos aplicados a un elemento del árbol DOM:\n",
    "\n",
    "- `elemento.parentElement`: retorna el elemento padre del nodo actual.\n",
    "- `elemento.children`: retorna una colección de todos los elementos hijos del nodo actual (sólo elementos HTML, no incluye comentarios ni nodos de texto).\n",
    "- `elemento.childNodes`: retorna una colección de todos los nodos hijos, incluyendo comentarios y nodos de texto, por lo cual no se usa frecuentemente.\n",
    "- `elemento.firstElementChild`: retorna el primer hijo que es un elemento HTML.\n",
    "- `elemento.firstChild`: retorna el primer nodo hijo, incluyendo nodos de texto o comentarios.\n",
    "- `elemento.lastElementChild`: similar a `firstElementChild`, pero retorna el último hijo elemento HTML.\n",
    "- `elemento.lastChild`: similar a `firstChild`, pero retorna el último nodo hijo.\n",
    "- `elemento.nextElementSibling`: retorna el siguiente hermano que es un elemento HTML.\n",
    "- `elemento.nextSibling`: retorna el siguiente nodo hermano, incluyendo nodos de texto o comentarios.\n",
    "- `elemento.previousElementSibling`: similar a `nextElementSibling`, pero retorna el hermano anterior que es un elemento HTML.\n",
    "- `elemento.previousSibling`: similar a `nextSibling`, pero retorna el nodo hermano anterior.\n",
    "- `elemento.hasChildNodes()`: indica si el nodo tiene nodos hijos.\n",
    "- `elemento.childElementCount`: retorna el número de elementos hijos.\n",
    "- `elemento.closest(selector)`: retorna el ancestro más cercano que coincide con el selector dado. Por ejemplo, si el elemento es un `<td>` dentro de una tabla, `elemento.closest('table')` retornará la tabla a la que pertenece.\n",
    "\n",
    "El DOM proporciona accesos directos (atajos) para obtener elementos comunes:\n",
    "\n",
    "- `document.documentElement`: obtiene el nodo del elemento `<html>`.\n",
    "- `document.head`: obtiene el nodo del elemento `<head>`.\n",
    "- `document.body`: obtiene el nodo del elemento `<body>`.\n",
    "- `document.title`: obtiene el nodo del elemento `<title>`.\n",
    "- `document.links`: obtiene una colección de todos los hipervínculos del documento.\n",
    "- `document.anchors`: obtiene una colección de todas las anclas del documento.\n",
    "- `document.forms`: obtiene una colección de todos los formularios del documento.\n",
    "- `document.images`: obtiene una colección de todas las imágenes del documento.\n",
    "- `document.scripts`: obtiene una colección de todos los scripts del documento."
   ]
  },
  {
   "cell_type": "markdown",
   "metadata": {},
   "source": [
    "### DOM: Modificar Nodos\n",
    "\n",
    "Una vez que hemos encontrado los nodos, podemos modificarlos. Algunos métodos útiles incluyen:\n",
    "\n",
    "- `.innerHTML`, `.innerText`, `.outerHTML`: Para cambiar el contenido HTML o texto de un elemento.\n",
    "- `.insertAdjacentHTML(position, text)`: Inserta texto HTML en una posición específica.\n",
    "- `.append(content, element)`, `.prepend(content, element)`: Añade contenido al principio o al final de un elemento.\n",
    "- `.after()`, `.before()`: Inserta un elemento antes o después del elemento actual.\n",
    "- `.cloneNode(deep)`: Clona un nodo, con o sin sus hijos.\n",
    "- `.remove()`: Elimina un nodo.\n",
    "\n",
    "Métodos más antiguos pero aún en uso incluyen `removeChild()` y `appendChild()`.\n",
    "\n",
    "```javascript\n",
    "let element = document.getElementById('exampleId');\n",
    "element.innerHTML = 'Nuevo contenido';\n",
    "element.insertAdjacentHTML('beforeend', '<p>Más contenido</p>');\n",
    "element.append('Texto adicional');\n",
    "element.remove();\n",
    "```\n",
    "\n",
    "#### Atributos\n",
    "\n",
    "Los elementos suelen tener atributos. Algunos son especiales como el `id` o la `class`. El `id` está accesible directamente como atributo del elemento, así como el `className`, aunque luego veremos que es mejor manipularlo de otra manera. Otros atributos como `value` en los `Input`o `scr` en los `<img>` también pueden ser leidos y modificados como propiedades. Se trata de los atributos **estándar**.  \n",
    "\n",
    "Para los atributos que no tienen acceso directo porque no son estándar, podemos usar `setAttribute()` `getAttribute()`, `hasAttribute()` o `removeAttribute()`:\n",
    "\n",
    "```javascript\n",
    "const button = document.querySelector(\"button\");\n",
    "\n",
    "button.setAttribute(\"name\", \"helloButton\");\n",
    "button.setAttribute(\"disabled\", \"\");\n",
    "```\n",
    "\n",
    "## Referencias\n",
    "{cite}`mdn`\n",
    "{cite}`fherrera`\n",
    "{cite}`jcastillo`"
   ]
  }
 ],
 "metadata": {
  "language_info": {
   "name": "python"
  },
  "orig_nbformat": 4
 },
 "nbformat": 4,
 "nbformat_minor": 2
}
