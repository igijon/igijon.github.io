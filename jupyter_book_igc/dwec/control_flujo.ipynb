{
 "cells": [
  {
   "cell_type": "markdown",
   "metadata": {},
   "source": [
    "# Bucles y estructuras de control de flujo\n",
    "## If-else\n"
   ]
  },
  {
   "cell_type": "code",
   "execution_count": 1,
   "metadata": {
    "vscode": {
     "languageId": "javascript"
    }
   },
   "outputs": [
    {
     "name": "stdout",
     "output_type": "stream",
     "text": [
      "a es menor que 10\n",
      "Fin de programa\n"
     ]
    }
   ],
   "source": [
    "\n",
    "let a = 5;\n",
    "\n",
    "if ( a >= 10 ) { //hay excepciones: undefined, null, una asignación\n",
    "    console.log( 'a es mayor o igual que 10');\n",
    "} else {\n",
    "    console.log( 'a es menor que 10' );\n",
    "}\n",
    "\n",
    "console.log('Fin de programa');"
   ]
  },
  {
   "cell_type": "code",
   "execution_count": 3,
   "metadata": {
    "vscode": {
     "languageId": "javascript"
    }
   },
   "outputs": [
    {
     "name": "stdout",
     "output_type": "stream",
     "text": [
      "\u001b[35m2024-09-16T10:19:39.733Z\u001b[39m\n",
      "{ dia: \u001b[33m1\u001b[39m }\n",
      "Lunes\n"
     ]
    }
   ],
   "source": [
    "\n",
    "const hoy = new Date(); //Obtenemos la información del momento actual\n",
    "console.log( hoy );\n",
    "\n",
    "let dia = hoy.getDay(); //0: Domingo, 1: Lunes...\n",
    "console.log( {dia} );\n",
    "\n",
    "if ( dia === 0 ) { //El triple igual comprueba el valor y el tipado\n",
    "    console.log('Domingo');\n",
    "} else if ( dia === 1) {\n",
    "        console.log( 'Lunes' );\n",
    "} else {\n",
    "    console.log( 'No es lunes ni domingo' );\n",
    "}"
   ]
  },
  {
   "cell_type": "code",
   "execution_count": null,
   "metadata": {
    "vscode": {
     "languageId": "javascript"
    }
   },
   "outputs": [],
   "source": []
  }
 ],
 "metadata": {
  "kernelspec": {
   "display_name": "Python 3",
   "language": "python",
   "name": "python3"
  },
  "language_info": {
   "codemirror_mode": {
    "name": "ipython",
    "version": 3
   },
   "file_extension": ".py",
   "mimetype": "text/x-python",
   "name": "python",
   "nbconvert_exporter": "python",
   "pygments_lexer": "ipython3",
   "version": "3.11.0"
  },
  "orig_nbformat": 4
 },
 "nbformat": 4,
 "nbformat_minor": 2
}
