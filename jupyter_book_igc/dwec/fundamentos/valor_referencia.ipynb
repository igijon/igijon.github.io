{
 "cells": [
  {
   "cell_type": "markdown",
   "metadata": {},
   "source": [
    "# Valor, referencia y romper la referencia\n",
    "\n",
    "## Valor\n"
   ]
  },
  {
   "cell_type": "code",
   "execution_count": 1,
   "metadata": {},
   "outputs": [
    {
     "name": "stdout",
     "output_type": "stream",
     "text": [
      "{ a: 30, b: 10 }\n"
     ]
    }
   ],
   "source": [
    "\n",
    "let a = 10;\n",
    "let b = a;\n",
    "a = 30;\n",
    "\n",
    "//Cuando trabajamos por primitivos, trabajamos por valor,\n",
    "//no afectamos el mismo espacio de memoria\n",
    "console.log({a, b});"
   ]
  },
  {
   "cell_type": "markdown",
   "metadata": {},
   "source": [
    "## Referencia"
   ]
  },
  {
   "cell_type": "code",
   "execution_count": 2,
   "metadata": {},
   "outputs": [
    {
     "name": "stdout",
     "output_type": "stream",
     "text": [
      "{ juan: { nombre: 'Ana' }, ana: { nombre: 'Ana' } }\n"
     ]
    }
   ],
   "source": [
    "\n",
    " //En JS todos los objetos son pasados por referncia.\n",
    " let juan = { nombre: 'Juan' };\n",
    " let ana = juan;\n",
    " ana.nombre = 'Ana';\n",
    " \n",
    " console.log( {juan, ana} );"
   ]
  },
  {
   "cell_type": "markdown",
   "metadata": {},
   "source": [
    "```{note}\n",
    "En JS todos los elementos son objetos menos los primitivos\n",
    "```"
   ]
  },
  {
   "cell_type": "code",
   "execution_count": 3,
   "metadata": {},
   "outputs": [
    {
     "name": "stdout",
     "output_type": "stream",
     "text": [
      "{ charles: { nombre: 'Edu' }, edu: { nombre: 'Edu' } }\n"
     ]
    }
   ],
   "source": [
    "\n",
    "const cambiaNombre = ( persona ) => {\n",
    "    persona.nombre = 'Edu';\n",
    "    return persona;\n",
    "}\n",
    "\n",
    "let charles = {nombre: 'Charles'};\n",
    "let edu = cambiaNombre ( charles );\n",
    "console.log( {charles, edu} );"
   ]
  },
  {
   "cell_type": "markdown",
   "metadata": {},
   "source": [
    "## Romper la referencia"
   ]
  },
  {
   "cell_type": "code",
   "execution_count": 4,
   "metadata": {},
   "outputs": [
    {
     "name": "stdout",
     "output_type": "stream",
     "text": [
      "{ luis: { nombre: 'Luis' }, mar: { nombre: 'Mar' } }\n",
      "{ peter: { nombre: 'Peter' }, tony: { nombre: 'Tony' } }\n"
     ]
    }
   ],
   "source": [
    "\n",
    "//En JS todos los objetos son pasados por referncia.\n",
    "let luis = { nombre: 'Luis' };\n",
    "let mar = { ...luis }; //Esto genera una copia porque genera un nuevo objeto\n",
    "//Y el operador spread separa todas las propiedades del objeto juan\n",
    "//Es diferente al parámetro rest cuando va como parámetro en una función.\n",
    "mar.nombre = 'Mar';\n",
    "\n",
    "console.log( {luis, mar} );\n",
    "\n",
    "const cambiaNombre2 = ( {...persona} ) => {\n",
    "    persona.nombre = 'Tony';\n",
    "    return persona;\n",
    "}\n",
    "\n",
    "let peter = {nombre: 'Peter'};\n",
    "let tony = cambiaNombre2 ( peter );\n",
    "console.log( {peter, tony} );"
   ]
  },
  {
   "cell_type": "markdown",
   "metadata": {},
   "source": [
    "Igual pero con arrays"
   ]
  },
  {
   "cell_type": "code",
   "execution_count": 5,
   "metadata": {},
   "outputs": [
    {
     "name": "stdout",
     "output_type": "stream",
     "text": [
      "┌─────────────┬───────────┬────────┬────────┬─────────┐\n",
      "│ (index)     │ 0         │ 1      │ 2      │ 3       │\n",
      "├─────────────┼───────────┼────────┼────────┼─────────┤\n",
      "│ frutas      │ 'Manzana' │ 'Pera' │ 'Piña' │ 'Mango' │\n",
      "│ otrasFrutas │ 'Manzana' │ 'Pera' │ 'Piña' │ 'Mango' │\n",
      "└─────────────┴───────────┴────────┴────────┴─────────┘\n"
     ]
    }
   ],
   "source": [
    "\n",
    "//Array\n",
    "const frutas = ['Manzana', 'Pera', 'Piña'];\n",
    "const otrasFrutas = frutas;\n",
    "otrasFrutas.push('Mango');\n",
    "console.table({frutas, otrasFrutas});"
   ]
  },
  {
   "cell_type": "code",
   "execution_count": 6,
   "metadata": {},
   "outputs": [
    {
     "name": "stdout",
     "output_type": "stream",
     "text": [
      "┌──────────────┬───────────┬────────┬────────┬─────────┬─────────┐\n",
      "│ (index)      │ 0         │ 1      │ 2      │ 3       │ 4       │\n",
      "├──────────────┼───────────┼────────┼────────┼─────────┼─────────┤\n",
      "│ frutas       │ 'Manzana' │ 'Pera' │ 'Piña' │ 'Mango' │         │\n",
      "│ otrasFrutas2 │ 'Manzana' │ 'Pera' │ 'Piña' │ 'Mango' │ 'Mango' │\n",
      "└──────────────┴───────────┴────────┴────────┴─────────┴─────────┘\n"
     ]
    }
   ],
   "source": [
    "\n",
    "//Array\n",
    "const otrasFrutas2 = [...frutas];\n",
    "otrasFrutas2.push('Mango');\n",
    "console.table({frutas, otrasFrutas2});"
   ]
  },
  {
   "cell_type": "code",
   "execution_count": 7,
   "metadata": {},
   "outputs": [
    {
     "name": "stdout",
     "output_type": "stream",
     "text": [
      "┌──────────────┬───────────┬────────┬────────┬─────────┬─────────┐\n",
      "│ (index)      │ 0         │ 1      │ 2      │ 3       │ 4       │\n",
      "├──────────────┼───────────┼────────┼────────┼─────────┼─────────┤\n",
      "│ frutas       │ 'Manzana' │ 'Pera' │ 'Piña' │ 'Mango' │         │\n",
      "│ otrasFrutas3 │ 'Manzana' │ 'Pera' │ 'Piña' │ 'Mango' │ 'Mango' │\n",
      "└──────────────┴───────────┴────────┴────────┴─────────┴─────────┘\n"
     ]
    }
   ],
   "source": [
    "\n",
    "//Array\n",
    "const otrasFrutas3 = frutas.slice(); //Produce el mismo efecto que spread. \n",
    "otrasFrutas3.push('Mango');\n",
    "console.table({frutas, otrasFrutas3});"
   ]
  },
  {
   "cell_type": "markdown",
   "metadata": {},
   "source": [
    "Vamos a ver eficiencia:"
   ]
  },
  {
   "cell_type": "code",
   "execution_count": 8,
   "metadata": {},
   "outputs": [
    {
     "name": "stdout",
     "output_type": "stream",
     "text": [
      "slice: 0.04ms\n",
      "spread: 0.002ms\n"
     ]
    }
   ],
   "source": [
    "\n",
    "console.time('slice');\n",
    "const otrasFrutas4 = frutas.slice();\n",
    "console.timeEnd('slice');\n",
    "\n",
    "console.time('spread');\n",
    "const otrasFrutas5 = [...frutas];\n",
    "console.timeEnd('spread');"
   ]
  },
  {
   "cell_type": "code",
   "execution_count": null,
   "metadata": {},
   "outputs": [],
   "source": []
  }
 ],
 "metadata": {
  "kernelspec": {
   "display_name": "JavaScript (Node.js)",
   "language": "javascript",
   "name": "javascript"
  },
  "language_info": {
   "file_extension": ".js",
   "mimetype": "application/javascript",
   "name": "javascript",
   "version": "20.17.0"
  },
  "orig_nbformat": 4
 },
 "nbformat": 4,
 "nbformat_minor": 2
}
