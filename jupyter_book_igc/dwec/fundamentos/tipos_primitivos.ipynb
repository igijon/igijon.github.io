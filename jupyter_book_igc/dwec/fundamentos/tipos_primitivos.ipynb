{
 "cells": [
  {
   "cell_type": "markdown",
   "metadata": {},
   "source": [
    "# Tipos de datos primitivos y palabras reservadas\n",
    "## Tipos de datos primitivos\n",
    "- JS es un lenguaje débilmente tipado, es decir, infiere el tipo de datos a diferencia de lenguajes como C# o Java.\n",
    "- Con tipo de datos primitivo nos referimos a datos que no son un objeto y son inmutables. Los valores pueden ser realignados pero no se puede cambiar el valor como lo haría en un objeto.\n",
    "\n",
    "```{list-table} Tipos de Datos en JS\n",
    ":header-rows: 1\n",
    ":name: tipos_datos\n",
    "\n",
    "* - Tipo\n",
    "  - Descripción\n",
    "* - Boolean\n",
    "  - true / false\n",
    "* - Null\n",
    "  - Sin valor\n",
    "* - Undefined\n",
    "  - variable declarada pero sin valor\n",
    "* - Number\n",
    "  - integer, floats...\n",
    "* - String\n",
    "  - cadena de caracteres\n",
    "* - Symbol\n",
    "  - tipo de dato con valor único (lo veremos más adelante)\n",
    "* - Function \n",
    "  - una función también puede asignarse a una variable\n",
    "* - Object\n",
    "  - objetos\n",
    "```"
   ]
  },
  {
   "cell_type": "code",
   "execution_count": 1,
   "metadata": {},
   "outputs": [
    {
     "name": "stdout",
     "output_type": "stream",
     "text": [
      "Totoro\n",
      "Mi vecino Totoro\n",
      "string\n",
      "number\n",
      "boolean\n",
      "number\n",
      "number\n",
      "undefined\n",
      "object\n",
      "symbol\n",
      "false\n"
     ]
    }
   ],
   "source": [
    "\n",
    "//Tipos primitivos\n",
    "let nombre = 'Totoro';\n",
    "console.log( nombre );\n",
    "\n",
    "nombre = 'Mi vecino Totoro'; //Más ligero que el doble\n",
    "console.log( nombre );\n",
    "\n",
    "nombre = \"Ponyo\"; //A veces este hace que sea más fácil de ver\n",
    "nombre = `Ponyo`; //Back tick\n",
    "\n",
    "\n",
    "console.log( typeof nombre);\n",
    "\n",
    "nombre = 123;\n",
    "console.log( typeof nombre );\n",
    "\n",
    "let esGhibli = true;\n",
    "console.log( typeof esGhibli );\n",
    "\n",
    "let edad = 33;\n",
    "console.log( typeof edad );\n",
    "\n",
    "edad = 33.034;\n",
    "console.log( typeof edad );\n",
    "\n",
    "//La mayor parte de los desarrolladores establecen como nomenclatura para la \n",
    "//declaración de variables, camelCase.\n",
    "//snake_case por ejemplo es el estándar en Python.\n",
    "\n",
    "let superPoder;\n",
    "console.log( typeof superPoder ); //undefined\n",
    "\n",
    "let soyNull = null;\n",
    "console.log( typeof soyNull ); //object\n",
    "\n",
    "let symbol1= Symbol('a');  //Los símbolos permiten crear identificadores únicos \n",
    "let symbol2 = Symbol('a'); \n",
    "\n",
    "console.log( typeof symbol1 );\n",
    "console.log( symbol1 === symbol2 );"
   ]
  },
  {
   "cell_type": "markdown",
   "metadata": {},
   "source": [
    "## Palabras reservadas\n",
    "```{note}\n",
    "En los nombres de los archivos, se recomienda que sean en minúscula y si son varias palabras, separadas por guiones bajos, para evitar problemas de despliegue porque la mayor parte de servidores son Linux y son case sensitive.\n",
    "```\n",
    "\n",
    "Las **palabras reservadas** son palabras que están reservadas para el uso específico del lenguaje.\n",
    "\n",
    "Aquí tenéis un validador para nombres de variables:\n",
    "https://mothereff.in/js-variables#%E0%B2%A0%5f%E0%B2%A0"
   ]
  }
 ],
 "metadata": {
  "kernelspec": {
   "display_name": "JavaScript (Node.js)",
   "language": "javascript",
   "name": "javascript"
  },
  "language_info": {
   "file_extension": ".js",
   "mimetype": "application/javascript",
   "name": "javascript",
   "version": "20.17.0"
  },
  "orig_nbformat": 4
 },
 "nbformat": 4,
 "nbformat_minor": 2
}
