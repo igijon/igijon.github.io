{
 "cells": [
  {
   "cell_type": "markdown",
   "metadata": {},
   "source": [
    "# Bucles y estructuras de control de flujo\n",
    "## If-else\n"
   ]
  },
  {
   "cell_type": "code",
   "execution_count": 1,
   "metadata": {},
   "outputs": [
    {
     "name": "stdout",
     "output_type": "stream",
     "text": [
      "a es menor que 10\n",
      "Fin de programa\n"
     ]
    }
   ],
   "source": [
    "let a = 5;\n",
    "\n",
    "if ( a >= 10 ) { //hay excepciones: undefined, null, una asignación\n",
    "    console.log( 'a es mayor o igual que 10');\n",
    "} else {\n",
    "    console.log( 'a es menor que 10' );\n",
    "}\n",
    "\n",
    "console.log('Fin de programa');"
   ]
  },
  {
   "cell_type": "code",
   "execution_count": 2,
   "metadata": {},
   "outputs": [
    {
     "name": "stdout",
     "output_type": "stream",
     "text": [
      "2024-09-21T05:38:01.765Z\n",
      "{ dia: 6 }\n",
      "No es lunes ni domingo\n"
     ]
    }
   ],
   "source": [
    "\n",
    "const hoy = new Date(); //Obtenemos la información del momento actual\n",
    "console.log( hoy );\n",
    "\n",
    "let dia = hoy.getDay(); //0: Domingo, 1: Lunes...\n",
    "console.log( {dia} );\n",
    "\n",
    "if ( dia === 0 ) { //El triple igual comprueba el valor y el tipado\n",
    "    console.log('Domingo');\n",
    "} else if ( dia === 1) {\n",
    "        console.log( 'Lunes' );\n",
    "} else {\n",
    "    console.log( 'No es lunes ni domingo' );\n",
    "}"
   ]
  },
  {
   "cell_type": "markdown",
   "metadata": {},
   "source": [
    "Alternativa a `if-else`"
   ]
  },
  {
   "cell_type": "code",
   "execution_count": 3,
   "metadata": {},
   "outputs": [
    {
     "ename": "SyntaxError",
     "evalue": "Identifier 'hoy' has already been declared",
     "output_type": "error",
     "traceback": [
      "evalmachine.<anonymous>:1",
      "const diasLetras = {",
      "^",
      "",
      "SyntaxError: Identifier 'hoy' has already been declared",
      "    at Script.runInThisContext (node:vm:136:12)",
      "    at Object.runInThisContext (node:vm:316:38)",
      "    at run ([eval]:1020:15)",
      "    at onRunRequest ([eval]:864:18)",
      "    at onMessage ([eval]:828:13)",
      "    at process.emit (node:events:519:28)",
      "    at emit (node:internal/child_process:951:14)",
      "    at process.processTicksAndRejections (node:internal/process/task_queues:83:21)"
     ]
    }
   ],
   "source": [
    "const diasLetras = {\n",
    "    0: 'domingo',\n",
    "    1: 'lunes',\n",
    "    2: 'martes',\n",
    "    3: 'miércoles',    \n",
    "    4: 'jueves',\n",
    "    5: 'viernes',\n",
    "    6: 'sábado' \n",
    "};\n",
    "const hoy = new Date();\n",
    "let dia = hoy.getDay();\n",
    "console.log(diasLetras[dia]);"
   ]
  },
  {
   "cell_type": "markdown",
   "metadata": {},
   "source": [
    "## Lógica booleana"
   ]
  },
  {
   "cell_type": "code",
   "execution_count": 2,
   "metadata": {},
   "outputs": [
    {
     "name": "stderr",
     "output_type": "stream",
     "text": [
      "Not o la negación\n"
     ]
    },
    {
     "name": "stdout",
     "output_type": "stream",
     "text": [
      "true\n",
      "false\n",
      "true\n",
      "Regresa false\n",
      "true\n"
     ]
    },
    {
     "name": "stderr",
     "output_type": "stream",
     "text": [
      "And\n"
     ]
    },
    {
     "name": "stdout",
     "output_type": "stream",
     "text": [
      "true\n",
      "false\n",
      "true\n",
      "false\n",
      "false\n",
      "==========\n",
      "Regresa false\n",
      "false\n",
      "Regresa true\n",
      "Regresa false\n",
      "false\n"
     ]
    },
    {
     "name": "stderr",
     "output_type": "stream",
     "text": [
      "Or\n"
     ]
    },
    {
     "name": "stdout",
     "output_type": "stream",
     "text": [
      "true\n",
      "false\n",
      "Regresa true\n",
      "true\n",
      "Regresa false\n",
      "Regresa true\n",
      "true\n"
     ]
    }
   ],
   "source": [
    "const regresaTrue = () => {\n",
    "    console.log('Regresa true');\n",
    "    return true;\n",
    "}\n",
    "const regresaFalse = () => {\n",
    "    console.log('Regresa false');\n",
    "    return false;\n",
    "}\n",
    "\n",
    "console.warn('Not o la negación');\n",
    "console.log( true );\n",
    "console.log(!true); //false\n",
    "console.log(!false); //true\n",
    "\n",
    "console.log(!regresaFalse()); //true\n",
    "\n",
    "console.warn('And'); //true si todos los valores son verdaderos\n",
    "console.log( true && true); //true\n",
    "console.log( true && false); //false\n",
    "console.log( true && !false); //true\n",
    "console.log( false && true); //false\n",
    "console.log( false && false); //false\n",
    "\n",
    "\n",
    "console.log('==========');\n",
    "console.log(regresaFalse() && regresaTrue()); //false y sólo entra en la primera función\n",
    "console.log(regresaTrue() && regresaFalse()); //false y entra en las dos\n",
    "\n",
    "console.warn('Or');\n",
    "\n",
    "console.log( true || false); //true\n",
    "console.log(false || false); //false\n",
    "\n",
    "console.log( regresaTrue() || regresaFalse()); //true y sólo evalúa el primero\n",
    "console.log( regresaFalse() || regresaTrue()); //true y evalúa ambos"
   ]
  },
  {
   "cell_type": "markdown",
   "metadata": {},
   "source": [
    "## Asignaciones con operadores"
   ]
  },
  {
   "cell_type": "code",
   "execution_count": 3,
   "metadata": {},
   "outputs": [
    {
     "name": "stderr",
     "output_type": "stream",
     "text": [
      "Asignaciones\n"
     ]
    },
    {
     "name": "stdout",
     "output_type": "stream",
     "text": [
      "{ a1: 150, a2: false, a3: false }\n",
      "{ a4: 'Ya no soy falso', a5: 'Ya no soy falso de nuevo', a6: true }\n"
     ]
    }
   ],
   "source": [
    "\n",
    "console.warn('Asignaciones');\n",
    "\n",
    "const soyUndefined = undefined;\n",
    "const soyNull = null;\n",
    "const soyFalso = false;\n",
    "\n",
    "const a1 = true && 'Hola mundo' && 150; //150\n",
    "const a2 = false && 'Hola mundo' && 150; //false\n",
    "const a3 = true && 'Hola mundo' && soyFalso; //false\n",
    "console.log({a1, a2, a3});\n",
    "\n",
    "const a4 = soyFalso || 'Ya no soy falso'; //ya no soy falso\n",
    "const a5 = soyFalso || soyNull || 'Ya no soy falso de nuevo' || true; //ya no soy falso de nuevo\n",
    "const a6 = soyFalso || true || 'Ya no soy falso de nuevo'; //true\n",
    "console.log({a4, a5, a6});"
   ]
  },
  {
   "cell_type": "markdown",
   "metadata": {},
   "source": [
    "## Operador ternario\n",
    "Sin operador ternario."
   ]
  },
  {
   "cell_type": "code",
   "execution_count": 5,
   "metadata": {},
   "outputs": [
    {
     "name": "stdout",
     "output_type": "stream",
     "text": [
      "Fin de semana\n",
      "{ horaApertura: 9, mensaje: 'Está abierto' }\n"
     ]
    }
   ],
   "source": [
    "/**\n",
    " * Días de semana abrimos a las 11\n",
    " * pero los fines de semana abrimos a las 9\n",
    " */\n",
    "\n",
    "//Entra a un sitio web para consultar si está abierto hoy\n",
    "const dia_semana = 0; //0:domingo, 1:lunes...\n",
    "const horaActual= 10;\n",
    "\n",
    "let horaApertura;\n",
    "let mensaje; //Está abierto, Está cerrado, hoy abrimos a las XX\n",
    "\n",
    "\n",
    "//Sin operador ternario\n",
    "// if ( dia === 0 || dia === 6 ) {\n",
    "if ( [0,6].includes(dia) ){\n",
    "    console.log('Fin de semana');\n",
    "    horaApertura = 9;\n",
    "} else {\n",
    "    console.log('Día de semana');\n",
    "    horaApertura = 11;\n",
    "}\n",
    "\n",
    "\n",
    "if(horaActual >= horaApertura) {\n",
    "    mensaje = 'Está abierto';\n",
    "} else {\n",
    "    mensaje = `Está cerrado, hoy abrimos a las ${horaApertura}`; //Back tip\n",
    "}\n",
    "\n",
    "console.log({horaApertura, mensaje});"
   ]
  },
  {
   "cell_type": "markdown",
   "metadata": {},
   "source": [
    "Con operador ternario:"
   ]
  },
  {
   "cell_type": "code",
   "execution_count": 1,
   "metadata": {},
   "outputs": [
    {
     "name": "stdout",
     "output_type": "stream",
     "text": [
      "{ horaApertura2: 9, mensaje2: 'Está abierto' }\n"
     ]
    }
   ],
   "source": [
    "\n",
    "/**\n",
    " * Días de semana abrimos a las 11\n",
    " * pero los fines de semana abrimos a las 9\n",
    " */\n",
    "\n",
    "//Entra a un sitio web para consultar si está abierto hoy\n",
    "const dia_semana2 = 0; //0:domingo, 1:lunes...\n",
    "const horaActual2= 10;\n",
    "\n",
    "let horaApertura2;\n",
    "let mensaje2; //Está abierto, Está cerrado, hoy abrimos a las XX\n",
    "\n",
    "\n",
    "horaApertura2 = ([0,6].includes(dia_semana2)) ? 9 : 11;\n",
    "mensaje2 = (horaActual2 >= horaApertura2) ? 'Está abierto' : `Está cerrado, hoy abrimos a las ${horaApertura2}`;\n",
    "\n",
    "console.log({horaApertura2, mensaje2});"
   ]
  },
  {
   "cell_type": "markdown",
   "metadata": {},
   "source": [
    "### Aplicaciones del operador ternario"
   ]
  },
  {
   "cell_type": "code",
   "execution_count": 2,
   "metadata": {},
   "outputs": [
    {
     "name": "stdout",
     "output_type": "stream",
     "text": [
      "20\n",
      "10 euros\n",
      "[ 'Peter', 'Tony', 'Dr. Strange', 'Thor', 'Nick fury', 15 ]\n",
      "65 F\n"
     ]
    }
   ],
   "source": [
    "\n",
    "const elMayor = (a,b) => (a > b) ? a: b;\n",
    "\n",
    "const pertenece = (miembro) => miembro ? '2 euros' : '10 euros';\n",
    "\n",
    "console.log(elMayor(20,3));\n",
    "console.log(pertenece(false));\n",
    "\n",
    "\n",
    "const amigo = true;\n",
    "const amigosArr = [\n",
    "    'Peter',\n",
    "    'Tony',\n",
    "    'Dr. Strange',\n",
    "    amigo ? 'Thor' : 'Loki',\n",
    "    (() => 'Nick fury') (), //Función anónima autoinvocada\n",
    "    elMayor(10,15)\n",
    "];\n",
    "\n",
    "console.log(amigosArr);\n",
    "\n",
    "const nota = 65; //A+ A B+...\n",
    "const grado = nota >= 95 ? 'A+':\n",
    "              nota >= 90 ? 'A' :\n",
    "              nota >= 85 ? 'B+':\n",
    "              nota >= 80 ? 'B' :\n",
    "              nota >= 75 ? 'C+':\n",
    "              nota >= 70 ? 'C' : 'F';\n",
    "\n",
    "console.log(nota, grado);"
   ]
  },
  {
   "cell_type": "markdown",
   "metadata": {},
   "source": [
    "## Switch"
   ]
  },
  {
   "cell_type": "code",
   "execution_count": 3,
   "metadata": {},
   "outputs": [
    {
     "name": "stdout",
     "output_type": "stream",
     "text": [
      "Domingo\n"
     ]
    }
   ],
   "source": [
    "\n",
    "const dia = 0; //0: Domingo...\n",
    "\n",
    "switch (dia) { //Hace un ===\n",
    "    case 0:\n",
    "        console.log('Domingo');\n",
    "        break;\n",
    "    case 1:\n",
    "        console.log('Lunes');\n",
    "        break;\n",
    "    case 2: \n",
    "        console.log('Martes');\n",
    "        break;\n",
    "    default:\n",
    "        console.log('No es domingo, ni lunes ni martes');\n",
    "        break;\n",
    "}"
   ]
  },
  {
   "cell_type": "markdown",
   "metadata": {},
   "source": [
    "## Bucles\n",
    "### While y Do While"
   ]
  },
  {
   "cell_type": "code",
   "execution_count": 19,
   "metadata": {},
   "outputs": [
    {
     "name": "stdout",
     "output_type": "stream",
     "text": [
      "Ford\n",
      "Mazda\n",
      "Honda\n",
      "Toyota\n",
      "Ford\n",
      "Mazda\n",
      "Honda\n",
      "Toyota\n",
      "Ford\n",
      "Ford\n"
     ]
    }
   ],
   "source": [
    "\n",
    "const coches = ['Ford', 'Mazda', 'Honda', 'Toyota'];\n",
    "\n",
    "let i = 0;\n",
    "\n",
    "while( i < coches.length ) {\n",
    "    console.log( coches[i] );\n",
    "    i++;\n",
    "}\n",
    "i = 0;\n",
    "\n",
    "//undefined\n",
    "//null \n",
    "//false \n",
    "//son condiciones que harían que no se ejecutase\n",
    "\n",
    "while (coches[i]) { //Va a recorrer mientras haya elementos\n",
    "    console.log(coches[i]);\n",
    "    i++;\n",
    "}\n",
    "\n",
    "i = 0;\n",
    "\n",
    "while (coches[i]) { \n",
    "    if ( i === 1 ){\n",
    "        break; //Con esto sólo dice el primer elemento, porque después\n",
    "        //se sale del bucle\n",
    "    }    \n",
    "    console.log(coches[i]);\n",
    "    i++;\n",
    "}\n",
    "\n",
    "i = 0;\n",
    "\n",
    "while (coches[i]) { \n",
    "    if ( i === 1 ){\n",
    "        continue; //con esto sólo muestra Ford\n",
    "    }    \n",
    "    console.log(coches[i]);\n",
    "    i++;\n",
    "}"
   ]
  },
  {
   "cell_type": "code",
   "execution_count": 1,
   "metadata": {},
   "outputs": [
    {
     "name": "stderr",
     "output_type": "stream",
     "text": [
      "Do While\n"
     ]
    },
    {
     "name": "stdout",
     "output_type": "stream",
     "text": [
      "Ford\n",
      "Mazda\n",
      "Honda\n",
      "Toyota\n"
     ]
    },
    {
     "data": {
      "text/plain": [
       "3"
      ]
     },
     "execution_count": 1,
     "metadata": {},
     "output_type": "execute_result"
    }
   ],
   "source": [
    "\n",
    "const coches = ['Ford', 'Mazda', 'Honda', 'Toyota'];\n",
    "console.warn('Do While');\n",
    "let j = 0;\n",
    "do {\n",
    "    console.log( coches[j]); //Aquí entra siempre la primera vez sin\n",
    "    //comprobación\n",
    "    j++;\n",
    "}while(coches[j]);"
   ]
  },
  {
   "cell_type": "markdown",
   "metadata": {},
   "source": [
    "## For, For in, For of"
   ]
  },
  {
   "cell_type": "code",
   "execution_count": 20,
   "metadata": {},
   "outputs": [
    {
     "name": "stderr",
     "output_type": "stream",
     "text": [
      "For tradicional\n"
     ]
    },
    {
     "name": "stdout",
     "output_type": "stream",
     "text": [
      "Batman\n",
      "Superman\n",
      "Mujer maravilla\n",
      "Aquaman\n",
      "Batman\n",
      "Superman\n",
      "Mujer maravilla\n",
      "Aquaman\n",
      "Batman\n",
      "Superman\n",
      "Mujer maravilla\n",
      "Aquaman\n"
     ]
    },
    {
     "name": "stderr",
     "output_type": "stream",
     "text": [
      "For in\n",
      "For of\n"
     ]
    }
   ],
   "source": [
    "\n",
    "const heroes = ['Batman', 'Superman', 'Mujer maravilla','Aquaman'];\n",
    "\n",
    "console.warn('For tradicional');\n",
    "\n",
    "for (let i = 0; i<heroes.length; i++) {\n",
    "    console.log( heroes[i] );\n",
    "}\n",
    "\n",
    "console.warn('For in');\n",
    "\n",
    "for (let i in heroes) {\n",
    "    console.log( heroes[i] );\n",
    "}\n",
    "\n",
    "console.warn('For of');\n",
    "\n",
    "for( let heroe of heroes) {\n",
    "    console.log(heroe);\n",
    "}"
   ]
  },
  {
   "cell_type": "code",
   "execution_count": null,
   "metadata": {},
   "outputs": [],
   "source": []
  }
 ],
 "metadata": {
  "kernelspec": {
   "display_name": "JavaScript (Node.js)",
   "language": "javascript",
   "name": "javascript"
  },
  "language_info": {
   "file_extension": ".js",
   "mimetype": "application/javascript",
   "name": "javascript",
   "version": "20.17.0"
  },
  "orig_nbformat": 4
 },
 "nbformat": 4,
 "nbformat_minor": 2
}
